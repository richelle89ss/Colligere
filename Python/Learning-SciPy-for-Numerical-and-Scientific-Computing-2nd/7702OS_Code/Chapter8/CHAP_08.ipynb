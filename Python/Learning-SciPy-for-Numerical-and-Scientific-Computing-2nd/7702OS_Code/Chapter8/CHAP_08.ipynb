{
 "metadata": {
  "name": "",
  "signature": "sha256:8688646a37fd21d7b4c39ca96484edc44fbc9a313dafbe687e830b3906ddfce6"
 },
 "nbformat": 3,
 "nbformat_minor": 0,
 "worksheets": [
  {
   "cells": [
    {
     "cell_type": "heading",
     "level": 1,
     "metadata": {},
     "source": [
      "<center><font color=red>Learning SciPy for Numerical and Scientific\n",
      "Computing</font></center>"
     ]
    },
    {
     "cell_type": "markdown",
     "metadata": {},
     "source": [
      ">###Content under [Creative Commons Attribution license CC-BY 4.0](http://creativecommons.org/licenses/by/4.0/), [code under MIT license (c)](http://en.wikipedia.org/wiki/MIT_License)2014 Sergio Rojas (srojas@usb.ve) and Erik A Christensen (erikcny@aol.com).###"
     ]
    },
    {
     "cell_type": "heading",
     "level": 2,
     "metadata": {},
     "source": [
      "<b><font color='red'>\n",
      "    NOTE: This IPython notebook should be read alonside the corresponding chapter in the book, where each piece of code is fully explained.\n",
      "    </font></b>\n",
      "<br>"
     ]
    },
    {
     "cell_type": "heading",
     "level": 1,
     "metadata": {},
     "source": [
      "<center>Chapter 8. Interaction with Other Languages</center>"
     ]
    },
    {
     "cell_type": "heading",
     "level": 2,
     "metadata": {},
     "source": [
      "Fortran"
     ]
    },
    {
     "cell_type": "markdown",
     "metadata": {},
     "source": [
      "[Using Fortran and C code with Python](http://nbviewer.ipython.org/github/jrjohansson/scientific-python-lectures/blob/master/Lecture-6A-Fortran-and-C.ipynb)<br>\n",
      "\n",
      "[F2PY Users Guide and Reference Manual](http://docs.scipy.org/doc/numpy-dev/f2py/)<br>\n",
      "\n",
      "[Cookbook / F2Py](http://wiki.scipy.org/Cookbook/F2Py)<br>\n",
      "\n",
      "[Advanced F2PY usages](http://docs.scipy.org/doc/numpy-dev/f2py/advanced.html)<br>"
     ]
    },
    {
     "cell_type": "markdown",
     "metadata": {},
     "source": [
      "<b><font color=red>Please, check the book to get a full explanation of what is done by the following code and what its output represents</font></b>"
     ]
    },
    {
     "cell_type": "code",
     "collapsed": false,
     "input": [
      "%%file primefactors.f90\n",
      "! File  primefactors.f90\n",
      "\n",
      "SUBROUTINE PRIMEFACTORS(num, factors, f)\n",
      "  IMPLICIT NONE\n",
      "  INTEGER, INTENT(IN) :: num  !input number\n",
      "  INTEGER,INTENT(OUT), DIMENSION((num/2))::factors \n",
      "  INTEGER, INTENT(INOUT) :: f\n",
      "  INTEGER :: i, n\n",
      "  i = 2  \n",
      "  f = 1  \n",
      "  n = num\n",
      "  DO\n",
      "    IF (MOD(n,i) == 0) THEN \n",
      "      factors(f) = i\n",
      "      f = f+1\n",
      "      n = n/i\n",
      "    ELSE\n",
      "      i = i+1\n",
      "    END IF\n",
      "    IF (n == 1) THEN    \n",
      "      f = f-1    \n",
      "      EXIT\n",
      "    END IF\n",
      "  END DO\n",
      "END SUBROUTINE PRIMEFACTORS\n",
      "\n"
     ],
     "language": "python",
     "metadata": {},
     "outputs": [
      {
       "output_type": "stream",
       "stream": "stdout",
       "text": [
        "Overwriting primefactors.f90\n"
       ]
      }
     ],
     "prompt_number": 13
    },
    {
     "cell_type": "markdown",
     "metadata": {},
     "source": [
      "Generate a python module using `f2py`:"
     ]
    },
    {
     "cell_type": "code",
     "collapsed": false,
     "input": [
      "!f2py -c -m primefactors primefactors.f90"
     ],
     "language": "python",
     "metadata": {},
     "outputs": [
      {
       "output_type": "stream",
       "stream": "stdout",
       "text": [
        "\u001b[39mrunning build\u001b[0m\r\n",
        "\u001b[39mrunning config_cc\u001b[0m\r\n",
        "\u001b[39munifing config_cc, config, build_clib, build_ext, build commands --compiler options\u001b[0m\r\n",
        "\u001b[39mrunning config_fc\u001b[0m\r\n",
        "\u001b[39munifing config_fc, config, build_clib, build_ext, build commands --fcompiler options\u001b[0m\r\n",
        "\u001b[39mrunning build_src\u001b[0m\r\n",
        "\u001b[39mbuild_src\u001b[0m\r\n",
        "\u001b[39mbuilding extension \"primefactors\" sources\u001b[0m\r\n",
        "\u001b[39mf2py options: []\u001b[0m\r\n",
        "\u001b[39mf2py:> /tmp/tmpUiqBcO/src.linux-x86_64-2.7/primefactorsmodule.c\u001b[0m\r\n",
        "\u001b[39mcreating /tmp/tmpUiqBcO/src.linux-x86_64-2.7\u001b[0m\r\n",
        "Reading fortran codes...\r\n",
        "\tReading file 'primefactors.f90' (format:free)\r\n",
        "Post-processing...\r\n",
        "\tBlock: primefactors\r\n",
        "\t\t\tBlock: primefactors\r\n",
        "Post-processing (stage 2)...\r\n",
        "Building modules...\r\n",
        "\tBuilding module \"primefactors\"...\r\n",
        "\t\tConstructing wrapper function \"primefactors\"...\r\n",
        "\t\t  factors = primefactors(num,f)\r\n",
        "\tWrote C/API module \"primefactors\" to file \"/tmp/tmpUiqBcO/src.linux-x86_64-2.7/primefactorsmodule.c\"\r\n",
        "\u001b[39m  adding '/tmp/tmpUiqBcO/src.linux-x86_64-2.7/fortranobject.c' to sources.\u001b[0m\r\n",
        "\u001b[39m  adding '/tmp/tmpUiqBcO/src.linux-x86_64-2.7' to include_dirs.\u001b[0m\r\n",
        "\u001b[39mcopying /home/srojas/myProg/Anaconda/lib/python2.7/site-packages/numpy/f2py/src/fortranobject.c -> /tmp/tmpUiqBcO/src.linux-x86_64-2.7\u001b[0m\r\n",
        "\u001b[39mcopying /home/srojas/myProg/Anaconda/lib/python2.7/site-packages/numpy/f2py/src/fortranobject.h -> /tmp/tmpUiqBcO/src.linux-x86_64-2.7\u001b[0m\r\n",
        "\u001b[39mbuild_src: building npy-pkg config files\u001b[0m\r\n",
        "\u001b[39mrunning build_ext\u001b[0m\r\n",
        "\u001b[39mcustomize UnixCCompiler\u001b[0m\r\n",
        "\u001b[39mcustomize UnixCCompiler using build_ext\u001b[0m\r\n",
        "\u001b[39mcustomize Gnu95FCompiler\u001b[0m\r\n",
        "\u001b[39mFound executable /usr/bin/gfortran\u001b[0m\r\n",
        "\u001b[39mcustomize Gnu95FCompiler\u001b[0m\r\n"
       ]
      },
      {
       "output_type": "stream",
       "stream": "stdout",
       "text": [
        "\u001b[39mcustomize Gnu95FCompiler using build_ext\u001b[0m\r\n",
        "\u001b[39mbuilding 'primefactors' extension\u001b[0m\r\n",
        "\u001b[39mcompiling C sources\u001b[0m\r\n",
        "\u001b[39mC compiler: gcc -pthread -fno-strict-aliasing -g -O2 -DNDEBUG -g -fwrapv -O3 -Wall -Wstrict-prototypes -fPIC\r\n",
        "\u001b[0m\r\n",
        "\u001b[39mcreating /tmp/tmpUiqBcO/tmp\u001b[0m\r\n",
        "\u001b[39mcreating /tmp/tmpUiqBcO/tmp/tmpUiqBcO\u001b[0m\r\n",
        "\u001b[39mcreating /tmp/tmpUiqBcO/tmp/tmpUiqBcO/src.linux-x86_64-2.7\u001b[0m\r\n",
        "\u001b[39mcompile options: '-I/tmp/tmpUiqBcO/src.linux-x86_64-2.7 -I/home/srojas/myProg/Anaconda/lib/python2.7/site-packages/numpy/core/include -I/home/srojas/myProg/Anaconda/include/python2.7 -c'\u001b[0m\r\n",
        "\u001b[39mgcc: /tmp/tmpUiqBcO/src.linux-x86_64-2.7/fortranobject.c\u001b[0m\r\n",
        "In file included from /home/srojas/myProg/Anaconda/lib/python2.7/site-packages/numpy/core/include/numpy/ndarraytypes.h:1804:0,\r\n",
        "                 from /home/srojas/myProg/Anaconda/lib/python2.7/site-packages/numpy/core/include/numpy/ndarrayobject.h:17,\r\n",
        "                 from /home/srojas/myProg/Anaconda/lib/python2.7/site-packages/numpy/core/include/numpy/arrayobject.h:4,\r\n",
        "                 from /tmp/tmpUiqBcO/src.linux-x86_64-2.7/fortranobject.h:13,\r\n",
        "                 from /tmp/tmpUiqBcO/src.linux-x86_64-2.7/fortranobject.c:2:\r\n",
        "/home/srojas/myProg/Anaconda/lib/python2.7/site-packages/numpy/core/include/numpy/npy_1_7_deprecated_api.h:15:2: warning: #warning \"Using deprecated NumPy API, disable it by \" \"#defining NPY_NO_DEPRECATED_API NPY_1_7_API_VERSION\" [-Wcpp]\r\n"
       ]
      },
      {
       "output_type": "stream",
       "stream": "stdout",
       "text": [
        "\u001b[39mgcc: /tmp/tmpUiqBcO/src.linux-x86_64-2.7/primefactorsmodule.c\u001b[0m\r\n"
       ]
      },
      {
       "output_type": "stream",
       "stream": "stdout",
       "text": [
        "In file included from /home/srojas/myProg/Anaconda/lib/python2.7/site-packages/numpy/core/include/numpy/ndarraytypes.h:1804:0,\r\n",
        "                 from /home/srojas/myProg/Anaconda/lib/python2.7/site-packages/numpy/core/include/numpy/ndarrayobject.h:17,\r\n",
        "                 from /home/srojas/myProg/Anaconda/lib/python2.7/site-packages/numpy/core/include/numpy/arrayobject.h:4,\r\n",
        "                 from /tmp/tmpUiqBcO/src.linux-x86_64-2.7/fortranobject.h:13,\r\n",
        "                 from /tmp/tmpUiqBcO/src.linux-x86_64-2.7/primefactorsmodule.c:18:\r\n",
        "/home/srojas/myProg/Anaconda/lib/python2.7/site-packages/numpy/core/include/numpy/npy_1_7_deprecated_api.h:15:2: warning: #warning \"Using deprecated NumPy API, disable it by \" \"#defining NPY_NO_DEPRECATED_API NPY_1_7_API_VERSION\" [-Wcpp]\r\n",
        "/tmp/tmpUiqBcO/src.linux-x86_64-2.7/primefactorsmodule.c:144:12: warning: \u2018f2py_size\u2019 defined but not used [-Wunused-function]\r\n"
       ]
      },
      {
       "output_type": "stream",
       "stream": "stdout",
       "text": [
        "\u001b[39mcompiling Fortran sources\u001b[0m\r\n",
        "\u001b[39mFortran f77 compiler: /usr/bin/gfortran -Wall -g -ffixed-form -fno-second-underscore -fPIC -O3 -funroll-loops\r\n",
        "Fortran f90 compiler: /usr/bin/gfortran -Wall -g -fno-second-underscore -fPIC -O3 -funroll-loops\r\n",
        "Fortran fix compiler: /usr/bin/gfortran -Wall -g -ffixed-form -fno-second-underscore -Wall -g -fno-second-underscore -fPIC -O3 -funroll-loops\u001b[0m\r\n",
        "\u001b[39mcompile options: '-I/tmp/tmpUiqBcO/src.linux-x86_64-2.7 -I/home/srojas/myProg/Anaconda/lib/python2.7/site-packages/numpy/core/include -I/home/srojas/myProg/Anaconda/include/python2.7 -c'\u001b[0m\r\n",
        "\u001b[39mgfortran:f90: primefactors.f90\u001b[0m\r\n",
        "\u001b[39m/usr/bin/gfortran -Wall -g -Wall -g -shared /tmp/tmpUiqBcO/tmp/tmpUiqBcO/src.linux-x86_64-2.7/primefactorsmodule.o /tmp/tmpUiqBcO/tmp/tmpUiqBcO/src.linux-x86_64-2.7/fortranobject.o /tmp/tmpUiqBcO/primefactors.o -L/home/srojas/myProg/Anaconda/lib -lpython2.7 -lgfortran -o ./primefactors.so\u001b[0m\r\n",
        "Removing build directory /tmp/tmpUiqBcO\r\n"
       ]
      }
     ],
     "prompt_number": 14
    },
    {
     "cell_type": "code",
     "collapsed": false,
     "input": [
      "import primefactors"
     ],
     "language": "python",
     "metadata": {},
     "outputs": [],
     "prompt_number": 15
    },
    {
     "cell_type": "code",
     "collapsed": false,
     "input": [
      "primefactors.primefactors(6,1)"
     ],
     "language": "python",
     "metadata": {},
     "outputs": [
      {
       "metadata": {},
       "output_type": "pyout",
       "prompt_number": 16,
       "text": [
        "array([2, 3, 0], dtype=int32)"
       ]
      }
     ],
     "prompt_number": 16
    },
    {
     "cell_type": "markdown",
     "metadata": {},
     "source": [
      "Example of a python script that use the module:"
     ]
    },
    {
     "cell_type": "code",
     "collapsed": false,
     "input": [
      "%%file primefactors.py\n",
      "import primefactors\n",
      "\n",
      "print(primefactors.primefactors(6,1))"
     ],
     "language": "python",
     "metadata": {},
     "outputs": [
      {
       "output_type": "stream",
       "stream": "stdout",
       "text": [
        "Overwriting primefactors.py\n"
       ]
      }
     ],
     "prompt_number": 17
    },
    {
     "cell_type": "code",
     "collapsed": false,
     "input": [
      "# run the script\n",
      "!python primefactors.py"
     ],
     "language": "python",
     "metadata": {},
     "outputs": [
      {
       "output_type": "stream",
       "stream": "stdout",
       "text": [
        "[2 3 0]\r\n"
       ]
      }
     ],
     "prompt_number": 18
    },
    {
     "cell_type": "heading",
     "level": 2,
     "metadata": {},
     "source": [
      "C/C++"
     ]
    },
    {
     "cell_type": "markdown",
     "metadata": {},
     "source": [
      "[Using Fortran and C code with Python](http://nbviewer.ipython.org/github/jrjohansson/scientific-python-lectures/blob/master/Lecture-6A-Fortran-and-C.ipynb)<br>\n",
      "\n",
      "[Weave (scipy.weave)](http://docs.scipy.org/doc/scipy-0.14.0/reference/tutorial/weave.html)<br>\n",
      "\n",
      "[Weave](http://wiki.scipy.org/Weave)<br>"
     ]
    },
    {
     "cell_type": "markdown",
     "metadata": {},
     "source": [
      "<b><font color=red>Please, check the book to get a full explanation of what is done by the following code and what its output represents</font></b>"
     ]
    },
    {
     "cell_type": "code",
     "collapsed": false,
     "input": [
      "import scipy.weave\n",
      "name = 'Francisco'\n",
      "pin = 1234\n",
      "code = 'std::cout << name << \"---PIN: \" '\n",
      "code+= '<< std::hex << pin << std::endl;'"
     ],
     "language": "python",
     "metadata": {},
     "outputs": [],
     "prompt_number": 19
    },
    {
     "cell_type": "code",
     "collapsed": false,
     "input": [
      "print(code)"
     ],
     "language": "python",
     "metadata": {},
     "outputs": [
      {
       "output_type": "stream",
       "stream": "stdout",
       "text": [
        "std::cout << name << \"---PIN: \" << std::hex << pin << std::endl;\n"
       ]
      }
     ],
     "prompt_number": 20
    },
    {
     "cell_type": "code",
     "collapsed": false,
     "input": [
      "arg_names = ['name','pin']"
     ],
     "language": "python",
     "metadata": {},
     "outputs": [],
     "prompt_number": 21
    },
    {
     "cell_type": "code",
     "collapsed": false,
     "input": [
      "scipy.weave.inline(code, arg_names)"
     ],
     "language": "python",
     "metadata": {},
     "outputs": [],
     "prompt_number": 23
    },
    {
     "cell_type": "markdown",
     "metadata": {},
     "source": [
      "<b><font color=blue>The output might be seen at the terminal, from where the notebook was started</font></b>"
     ]
    },
    {
     "cell_type": "heading",
     "level": 2,
     "metadata": {},
     "source": [
      "<center>\n",
      "This is the end of the working codes shown and thoroughly discussed in Chapter 8 of the book <font color=red>Learning SciPy for Numerical and Scientific Computing</font>\n",
      "</center>"
     ]
    },
    {
     "cell_type": "markdown",
     "metadata": {},
     "source": [
      ">###Content under [Creative Commons Attribution license CC-BY 4.0](http://creativecommons.org/licenses/by/4.0/), [code under MIT license (c)](http://en.wikipedia.org/wiki/MIT_License)2014 Sergio Rojas (srojas@usb.ve) and Erik A Christensen (erikcny@aol.com).###"
     ]
    }
   ],
   "metadata": {}
  }
 ]
}