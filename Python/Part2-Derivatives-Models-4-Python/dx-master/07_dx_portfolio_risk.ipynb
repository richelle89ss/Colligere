{
 "cells": [
  {
   "cell_type": "markdown",
   "metadata": {},
   "source": [
    "<img src=\"http://hilpisch.com/tpq_logo.png\" alt=\"The Python Quants\" width=\"45%\" align=\"right\" border=\"4\">"
   ]
  },
  {
   "cell_type": "markdown",
   "metadata": {},
   "source": [
    "# Derivatives Portfolio Risk Statistics"
   ]
  },
  {
   "cell_type": "markdown",
   "metadata": {},
   "source": [
    "From a risk management perspective it is important to know **how sensitive derivatives portfolios are** with regard to certain parameter values (market quotes, model assumptions, etc.). This part illustrates how to generate certain **risk reports** for `derivatives_portfolio` objects."
   ]
  },
  {
   "cell_type": "code",
   "execution_count": 1,
   "metadata": {
    "collapsed": true
   },
   "outputs": [],
   "source": [
    "import warnings; warnings.simplefilter('ignore')"
   ]
  },
  {
   "cell_type": "code",
   "execution_count": 2,
   "metadata": {
    "collapsed": false
   },
   "outputs": [],
   "source": [
    "import dx\n",
    "import datetime as dt\n",
    "import time\n",
    "import numpy as np"
   ]
  },
  {
   "cell_type": "markdown",
   "metadata": {},
   "source": [
    "## Risk Factors"
   ]
  },
  {
   "cell_type": "markdown",
   "metadata": {},
   "source": [
    "The example is based on **two risk factors**, both modeled as geometric Brownian motions."
   ]
  },
  {
   "cell_type": "code",
   "execution_count": 3,
   "metadata": {
    "collapsed": false
   },
   "outputs": [],
   "source": [
    "# constant short rate\n",
    "r = dx.constant_short_rate('r', 0.01)"
   ]
  },
  {
   "cell_type": "code",
   "execution_count": 4,
   "metadata": {
    "collapsed": false
   },
   "outputs": [],
   "source": [
    "# market environment\n",
    "me_gbm_1 = dx.market_environment('gbm_1', dt.datetime(2015, 1, 1))"
   ]
  },
  {
   "cell_type": "code",
   "execution_count": 5,
   "metadata": {
    "collapsed": false
   },
   "outputs": [],
   "source": [
    "# geometric Brownian motion\n",
    "me_gbm_1.add_constant('initial_value', 40.)\n",
    "me_gbm_1.add_constant('volatility', 0.2) \n",
    "me_gbm_1.add_constant('currency', 'EUR')\n",
    "me_gbm_1.add_constant('model', 'gbm')"
   ]
  },
  {
   "cell_type": "code",
   "execution_count": 6,
   "metadata": {
    "collapsed": false
   },
   "outputs": [],
   "source": [
    "me_gbm_2 = dx.market_environment('gbm_2', me_gbm_1.pricing_date)"
   ]
  },
  {
   "cell_type": "code",
   "execution_count": 7,
   "metadata": {
    "collapsed": false
   },
   "outputs": [],
   "source": [
    "# valuation environment\n",
    "val_env = dx.market_environment('val_env', dt.datetime(2015, 1, 1))\n",
    "val_env.add_constant('paths', 25000)\n",
    "    # 25,000 paths\n",
    "val_env.add_constant('frequency', 'W')\n",
    "    # weekly frequency\n",
    "val_env.add_curve('discount_curve', r)\n",
    "val_env.add_constant('starting_date', dt.datetime(2015, 1, 1))\n",
    "val_env.add_constant('final_date', dt.datetime(2015, 12, 31))"
   ]
  },
  {
   "cell_type": "code",
   "execution_count": 8,
   "metadata": {
    "collapsed": false
   },
   "outputs": [],
   "source": [
    "# add valuation environment to market environments\n",
    "me_gbm_1.add_environment(val_env)\n",
    "me_gbm_2.add_environment(me_gbm_1)\n",
    "me_gbm_2.add_constant('initial_value', 40.)\n",
    "me_gbm_2.add_constant('volatility', 0.5)\n",
    "  # higher volatility"
   ]
  },
  {
   "cell_type": "code",
   "execution_count": 9,
   "metadata": {
    "collapsed": false
   },
   "outputs": [],
   "source": [
    "risk_factors = {'gbm_1' : me_gbm_1, 'gbm_2' : me_gbm_2}\n",
    "  # market with two risk factors"
   ]
  },
  {
   "cell_type": "markdown",
   "metadata": {},
   "source": [
    "## Derivatives Positions"
   ]
  },
  {
   "cell_type": "markdown",
   "metadata": {},
   "source": [
    "We are going to model **total of 6 derivatives positions**."
   ]
  },
  {
   "cell_type": "markdown",
   "metadata": {},
   "source": [
    "### Market Environment"
   ]
  },
  {
   "cell_type": "markdown",
   "metadata": {},
   "source": [
    "All derivatives instruments (positions) share the same `market_environment` object."
   ]
  },
  {
   "cell_type": "code",
   "execution_count": 10,
   "metadata": {
    "collapsed": false
   },
   "outputs": [],
   "source": [
    "# market environment for the options\n",
    "me_option = dx.market_environment('put', dt.datetime(2015, 1, 1))\n",
    "me_option.add_constant('maturity', dt.datetime(2015, 12, 31))\n",
    "me_option.add_constant('currency', 'EUR')\n",
    "me_option.add_environment(val_env)"
   ]
  },
  {
   "cell_type": "markdown",
   "metadata": {},
   "source": [
    "### Derivatives Positions"
   ]
  },
  {
   "cell_type": "markdown",
   "metadata": {},
   "source": [
    "Two different kinds of derivatives make up the portfolio---an **American put option** and a **European maximum call option**. Both types of derivatives populate three positions, respectively."
   ]
  },
  {
   "cell_type": "code",
   "execution_count": 11,
   "metadata": {
    "collapsed": false
   },
   "outputs": [],
   "source": [
    "positions = {}\n",
    "half = 3  # 2 times that many options\n",
    "for i in range(half):\n",
    "    name = 'am_put_pos_%s' %i  # same name for position key and name\n",
    "    positions[name] = dx.derivatives_position(\n",
    "                        name=name,\n",
    "                        quantity=1,\n",
    "                        underlyings=['gbm_1'],\n",
    "                        mar_env=me_option,\n",
    "                        otype='American single',\n",
    "                        payoff_func='np.maximum(instrument_values - 40., 0)')\n",
    "\n",
    "multi_payoff = \"np.maximum(np.maximum(maturity_value['gbm_1'], maturity_value['gbm_2']) - 40., 0)\"\n",
    "for i in range(half, 2 * half):\n",
    "    name = 'multi_pos_%s' %i  # same name for position key and name\n",
    "    positions[name] = dx.derivatives_position(\n",
    "                        name=name,\n",
    "                        quantity=1,\n",
    "                        underlyings=['gbm_1', 'gbm_2'],\n",
    "                        mar_env=me_option,\n",
    "                        otype='European multi',\n",
    "                        payoff_func=multi_payoff)"
   ]
  },
  {
   "cell_type": "markdown",
   "metadata": {},
   "source": [
    "## Portfolio Modeling and Valuation"
   ]
  },
  {
   "cell_type": "markdown",
   "metadata": {},
   "source": [
    "The instantiation of the `derivatives_portfolio` object is as usual."
   ]
  },
  {
   "cell_type": "code",
   "execution_count": 12,
   "metadata": {
    "collapsed": false
   },
   "outputs": [],
   "source": [
    "portfolio = dx.derivatives_portfolio(\n",
    "                        name='portfolio',\n",
    "                        positions=positions,\n",
    "                        val_env=val_env,\n",
    "                        risk_factors=risk_factors,\n",
    "                        correlations=None,\n",
    "                        parallel=False)"
   ]
  },
  {
   "cell_type": "code",
   "execution_count": 13,
   "metadata": {
    "collapsed": false
   },
   "outputs": [
    {
     "name": "stdout",
     "output_type": "stream",
     "text": [
      "Total\n",
      "pos_value    41.012\n",
      "dtype: float64\n",
      "CPU times: user 2.54 s, sys: 7.71 s, total: 10.3 s\n",
      "Wall time: 1.95 s\n"
     ]
    }
   ],
   "source": [
    "%time res = portfolio.get_values(fixed_seed=True)"
   ]
  },
  {
   "cell_type": "markdown",
   "metadata": {},
   "source": [
    "Here, the **value estimates** from the Monte Carlo simulation and valuation."
   ]
  },
  {
   "cell_type": "code",
   "execution_count": 14,
   "metadata": {
    "collapsed": false
   },
   "outputs": [
    {
     "data": {
      "text/html": [
       "<div>\n",
       "<table border=\"1\" class=\"dataframe\">\n",
       "  <thead>\n",
       "    <tr style=\"text-align: right;\">\n",
       "      <th></th>\n",
       "      <th>position</th>\n",
       "      <th>name</th>\n",
       "      <th>quantity</th>\n",
       "      <th>otype</th>\n",
       "      <th>risk_facts</th>\n",
       "      <th>value</th>\n",
       "      <th>currency</th>\n",
       "      <th>pos_value</th>\n",
       "    </tr>\n",
       "  </thead>\n",
       "  <tbody>\n",
       "    <tr>\n",
       "      <th>0</th>\n",
       "      <td>am_put_pos_2</td>\n",
       "      <td>am_put_pos_2</td>\n",
       "      <td>1</td>\n",
       "      <td>American single</td>\n",
       "      <td>[gbm_1]</td>\n",
       "      <td>3.308</td>\n",
       "      <td>EUR</td>\n",
       "      <td>3.308</td>\n",
       "    </tr>\n",
       "    <tr>\n",
       "      <th>1</th>\n",
       "      <td>am_put_pos_0</td>\n",
       "      <td>am_put_pos_0</td>\n",
       "      <td>1</td>\n",
       "      <td>American single</td>\n",
       "      <td>[gbm_1]</td>\n",
       "      <td>3.311</td>\n",
       "      <td>EUR</td>\n",
       "      <td>3.311</td>\n",
       "    </tr>\n",
       "    <tr>\n",
       "      <th>2</th>\n",
       "      <td>am_put_pos_1</td>\n",
       "      <td>am_put_pos_1</td>\n",
       "      <td>1</td>\n",
       "      <td>American single</td>\n",
       "      <td>[gbm_1]</td>\n",
       "      <td>3.319</td>\n",
       "      <td>EUR</td>\n",
       "      <td>3.319</td>\n",
       "    </tr>\n",
       "    <tr>\n",
       "      <th>3</th>\n",
       "      <td>multi_pos_3</td>\n",
       "      <td>multi_pos_3</td>\n",
       "      <td>1</td>\n",
       "      <td>European multi</td>\n",
       "      <td>[gbm_1, gbm_2]</td>\n",
       "      <td>10.358</td>\n",
       "      <td>EUR</td>\n",
       "      <td>10.358</td>\n",
       "    </tr>\n",
       "    <tr>\n",
       "      <th>4</th>\n",
       "      <td>multi_pos_4</td>\n",
       "      <td>multi_pos_4</td>\n",
       "      <td>1</td>\n",
       "      <td>European multi</td>\n",
       "      <td>[gbm_1, gbm_2]</td>\n",
       "      <td>10.358</td>\n",
       "      <td>EUR</td>\n",
       "      <td>10.358</td>\n",
       "    </tr>\n",
       "    <tr>\n",
       "      <th>5</th>\n",
       "      <td>multi_pos_5</td>\n",
       "      <td>multi_pos_5</td>\n",
       "      <td>1</td>\n",
       "      <td>European multi</td>\n",
       "      <td>[gbm_1, gbm_2]</td>\n",
       "      <td>10.358</td>\n",
       "      <td>EUR</td>\n",
       "      <td>10.358</td>\n",
       "    </tr>\n",
       "  </tbody>\n",
       "</table>\n",
       "</div>"
      ],
      "text/plain": [
       "       position          name  quantity            otype      risk_facts  \\\n",
       "0  am_put_pos_2  am_put_pos_2         1  American single         [gbm_1]   \n",
       "1  am_put_pos_0  am_put_pos_0         1  American single         [gbm_1]   \n",
       "2  am_put_pos_1  am_put_pos_1         1  American single         [gbm_1]   \n",
       "3   multi_pos_3   multi_pos_3         1   European multi  [gbm_1, gbm_2]   \n",
       "4   multi_pos_4   multi_pos_4         1   European multi  [gbm_1, gbm_2]   \n",
       "5   multi_pos_5   multi_pos_5         1   European multi  [gbm_1, gbm_2]   \n",
       "\n",
       "    value currency  pos_value  \n",
       "0   3.308      EUR      3.308  \n",
       "1   3.311      EUR      3.311  \n",
       "2   3.319      EUR      3.319  \n",
       "3  10.358      EUR     10.358  \n",
       "4  10.358      EUR     10.358  \n",
       "5  10.358      EUR     10.358  "
      ]
     },
     "execution_count": 14,
     "metadata": {},
     "output_type": "execute_result"
    }
   ],
   "source": [
    "res"
   ]
  },
  {
   "cell_type": "markdown",
   "metadata": {},
   "source": [
    "## Portfolio Risk Reports"
   ]
  },
  {
   "cell_type": "markdown",
   "metadata": {},
   "source": [
    "Portfolio risk reports are meant to provide a broad overview of how sensitive the value of a portfolio is with regard to the value of certain input parameters (market data, model parameters). While **Greeks** provide the same information with regard to marginal changes in the input paramters, risk reports provide a **wider range input-output (parameter-portfolio value) combinations**."
   ]
  },
  {
   "cell_type": "markdown",
   "metadata": {},
   "source": [
    "### No Correlation"
   ]
  },
  {
   "cell_type": "markdown",
   "metadata": {},
   "source": [
    "First, consider the portfolio from before, i.e. **without correlation**."
   ]
  },
  {
   "cell_type": "code",
   "execution_count": 15,
   "metadata": {
    "collapsed": false
   },
   "outputs": [
    {
     "data": {
      "text/plain": [
       "array([[ 1.,  0.],\n",
       "       [ 0.,  1.]])"
      ]
     },
     "execution_count": 15,
     "metadata": {},
     "output_type": "execute_result"
    }
   ],
   "source": [
    "portfolio.val_env.get_list('cholesky_matrix')"
   ]
  },
  {
   "cell_type": "markdown",
   "metadata": {},
   "source": [
    "Calling the method `get_port_risk` and providing a key for the respetive Greek yields sensitivities with regard to all risk factors (here: `gbm_1` and `gbm_2`). "
   ]
  },
  {
   "cell_type": "raw",
   "metadata": {},
   "source": [
    "portfolio.valuation_objects[3].underlying_objects['gbm_1'].update(initial_value=15)"
   ]
  },
  {
   "cell_type": "code",
   "execution_count": 16,
   "metadata": {
    "collapsed": false
   },
   "outputs": [
    {
     "name": "stdout",
     "output_type": "stream",
     "text": [
      "\n",
      "gbm_1\n",
      "0.8 0.9 1.0 1.1 1.2 \n",
      "gbm_2\n",
      "0.8 0.9 1.0 1.1 1.2 \n",
      "\n",
      "\n",
      "CPU times: user 14.9 s, sys: 36.5 s, total: 51.4 s\n",
      "Wall time: 11.2 s\n"
     ]
    }
   ],
   "source": [
    "%%time\n",
    "vegas, benchvalue = portfolio.get_port_risk(Greek='Vega',\n",
    "                                fixed_seed=True)"
   ]
  },
  {
   "cell_type": "markdown",
   "metadata": {},
   "source": [
    "The return object is a pandas `Panel` object."
   ]
  },
  {
   "cell_type": "code",
   "execution_count": 17,
   "metadata": {
    "collapsed": false
   },
   "outputs": [
    {
     "data": {
      "text/plain": [
       "<class 'pandas.core.panel.Panel'>\n",
       "Dimensions: 2 (items) x 5 (major_axis) x 2 (minor_axis)\n",
       "Items axis: gbm_1_Vega to gbm_2_Vega\n",
       "Major_axis axis: 0.8 to 1.2\n",
       "Minor_axis axis: factor to value"
      ]
     },
     "execution_count": 17,
     "metadata": {},
     "output_type": "execute_result"
    }
   ],
   "source": [
    "vegas"
   ]
  },
  {
   "cell_type": "markdown",
   "metadata": {},
   "source": [
    "Using the helper funtion `risk_report` allows the easy, readable printout of the results, i.e. the **portfolio volatility sensitivities**. In this case you can see that, for example, the increase in the first risk fator's (`gbm_1`) volatility by 10% leads to a portfolio value increase bya bit less than 1 currency unit. Decreasing the same input parameter by 10% reduces the portfolio value by a bit less than 1 currency unit."
   ]
  },
  {
   "cell_type": "code",
   "execution_count": 18,
   "metadata": {
    "collapsed": false
   },
   "outputs": [
    {
     "name": "stdout",
     "output_type": "stream",
     "text": [
      "\n",
      "gbm_1_Vega\n",
      "          0.8    0.9    1.0    1.1    1.2\n",
      "factor   0.16   0.18   0.20   0.22   0.24\n",
      "value   32.31  33.25  40.96  35.11  35.99\n",
      "\n",
      "gbm_2_Vega\n",
      "          0.8    0.9    1.0    1.1    1.2\n",
      "factor   0.40   0.45   0.50   0.55   0.60\n",
      "value   29.45  31.82  40.96  36.52  38.86\n"
     ]
    }
   ],
   "source": [
    "dx.risk_report(vegas)"
   ]
  },
  {
   "cell_type": "markdown",
   "metadata": {},
   "source": [
    "Of course, you can generate the same risk report for the **portfolio initial value sensitivities**."
   ]
  },
  {
   "cell_type": "code",
   "execution_count": 19,
   "metadata": {
    "collapsed": false
   },
   "outputs": [
    {
     "name": "stdout",
     "output_type": "stream",
     "text": [
      "\n",
      "gbm_1\n",
      "0.8 0.9 1.0 1.1 1.2 \n",
      "gbm_2\n",
      "0.8 0.9 1.0 1.1 1.2 \n",
      "\n",
      "\n",
      "CPU times: user 14.8 s, sys: 36.2 s, total: 51 s\n",
      "Wall time: 11.2 s\n"
     ]
    }
   ],
   "source": [
    "%time deltas, benchvalue = portfolio.get_port_risk(Greek='Delta', fixed_seed=True)"
   ]
  },
  {
   "cell_type": "markdown",
   "metadata": {},
   "source": [
    "For example, increasing the initial value of the first risk factor (`gbm_1`) by 10% increases the portfolio value by about 11 currency units."
   ]
  },
  {
   "cell_type": "code",
   "execution_count": 20,
   "metadata": {
    "collapsed": false
   },
   "outputs": [
    {
     "name": "stdout",
     "output_type": "stream",
     "text": [
      "\n",
      "gbm_1_Delta\n",
      "          0.8    0.9    1.0    1.1    1.2\n",
      "factor  32.00  36.00  40.00  44.00  48.00\n",
      "value   25.48  28.44  40.96  45.31  61.36\n",
      "\n",
      "gbm_2_Delta\n",
      "          0.8    0.9    1.0   1.1    1.2\n",
      "factor  32.00  36.00  40.00  44.0  48.00\n",
      "value   24.14  28.31  40.96  41.6  50.09\n"
     ]
    }
   ],
   "source": [
    "dx.risk_report(deltas)"
   ]
  },
  {
   "cell_type": "code",
   "execution_count": 21,
   "metadata": {
    "collapsed": false
   },
   "outputs": [
    {
     "name": "stdout",
     "output_type": "stream",
     "text": [
      "\n",
      "gbm_1_Delta\n",
      "0.8   -15.49\n",
      "0.9   -12.53\n",
      "1.0     0.00\n",
      "1.1     4.34\n",
      "1.2    20.39\n",
      "Name: gbm_1_Delta, dtype: float64\n",
      "\n",
      "gbm_2_Delta\n",
      "0.8   -16.83\n",
      "0.9   -12.65\n",
      "1.0     0.00\n",
      "1.1     0.64\n",
      "1.2     9.13\n",
      "Name: gbm_2_Delta, dtype: float64\n"
     ]
    }
   ],
   "source": [
    "dx.risk_report(deltas.ix[:, :, 'value'] - benchvalue)"
   ]
  },
  {
   "cell_type": "markdown",
   "metadata": {},
   "source": [
    "### With Correlation"
   ]
  },
  {
   "cell_type": "markdown",
   "metadata": {},
   "source": [
    "Consider now a **highly negative correlation** case."
   ]
  },
  {
   "cell_type": "code",
   "execution_count": 22,
   "metadata": {
    "collapsed": false
   },
   "outputs": [],
   "source": [
    "correlations = [['gbm_1', 'gbm_2', -0.9]]"
   ]
  },
  {
   "cell_type": "code",
   "execution_count": 23,
   "metadata": {
    "collapsed": false
   },
   "outputs": [],
   "source": [
    "portfolio = dx.derivatives_portfolio(\n",
    "                        'portfolio', positions, val_env,\n",
    "                        risk_factors, correlations, parallel=False)"
   ]
  },
  {
   "cell_type": "code",
   "execution_count": 24,
   "metadata": {
    "collapsed": false
   },
   "outputs": [
    {
     "data": {
      "text/plain": [
       "array([[ 1.        ,  0.        ],\n",
       "       [-0.9       ,  0.43588989]])"
      ]
     },
     "execution_count": 24,
     "metadata": {},
     "output_type": "execute_result"
    }
   ],
   "source": [
    "portfolio.val_env.get_list('cholesky_matrix')"
   ]
  },
  {
   "cell_type": "markdown",
   "metadata": {},
   "source": [
    "Since the value of the European maximum call option is dependent on the risk factor correlation you see a **significant change in this derivative's value estimate**."
   ]
  },
  {
   "cell_type": "code",
   "execution_count": 25,
   "metadata": {
    "collapsed": false
   },
   "outputs": [
    {
     "name": "stdout",
     "output_type": "stream",
     "text": [
      "Total\n",
      "pos_value    44.112\n",
      "dtype: float64\n",
      "CPU times: user 2.48 s, sys: 7.31 s, total: 9.79 s\n",
      "Wall time: 1.75 s\n"
     ]
    },
    {
     "data": {
      "text/html": [
       "<div>\n",
       "<table border=\"1\" class=\"dataframe\">\n",
       "  <thead>\n",
       "    <tr style=\"text-align: right;\">\n",
       "      <th></th>\n",
       "      <th>position</th>\n",
       "      <th>name</th>\n",
       "      <th>quantity</th>\n",
       "      <th>otype</th>\n",
       "      <th>risk_facts</th>\n",
       "      <th>value</th>\n",
       "      <th>currency</th>\n",
       "      <th>pos_value</th>\n",
       "    </tr>\n",
       "  </thead>\n",
       "  <tbody>\n",
       "    <tr>\n",
       "      <th>0</th>\n",
       "      <td>am_put_pos_2</td>\n",
       "      <td>am_put_pos_2</td>\n",
       "      <td>1</td>\n",
       "      <td>American single</td>\n",
       "      <td>[gbm_1]</td>\n",
       "      <td>3.293</td>\n",
       "      <td>EUR</td>\n",
       "      <td>3.293</td>\n",
       "    </tr>\n",
       "    <tr>\n",
       "      <th>1</th>\n",
       "      <td>am_put_pos_0</td>\n",
       "      <td>am_put_pos_0</td>\n",
       "      <td>1</td>\n",
       "      <td>American single</td>\n",
       "      <td>[gbm_1]</td>\n",
       "      <td>3.293</td>\n",
       "      <td>EUR</td>\n",
       "      <td>3.293</td>\n",
       "    </tr>\n",
       "    <tr>\n",
       "      <th>2</th>\n",
       "      <td>am_put_pos_1</td>\n",
       "      <td>am_put_pos_1</td>\n",
       "      <td>1</td>\n",
       "      <td>American single</td>\n",
       "      <td>[gbm_1]</td>\n",
       "      <td>3.293</td>\n",
       "      <td>EUR</td>\n",
       "      <td>3.293</td>\n",
       "    </tr>\n",
       "    <tr>\n",
       "      <th>3</th>\n",
       "      <td>multi_pos_3</td>\n",
       "      <td>multi_pos_3</td>\n",
       "      <td>1</td>\n",
       "      <td>European multi</td>\n",
       "      <td>[gbm_1, gbm_2]</td>\n",
       "      <td>11.411</td>\n",
       "      <td>EUR</td>\n",
       "      <td>11.411</td>\n",
       "    </tr>\n",
       "    <tr>\n",
       "      <th>4</th>\n",
       "      <td>multi_pos_4</td>\n",
       "      <td>multi_pos_4</td>\n",
       "      <td>1</td>\n",
       "      <td>European multi</td>\n",
       "      <td>[gbm_1, gbm_2]</td>\n",
       "      <td>11.411</td>\n",
       "      <td>EUR</td>\n",
       "      <td>11.411</td>\n",
       "    </tr>\n",
       "    <tr>\n",
       "      <th>5</th>\n",
       "      <td>multi_pos_5</td>\n",
       "      <td>multi_pos_5</td>\n",
       "      <td>1</td>\n",
       "      <td>European multi</td>\n",
       "      <td>[gbm_1, gbm_2]</td>\n",
       "      <td>11.411</td>\n",
       "      <td>EUR</td>\n",
       "      <td>11.411</td>\n",
       "    </tr>\n",
       "  </tbody>\n",
       "</table>\n",
       "</div>"
      ],
      "text/plain": [
       "       position          name  quantity            otype      risk_facts  \\\n",
       "0  am_put_pos_2  am_put_pos_2         1  American single         [gbm_1]   \n",
       "1  am_put_pos_0  am_put_pos_0         1  American single         [gbm_1]   \n",
       "2  am_put_pos_1  am_put_pos_1         1  American single         [gbm_1]   \n",
       "3   multi_pos_3   multi_pos_3         1   European multi  [gbm_1, gbm_2]   \n",
       "4   multi_pos_4   multi_pos_4         1   European multi  [gbm_1, gbm_2]   \n",
       "5   multi_pos_5   multi_pos_5         1   European multi  [gbm_1, gbm_2]   \n",
       "\n",
       "    value currency  pos_value  \n",
       "0   3.293      EUR      3.293  \n",
       "1   3.293      EUR      3.293  \n",
       "2   3.293      EUR      3.293  \n",
       "3  11.411      EUR     11.411  \n",
       "4  11.411      EUR     11.411  \n",
       "5  11.411      EUR     11.411  "
      ]
     },
     "execution_count": 25,
     "metadata": {},
     "output_type": "execute_result"
    }
   ],
   "source": [
    "%time portfolio.get_values(fixed_seed=True)"
   ]
  },
  {
   "cell_type": "markdown",
   "metadata": {},
   "source": [
    "Via the `step` parameter, you can influence the  **granularity of the risk report**."
   ]
  },
  {
   "cell_type": "code",
   "execution_count": 26,
   "metadata": {
    "collapsed": false
   },
   "outputs": [
    {
     "name": "stdout",
     "output_type": "stream",
     "text": [
      "\n",
      "gbm_1\n",
      "0.8 0.85 0.9 0.95 1.0 1.05 1.1 1.15 1.2 \n",
      "gbm_2\n",
      "0.8 0.85 0.9 0.95 1.0 1.05 1.1 1.15 1.2 \n",
      "\n",
      "\n",
      "CPU times: user 28.2 s, sys: 1min 12s, total: 1min 41s\n",
      "Wall time: 22.5 s\n"
     ]
    }
   ],
   "source": [
    "%%time \n",
    "deltas, benchvalue = portfolio.get_port_risk(Greek='Delta',\n",
    "                                 fixed_seed=True,\n",
    "                                 step=0.05)"
   ]
  },
  {
   "cell_type": "markdown",
   "metadata": {},
   "source": [
    "In this case, an increase in the intial value of the first risk factor (`gbm_1`) by 10% leads to a **much higher increase**\n",
    "in the portfolio value of about 15 currency units."
   ]
  },
  {
   "cell_type": "code",
   "execution_count": 27,
   "metadata": {
    "collapsed": false
   },
   "outputs": [
    {
     "name": "stdout",
     "output_type": "stream",
     "text": [
      "\n",
      "gbm_1_Delta\n",
      "        0.80   0.85   0.90   0.95   1.00   1.05   1.10   1.15   1.20\n",
      "factor  32.0  34.00  36.00  38.00  40.00  42.00  44.00  46.00  48.00\n",
      "value   27.2  29.65  33.23  38.12  44.11  51.06  58.96  67.64  76.98\n",
      "\n",
      "gbm_2_Delta\n",
      "         0.80   0.85   0.90   0.95   1.00   1.05   1.10  1.15   1.20\n",
      "factor  32.00  34.00  36.00  38.00  40.00  42.00  44.00  46.0  48.00\n",
      "value   31.67  34.38  37.36  40.62  44.11  47.82  51.73  55.8  60.02\n"
     ]
    }
   ],
   "source": [
    "dx.risk_report(deltas)"
   ]
  },
  {
   "cell_type": "code",
   "execution_count": 28,
   "metadata": {
    "collapsed": false
   },
   "outputs": [
    {
     "name": "stdout",
     "output_type": "stream",
     "text": [
      "\n",
      "gbm_1_Delta\n",
      "0.80   -16.92\n",
      "0.85   -14.46\n",
      "0.90   -10.88\n",
      "0.95    -5.99\n",
      "1.00     0.00\n",
      "1.05     6.94\n",
      "1.10    14.85\n",
      "1.15    23.53\n",
      "1.20    32.86\n",
      "Name: gbm_1_Delta, dtype: float64\n",
      "\n",
      "gbm_2_Delta\n",
      "0.80   -12.45\n",
      "0.85    -9.74\n",
      "0.90    -6.75\n",
      "0.95    -3.49\n",
      "1.00     0.00\n",
      "1.05     3.71\n",
      "1.10     7.62\n",
      "1.15    11.69\n",
      "1.20    15.91\n",
      "Name: gbm_2_Delta, dtype: float64\n"
     ]
    }
   ],
   "source": [
    "dx.risk_report(deltas.ix[:, :, 'value'] - benchvalue)"
   ]
  },
  {
   "cell_type": "markdown",
   "metadata": {},
   "source": [
    "**Copyright, License & Disclaimer**\n",
    "\n",
    "&copy; Dr. Yves J. Hilpisch | The Python Quants GmbH\n",
    "\n",
    "DX Analytics (the \"dx library\") is licensed under the GNU Affero General Public License\n",
    "version 3 or later (see [http://www.gnu.org/licenses/](http://www.gnu.org/licenses/)).\n",
    "\n",
    "DX Analytics comes with no representations\n",
    "or warranties, to the extent permitted by applicable law.\n",
    "\n",
    "\n",
    "<img src=\"http://hilpisch.com/tpq_logo.png\" alt=\"The Python Quants\" width=\"35%\" align=\"right\" border=\"0\"><br>\n",
    "\n",
    "[http://tpq.io](http://tpq.io) | [team@tpq.io](mailto:team@tpq.io) | [http://twitter.com/dyjh](http://twitter.com/dyjh)\n",
    "\n",
    "**Quant Platform** |\n",
    "[http://quant-platform.com](http://quant-platform.com)\n",
    "\n",
    "**Derivatives Analytics with Python (Wiley Finance)** |\n",
    "[http://derivatives-analytics-with-python.com](http://derivatives-analytics-with-python.com)\n",
    "\n",
    "**Python for Finance (O'Reilly)** |\n",
    "[http://python-for-finance.com](http://python-for-finance.com)"
   ]
  }
 ],
 "metadata": {
  "kernelspec": {
   "display_name": "Python 2",
   "language": "python",
   "name": "python2"
  },
  "language_info": {
   "codemirror_mode": {
    "name": "ipython",
    "version": 2
   },
   "file_extension": ".py",
   "mimetype": "text/x-python",
   "name": "python",
   "nbconvert_exporter": "python",
   "pygments_lexer": "ipython2",
   "version": "2.7.11"
  }
 },
 "nbformat": 4,
 "nbformat_minor": 0
}
