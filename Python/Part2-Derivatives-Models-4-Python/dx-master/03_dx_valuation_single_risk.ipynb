{
 "cells": [
  {
   "cell_type": "markdown",
   "metadata": {},
   "source": [
    "<img src=\"http://hilpisch.com/tpq_logo.png\" alt=\"The Python Quants\" width=\"45%\" align=\"right\" border=\"4\">"
   ]
  },
  {
   "cell_type": "markdown",
   "metadata": {},
   "source": [
    "# Single-Risk Derivatives Valuation"
   ]
  },
  {
   "cell_type": "markdown",
   "metadata": {},
   "source": [
    "This part introduces into the modeling and valuation of derivatives instruments (contingent claims) based on a single risk factor (e.g. a stock price, stock index level or interest rate). It also shows how to model and value portfolios composed of such instruments. "
   ]
  },
  {
   "cell_type": "code",
   "execution_count": 1,
   "metadata": {
    "collapsed": true
   },
   "outputs": [],
   "source": [
    "import warnings; warnings.simplefilter('ignore')"
   ]
  },
  {
   "cell_type": "code",
   "execution_count": 2,
   "metadata": {
    "collapsed": false
   },
   "outputs": [],
   "source": [
    "from dx import *\n",
    "import seaborn as sns; sns.set()"
   ]
  },
  {
   "cell_type": "markdown",
   "metadata": {},
   "source": [
    "The following **single risk factor valuation classes** are available:\n",
    "\n",
    "* `valuation_mcs_european_single` for derivatives with European exercise\n",
    "* `valuation_mcs_american_single` for derivatives with American/Bermudan exercise"
   ]
  },
  {
   "cell_type": "markdown",
   "metadata": {},
   "source": [
    "## Modeling the Risk Factor"
   ]
  },
  {
   "cell_type": "markdown",
   "metadata": {},
   "source": [
    "Before moving on to the valuation classes, we need to model an instantiate an underlying risk factor, in this case a `geometric_brownian_motion` object. Background information is provided in the respective part of the documentation about model classes."
   ]
  },
  {
   "cell_type": "code",
   "execution_count": 3,
   "metadata": {
    "collapsed": false
   },
   "outputs": [],
   "source": [
    "r = constant_short_rate('r', 0.06)"
   ]
  },
  {
   "cell_type": "code",
   "execution_count": 4,
   "metadata": {
    "collapsed": false
   },
   "outputs": [],
   "source": [
    "me = market_environment('me', dt.datetime(2015, 1, 1))"
   ]
  },
  {
   "cell_type": "code",
   "execution_count": 5,
   "metadata": {
    "collapsed": false
   },
   "outputs": [],
   "source": [
    "me.add_constant('initial_value', 36.)\n",
    "me.add_constant('volatility', 0.2)\n",
    "me.add_constant('final_date', dt.datetime(2015, 12, 31))\n",
    "me.add_constant('currency', 'EUR')\n",
    "me.add_constant('frequency', 'W')\n",
    "me.add_constant('paths', 25000)"
   ]
  },
  {
   "cell_type": "code",
   "execution_count": 6,
   "metadata": {
    "collapsed": false
   },
   "outputs": [],
   "source": [
    "me.add_curve('discount_curve', r)"
   ]
  },
  {
   "cell_type": "code",
   "execution_count": 7,
   "metadata": {
    "collapsed": false
   },
   "outputs": [],
   "source": [
    "gbm = geometric_brownian_motion('gbm', me)"
   ]
  },
  {
   "cell_type": "markdown",
   "metadata": {},
   "source": [
    "## valuation_mcs_european_single"
   ]
  },
  {
   "cell_type": "markdown",
   "metadata": {},
   "source": [
    "The first instrument we value is a European call option written on the single relevant risk factor as embodied by the `gbm` model object. To this end, we add a **maturity date** to the market environment and a **strike price**."
   ]
  },
  {
   "cell_type": "code",
   "execution_count": 8,
   "metadata": {
    "collapsed": false
   },
   "outputs": [],
   "source": [
    "me.add_constant('maturity', dt.datetime(2015, 12, 31))\n",
    "me.add_constant('strike', 40.)"
   ]
  },
  {
   "cell_type": "markdown",
   "metadata": {},
   "source": [
    "To instantiate a the `valuation_mcs_european_single` class, the following information/data is to be provided:\n",
    "\n",
    "* name as a `string` object\n",
    "* instance of a model class\n",
    "* market environment\n",
    "* payoff of the instrument a `string` object and containing \"regular\" Python/NumPy code"
   ]
  },
  {
   "cell_type": "code",
   "execution_count": 9,
   "metadata": {
    "collapsed": false
   },
   "outputs": [],
   "source": [
    "call_eur = valuation_mcs_european_single(\n",
    "                name='call_eur',\n",
    "                underlying=gbm,\n",
    "                mar_env=me,\n",
    "                payoff_func='np.maximum(maturity_value - strike, 0)')"
   ]
  },
  {
   "cell_type": "markdown",
   "metadata": {},
   "source": [
    "In this case, the payoff is that of a regular, plain vanilla European call option. If $T$ is the maturity date, $S_T$ the value of the relevant risk factor at that date and $K$ the strike price, the payoff $h_T$ at maturity of such an option is given by\n",
    "\n",
    "$$\n",
    "h_T = \\max[S_T - K, 0]\n",
    "$$\n",
    "\n",
    "`maturity_value` represents the value vector of the risk factor at maturity. Any other \"sensible\" payoff definition is possible. For instance, the following works as well: "
   ]
  },
  {
   "cell_type": "code",
   "execution_count": 10,
   "metadata": {
    "collapsed": false
   },
   "outputs": [],
   "source": [
    "payoff = 'np.maximum(np.minimum(maturity_value) * 2 - 50, 0)'"
   ]
  },
  {
   "cell_type": "markdown",
   "metadata": {},
   "source": [
    "Other standardized payoff elemenets include `mean_value, max_value` and `min_value` representing maturity value vectors with the pathwise means, maxima and minima. Using these payoff elements allows the easy definition of options with **Asian features**.\n",
    "\n",
    "\n",
    "Having instantiated the valuation class, the `present_value` method returns the present value Monte Carlo estimator for the call option."
   ]
  },
  {
   "cell_type": "code",
   "execution_count": 11,
   "metadata": {
    "collapsed": false
   },
   "outputs": [
    {
     "data": {
      "text/plain": [
       "2.119834"
      ]
     },
     "execution_count": 11,
     "metadata": {},
     "output_type": "execute_result"
    }
   ],
   "source": [
    "call_eur.present_value()"
   ]
  },
  {
   "cell_type": "markdown",
   "metadata": {},
   "source": [
    "Similarly, the `delta` and `vega` methods return the delta and the vega of the option, estimated numerically by a forward difference scheme and Monte Carlo simulation."
   ]
  },
  {
   "cell_type": "code",
   "execution_count": 12,
   "metadata": {
    "collapsed": false
   },
   "outputs": [
    {
     "data": {
      "text/plain": [
       "0.5224"
      ]
     },
     "execution_count": 12,
     "metadata": {},
     "output_type": "execute_result"
    }
   ],
   "source": [
    "call_eur.delta()"
   ]
  },
  {
   "cell_type": "code",
   "execution_count": 13,
   "metadata": {
    "collapsed": false
   },
   "outputs": [
    {
     "data": {
      "text/plain": [
       "14.1882"
      ]
     },
     "execution_count": 13,
     "metadata": {},
     "output_type": "execute_result"
    }
   ],
   "source": [
    "call_eur.vega()"
   ]
  },
  {
   "cell_type": "markdown",
   "metadata": {},
   "source": [
    "This approach allows to work with such a valuation object similar to an analytical valuation formula like the one of Black-Scholes-Merton (1973). For example, you can **estimate and plot present values, deltas, gammas, vegas, thetas and rhos** for a range of different initial values of the risk factor."
   ]
  },
  {
   "cell_type": "code",
   "execution_count": 14,
   "metadata": {
    "collapsed": false
   },
   "outputs": [
    {
     "name": "stdout",
     "output_type": "stream",
     "text": [
      "CPU times: user 13 s, sys: 3.31 s, total: 16.3 s\n",
      "Wall time: 16.4 s\n"
     ]
    }
   ],
   "source": [
    "%%time\n",
    "k_list = np.arange(26., 46.1, 2)\n",
    "pv = []; de = []; ve = []; th = []; rh = []; ga = []\n",
    "for k in k_list:\n",
    "    call_eur.update(strike=k)\n",
    "    pv.append(call_eur.present_value())\n",
    "    de.append(call_eur.delta(0.5))\n",
    "    ve.append(call_eur.vega(0.2))\n",
    "    th.append(call_eur.theta())\n",
    "    rh.append(call_eur.rho())\n",
    "    ga.append(call_eur.gamma())"
   ]
  },
  {
   "cell_type": "code",
   "execution_count": 15,
   "metadata": {
    "collapsed": false
   },
   "outputs": [],
   "source": [
    "%matplotlib inline"
   ]
  },
  {
   "cell_type": "markdown",
   "metadata": {},
   "source": [
    "There is a little plot helper function available to plot these statistics conveniently."
   ]
  },
  {
   "cell_type": "code",
   "execution_count": 16,
   "metadata": {
    "collapsed": false
   },
   "outputs": [
    {
     "data": {
      "image/png": "[encoded data removed]",
      "text/plain": [
       "<matplotlib.figure.Figure at 0x7fb5b860ded0>"
      ]
     },
     "metadata": {},
     "output_type": "display_data"
    }
   ],
   "source": [
    "plot_option_stats_full(k_list, pv, de, ga, ve, th, rh)"
   ]
  },
  {
   "cell_type": "markdown",
   "metadata": {},
   "source": [
    "## valuation_mcs_american_single"
   ]
  },
  {
   "cell_type": "markdown",
   "metadata": {},
   "source": [
    "The modeling and valuation of derivatives with American/Bermudan exercise is almost completely the same as in the more simple case of European exercise."
   ]
  },
  {
   "cell_type": "code",
   "execution_count": 17,
   "metadata": {
    "collapsed": false
   },
   "outputs": [],
   "source": [
    "me.add_constant('initial_value', 36.)\n",
    "  # reset initial_value"
   ]
  },
  {
   "cell_type": "code",
   "execution_count": 18,
   "metadata": {
    "collapsed": false
   },
   "outputs": [],
   "source": [
    "put_ame = valuation_mcs_american_single(\n",
    "                name='put_eur',\n",
    "                underlying=gbm,\n",
    "                mar_env=me,\n",
    "                payoff_func='np.maximum(strike - instrument_values, 0)')"
   ]
  },
  {
   "cell_type": "markdown",
   "metadata": {},
   "source": [
    "The only difference to consider here is that for American options where exercise can take place at any time before maturity, the inner value of the option (payoff of immediate exercise) is relevant over the whole set of dates. Therefore, `maturity_value` needs to be replaced by `instrument_values` in the definition of the payoff function."
   ]
  },
  {
   "cell_type": "code",
   "execution_count": 19,
   "metadata": {
    "collapsed": false
   },
   "outputs": [
    {
     "data": {
      "text/plain": [
       "4.452"
      ]
     },
     "execution_count": 19,
     "metadata": {},
     "output_type": "execute_result"
    }
   ],
   "source": [
    "put_ame.present_value()"
   ]
  },
  {
   "cell_type": "markdown",
   "metadata": {},
   "source": [
    "Since DX Analytics relies on Monte Carlo simulation and other *numerical* methods, the calculation of the delta and vega of such an option is identical to the European exercise case."
   ]
  },
  {
   "cell_type": "code",
   "execution_count": 20,
   "metadata": {
    "collapsed": false
   },
   "outputs": [
    {
     "data": {
      "text/plain": [
       "-0.6655"
      ]
     },
     "execution_count": 20,
     "metadata": {},
     "output_type": "execute_result"
    }
   ],
   "source": [
    "put_ame.delta()"
   ]
  },
  {
   "cell_type": "code",
   "execution_count": 21,
   "metadata": {
    "collapsed": false
   },
   "outputs": [
    {
     "data": {
      "text/plain": [
       "10.3122"
      ]
     },
     "execution_count": 21,
     "metadata": {},
     "output_type": "execute_result"
    }
   ],
   "source": [
    "put_ame.vega()"
   ]
  },
  {
   "cell_type": "code",
   "execution_count": 22,
   "metadata": {
    "collapsed": false
   },
   "outputs": [
    {
     "name": "stdout",
     "output_type": "stream",
     "text": [
      "CPU times: user 43.6 s, sys: 2min 13s, total: 2min 57s\n",
      "Wall time: 31.5 s\n"
     ]
    }
   ],
   "source": [
    "%%time\n",
    "k_list = np.arange(26., 46.1, 2.)\n",
    "pv = []; de = []; ve = []\n",
    "for k in k_list:\n",
    "    put_ame.update(strike=k)\n",
    "    pv.append(put_ame.present_value())\n",
    "    de.append(put_ame.delta(.5))\n",
    "    ve.append(put_ame.vega(0.2))"
   ]
  },
  {
   "cell_type": "code",
   "execution_count": 23,
   "metadata": {
    "collapsed": false,
    "scrolled": true
   },
   "outputs": [
    {
     "data": {
      "image/png": "[encoded data removed]",
      "text/plain": [
       "<matplotlib.figure.Figure at 0x7fb5b45a3d10>"
      ]
     },
     "metadata": {},
     "output_type": "display_data"
    }
   ],
   "source": [
    "plot_option_stats(k_list, pv, de, ve)"
   ]
  },
  {
   "cell_type": "markdown",
   "metadata": {},
   "source": [
    "## Portfolio Valuation"
   ]
  },
  {
   "cell_type": "markdown",
   "metadata": {},
   "source": [
    "In general, market players (asset managers, investment banks, hedge funds, insurance companies, etc.) have to value not only single derivatvies instruments but rather portfolios composed of several derivatives instruments. A consistent derivatives portfolio valuation is particularly important when there are multiple derivatives written on the same risk factor and/or correlations between different risk factors.\n",
    "\n",
    "These are the classes availble for a consistent portfolio valuation:\n",
    "\n",
    "* `derivatives_position` to model a portfolio position\n",
    "* `derivatives_portfolio` to model a derivatives portfolio"
   ]
  },
  {
   "cell_type": "markdown",
   "metadata": {},
   "source": [
    "### derivatives_position"
   ]
  },
  {
   "cell_type": "markdown",
   "metadata": {},
   "source": [
    "We work with the `market_environment` object from before and add information about the risk factor model we are using."
   ]
  },
  {
   "cell_type": "code",
   "execution_count": 24,
   "metadata": {
    "collapsed": false
   },
   "outputs": [],
   "source": [
    "me.add_constant('model', 'gbm')"
   ]
  },
  {
   "cell_type": "markdown",
   "metadata": {},
   "source": [
    "A derivatives position consists of \"data only\" and not instantiated model or valuation objects. The necessary model and valuation objects are instantiated during the portfolio valuation."
   ]
  },
  {
   "cell_type": "code",
   "execution_count": 25,
   "metadata": {
    "collapsed": false
   },
   "outputs": [],
   "source": [
    "put = derivatives_position(\n",
    "                name='put',  # name of position\n",
    "                quantity=1,  # number of instruments\n",
    "                underlyings=['gbm'],  # relevant risk factors\n",
    "                mar_env=me,  # market environment\n",
    "                otype='American single',  # the option type\n",
    "                payoff_func='np.maximum(40. - instrument_values, 0)')\n",
    "                    # the payoff funtion"
   ]
  },
  {
   "cell_type": "markdown",
   "metadata": {},
   "source": [
    "The method `get_info` prints an overview of the all relevant information stored for the respective `derivatives_position` object."
   ]
  },
  {
   "cell_type": "code",
   "execution_count": 26,
   "metadata": {
    "collapsed": false
   },
   "outputs": [
    {
     "name": "stdout",
     "output_type": "stream",
     "text": [
      "NAME\n",
      "put \n",
      "\n",
      "QUANTITY\n",
      "1 \n",
      "\n",
      "UNDERLYINGS\n",
      "['gbm'] \n",
      "\n",
      "MARKET ENVIRONMENT\n",
      "\n",
      "**Constants**\n",
      "paths 25000\n",
      "maturity 2015-12-31 00:00:00\n",
      "initial_value 36.0\n",
      "currency EUR\n",
      "frequency W\n",
      "strike 40.0\n",
      "final_date 2015-12-31 00:00:00\n",
      "model gbm\n",
      "volatility 0.2\n",
      "\n",
      "**Lists**\n",
      "\n",
      "**Curves**\n",
      "discount_curve <dx.dx_frame.constant_short_rate object at 0x7fb5f05a2c90>\n",
      "\n",
      "OPTION TYPE\n",
      "American single \n",
      "\n",
      "PAYOFF FUNCTION\n",
      "np.maximum(40. - instrument_values, 0)\n"
     ]
    }
   ],
   "source": [
    "put.get_info()"
   ]
  },
  {
   "cell_type": "markdown",
   "metadata": {},
   "source": [
    "### derivatives_portfolio"
   ]
  },
  {
   "cell_type": "markdown",
   "metadata": {},
   "source": [
    "The `derivatives_portfolio` class implements the core portfolio valuation tasks. This sub-section illustrates to cases, one with uncorrelated underlyings and another one with correlated underlyings"
   ]
  },
  {
   "cell_type": "markdown",
   "metadata": {},
   "source": [
    "#### Uncorrelated Underlyings"
   ]
  },
  {
   "cell_type": "markdown",
   "metadata": {},
   "source": [
    "The first example is based on a portfolio with two single-risk factor instruments on **two different risk factors which are not correlated**. In addition to the `gbm` object, we define a `jump_diffusion` object."
   ]
  },
  {
   "cell_type": "code",
   "execution_count": 27,
   "metadata": {
    "collapsed": false
   },
   "outputs": [],
   "source": [
    "me_jump = market_environment('me_jump', dt.datetime(2015, 1, 1))"
   ]
  },
  {
   "cell_type": "code",
   "execution_count": 28,
   "metadata": {
    "collapsed": false
   },
   "outputs": [],
   "source": [
    "me_jump.add_environment(me)\n",
    "me_jump.add_constant('lambda', 0.8)\n",
    "me_jump.add_constant('mu', -0.8)\n",
    "me_jump.add_constant('delta', 0.1)\n",
    "me_jump.add_constant('model', 'jd')"
   ]
  },
  {
   "cell_type": "markdown",
   "metadata": {},
   "source": [
    "Based on this new risk factor model object, a European call option is defined."
   ]
  },
  {
   "cell_type": "code",
   "execution_count": 29,
   "metadata": {
    "collapsed": false
   },
   "outputs": [],
   "source": [
    "call_jump = derivatives_position(\n",
    "                name='call_jump',\n",
    "                quantity=3,\n",
    "                underlyings=['jd'],\n",
    "                mar_env=me_jump,\n",
    "                otype='European single',\n",
    "                payoff_func='np.maximum(maturity_value - 36., 0)')"
   ]
  },
  {
   "cell_type": "markdown",
   "metadata": {},
   "source": [
    "Our **relevant market** now takes on the following form (defined a `dictionary` objects):"
   ]
  },
  {
   "cell_type": "code",
   "execution_count": 30,
   "metadata": {
    "collapsed": false
   },
   "outputs": [],
   "source": [
    "risk_factors = {'gbm': me, 'jd' : me_jump}\n",
    "positions = {'put' : put, 'call_jump' : call_jump}"
   ]
  },
  {
   "cell_type": "markdown",
   "metadata": {},
   "source": [
    "To instantiate the `derivatives_portfolio` class, a **valuation environment** (instance of `market_environment` class) is needed."
   ]
  },
  {
   "cell_type": "code",
   "execution_count": 31,
   "metadata": {
    "collapsed": false
   },
   "outputs": [],
   "source": [
    "val_env = market_environment('general', dt.datetime(2015, 1, 1))\n",
    "val_env.add_constant('frequency', 'M')\n",
    "val_env.add_constant('paths', 50000)\n",
    "val_env.add_constant('starting_date', val_env.pricing_date)\n",
    "val_env.add_constant('final_date', val_env.pricing_date)\n",
    "val_env.add_curve('discount_curve', r)"
   ]
  },
  {
   "cell_type": "markdown",
   "metadata": {},
   "source": [
    "For the **instantiation**, we pass all the elements to the portfolio class."
   ]
  },
  {
   "cell_type": "code",
   "execution_count": 32,
   "metadata": {
    "collapsed": false
   },
   "outputs": [],
   "source": [
    "port = derivatives_portfolio(\n",
    "            name='portfolio',  # name \n",
    "            positions=positions,  # derivatives positions\n",
    "            val_env=val_env,  # valuation environment\n",
    "            risk_factors=risk_factors, # relevant risk factors\n",
    "            correlations=False,  # correlation between risk factors\n",
    "            fixed_seed=False,  # fixed seed for randon number generation\n",
    "            parallel=False)  # parallel valuation of portfolio positions"
   ]
  },
  {
   "cell_type": "markdown",
   "metadata": {},
   "source": [
    "Once instantiated, the method `get_statistics` provides major portfolio statistics like position values, position deltas ans position vegas."
   ]
  },
  {
   "cell_type": "code",
   "execution_count": 33,
   "metadata": {
    "collapsed": false
   },
   "outputs": [
    {
     "name": "stdout",
     "output_type": "stream",
     "text": [
      "Totals\n",
      "pos_value    34.7260\n",
      "pos_delta     2.2706\n",
      "pos_vega     22.1461\n",
      "dtype: float64\n",
      "CPU times: user 2.16 s, sys: 5.01 s, total: 7.16 s\n",
      "Wall time: 1.6 s\n"
     ]
    }
   ],
   "source": [
    "%%time\n",
    "stats = port.get_statistics()"
   ]
  },
  {
   "cell_type": "code",
   "execution_count": 34,
   "metadata": {
    "collapsed": false
   },
   "outputs": [
    {
     "data": {
      "text/html": [
       "<div>\n",
       "<table border=\"1\" class=\"dataframe\">\n",
       "  <thead>\n",
       "    <tr style=\"text-align: right;\">\n",
       "      <th></th>\n",
       "      <th>position</th>\n",
       "      <th>name</th>\n",
       "      <th>quantity</th>\n",
       "      <th>otype</th>\n",
       "      <th>risk_facts</th>\n",
       "      <th>value</th>\n",
       "      <th>currency</th>\n",
       "      <th>pos_value</th>\n",
       "      <th>pos_delta</th>\n",
       "      <th>pos_vega</th>\n",
       "    </tr>\n",
       "  </thead>\n",
       "  <tbody>\n",
       "    <tr>\n",
       "      <th>0</th>\n",
       "      <td>put</td>\n",
       "      <td>put</td>\n",
       "      <td>1</td>\n",
       "      <td>American single</td>\n",
       "      <td>[gbm]</td>\n",
       "      <td>4.432</td>\n",
       "      <td>EUR</td>\n",
       "      <td>4.432</td>\n",
       "      <td>-0.6571</td>\n",
       "      <td>10.9231</td>\n",
       "    </tr>\n",
       "    <tr>\n",
       "      <th>1</th>\n",
       "      <td>call_jump</td>\n",
       "      <td>call_jump</td>\n",
       "      <td>3</td>\n",
       "      <td>European single</td>\n",
       "      <td>[jd]</td>\n",
       "      <td>10.098</td>\n",
       "      <td>EUR</td>\n",
       "      <td>30.294</td>\n",
       "      <td>2.9277</td>\n",
       "      <td>11.2230</td>\n",
       "    </tr>\n",
       "  </tbody>\n",
       "</table>\n",
       "</div>"
      ],
      "text/plain": [
       "    position       name  quantity            otype risk_facts   value  \\\n",
       "0        put        put         1  American single      [gbm]   4.432   \n",
       "1  call_jump  call_jump         3  European single       [jd]  10.098   \n",
       "\n",
       "  currency  pos_value  pos_delta  pos_vega  \n",
       "0      EUR      4.432    -0.6571   10.9231  \n",
       "1      EUR     30.294     2.9277   11.2230  "
      ]
     },
     "execution_count": 34,
     "metadata": {},
     "output_type": "execute_result"
    }
   ],
   "source": [
    "stats"
   ]
  },
  {
   "cell_type": "markdown",
   "metadata": {},
   "source": [
    "The method returns a standard pandas `DataFrame` object with which you can work as you are used to."
   ]
  },
  {
   "cell_type": "code",
   "execution_count": 35,
   "metadata": {
    "collapsed": false
   },
   "outputs": [
    {
     "data": {
      "text/plain": [
       "pos_value    34.7260\n",
       "pos_delta     2.2706\n",
       "pos_vega     22.1461\n",
       "dtype: float64"
      ]
     },
     "execution_count": 35,
     "metadata": {},
     "output_type": "execute_result"
    }
   ],
   "source": [
    "stats[['pos_value', 'pos_delta', 'pos_vega']].sum()"
   ]
  },
  {
   "cell_type": "markdown",
   "metadata": {},
   "source": [
    "The metod `get_values` only calculates the present values of the derivatives instruments and positions and is therefore a bit less compute and time intensive."
   ]
  },
  {
   "cell_type": "code",
   "execution_count": 36,
   "metadata": {
    "collapsed": false
   },
   "outputs": [
    {
     "name": "stdout",
     "output_type": "stream",
     "text": [
      "Total\n",
      "pos_value    34.438908\n",
      "dtype: float64\n",
      "CPU times: user 480 ms, sys: 1.18 s, total: 1.66 s\n",
      "Wall time: 338 ms\n"
     ]
    },
    {
     "data": {
      "text/html": [
       "<div>\n",
       "<table border=\"1\" class=\"dataframe\">\n",
       "  <thead>\n",
       "    <tr style=\"text-align: right;\">\n",
       "      <th></th>\n",
       "      <th>position</th>\n",
       "      <th>name</th>\n",
       "      <th>quantity</th>\n",
       "      <th>otype</th>\n",
       "      <th>risk_facts</th>\n",
       "      <th>value</th>\n",
       "      <th>currency</th>\n",
       "      <th>pos_value</th>\n",
       "    </tr>\n",
       "  </thead>\n",
       "  <tbody>\n",
       "    <tr>\n",
       "      <th>0</th>\n",
       "      <td>put</td>\n",
       "      <td>put</td>\n",
       "      <td>1</td>\n",
       "      <td>American single</td>\n",
       "      <td>[gbm]</td>\n",
       "      <td>4.449000</td>\n",
       "      <td>EUR</td>\n",
       "      <td>4.449000</td>\n",
       "    </tr>\n",
       "    <tr>\n",
       "      <th>1</th>\n",
       "      <td>call_jump</td>\n",
       "      <td>call_jump</td>\n",
       "      <td>3</td>\n",
       "      <td>European single</td>\n",
       "      <td>[jd]</td>\n",
       "      <td>9.996636</td>\n",
       "      <td>EUR</td>\n",
       "      <td>29.989908</td>\n",
       "    </tr>\n",
       "  </tbody>\n",
       "</table>\n",
       "</div>"
      ],
      "text/plain": [
       "    position       name  quantity            otype risk_facts     value  \\\n",
       "0        put        put         1  American single      [gbm]  4.449000   \n",
       "1  call_jump  call_jump         3  European single       [jd]  9.996636   \n",
       "\n",
       "  currency  pos_value  \n",
       "0      EUR   4.449000  \n",
       "1      EUR  29.989908  "
      ]
     },
     "execution_count": 36,
     "metadata": {},
     "output_type": "execute_result"
    }
   ],
   "source": [
    "%time port.get_values()"
   ]
  },
  {
   "cell_type": "markdown",
   "metadata": {},
   "source": [
    "The method `get_positions` provides detailed information about the single derivatives positions of the `derivatives_portfolio` object."
   ]
  },
  {
   "cell_type": "code",
   "execution_count": 37,
   "metadata": {
    "collapsed": false
   },
   "outputs": [
    {
     "name": "stdout",
     "output_type": "stream",
     "text": [
      "\n",
      "--------------------------------------------------\n",
      "NAME\n",
      "put \n",
      "\n",
      "QUANTITY\n",
      "1 \n",
      "\n",
      "UNDERLYINGS\n",
      "['gbm'] \n",
      "\n",
      "MARKET ENVIRONMENT\n",
      "\n",
      "**Constants**\n",
      "paths 50000\n",
      "maturity 2015-12-31 00:00:00\n",
      "initial_value 36.0\n",
      "currency EUR\n",
      "frequency M\n",
      "strike 40.0\n",
      "final_date 2015-12-31 00:00:00\n",
      "model gbm\n",
      "starting_date 2015-01-01 00:00:00\n",
      "volatility 0.2\n",
      "\n",
      "**Lists**\n",
      "correlation_matrix      gbm  jd\n",
      "gbm    1   0\n",
      "jd     0   1\n",
      "cholesky_matrix [[ 1.  0.]\n",
      " [ 0.  1.]]\n",
      "random_numbers [[[ 1.59911088 -1.4046112  -1.41690211 ..., -0.02367133  0.64452581\n",
      "    0.83372797]\n",
      "  [-1.71068746 -0.17718321  1.19908444 ..., -0.12887556  1.84851716\n",
      "    1.99223491]\n",
      "  [ 0.91793265  0.527942   -0.51603028 ...,  0.84100797 -1.36662164\n",
      "   -0.60581475]\n",
      "  ..., \n",
      "  [ 1.2128477  -0.02445883  0.28700922 ..., -0.68947286 -0.04293013\n",
      "   -0.15945594]\n",
      "  [-1.32537389 -0.70003276  1.90365643 ..., -0.2332303  -0.0369755\n",
      "    1.44280306]\n",
      "  [ 0.20542848 -0.7790572  -0.75625624 ..., -1.470969   -1.00645074\n",
      "   -0.12511486]]\n",
      "\n",
      " [[-2.1046119   1.11433037 -1.44243622 ...,  0.95216647 -0.4916233\n",
      "    0.14714287]\n",
      "  [ 0.88624348 -0.10835483  1.09678341 ..., -0.02139183  1.17828289\n",
      "   -0.6156402 ]\n",
      "  [-0.49969036 -1.61494765 -0.6953123  ...,  0.09100147  1.12869001\n",
      "   -0.65676166]\n",
      "  ..., \n",
      "  [ 0.04256569  0.51287869  0.39970509 ...,  2.38658577  1.64993773\n",
      "   -0.16761589]\n",
      "  [ 0.69762962  0.89591537  0.14343585 ..., -0.62170926  0.95533176\n",
      "   -0.03614675]\n",
      "  [-0.88760744 -1.24120179  2.66507407 ...,  0.40644798 -1.64541865\n",
      "    1.36340621]]]\n",
      "time_grid [datetime.datetime(2015, 1, 1, 0, 0) datetime.datetime(2015, 1, 31, 0, 0)\n",
      " datetime.datetime(2015, 2, 28, 0, 0) datetime.datetime(2015, 3, 31, 0, 0)\n",
      " datetime.datetime(2015, 4, 30, 0, 0) datetime.datetime(2015, 5, 31, 0, 0)\n",
      " datetime.datetime(2015, 6, 30, 0, 0) datetime.datetime(2015, 7, 31, 0, 0)\n",
      " datetime.datetime(2015, 8, 31, 0, 0) datetime.datetime(2015, 9, 30, 0, 0)\n",
      " datetime.datetime(2015, 10, 31, 0, 0)\n",
      " datetime.datetime(2015, 11, 30, 0, 0)\n",
      " datetime.datetime(2015, 12, 31, 0, 0)]\n",
      "rn_set {'jd': 1, 'gbm': 0}\n",
      "\n",
      "**Curves**\n",
      "discount_curve <dx.dx_frame.constant_short_rate object at 0x7fb5f05a2c90>\n",
      "\n",
      "OPTION TYPE\n",
      "American single \n",
      "\n",
      "PAYOFF FUNCTION\n",
      "np.maximum(40. - instrument_values, 0)\n",
      "\n",
      "--------------------------------------------------\n",
      "\n",
      "--------------------------------------------------\n",
      "NAME\n",
      "call_jump \n",
      "\n",
      "QUANTITY\n",
      "3 \n",
      "\n",
      "UNDERLYINGS\n",
      "['jd'] \n",
      "\n",
      "MARKET ENVIRONMENT\n",
      "\n",
      "**Constants**\n",
      "paths 50000\n",
      "lambda 0.8\n",
      "initial_value 36.0\n",
      "mu -0.8\n",
      "currency EUR\n",
      "frequency M\n",
      "delta 0.1\n",
      "strike 40.0\n",
      "final_date 2015-12-31 00:00:00\n",
      "model jd\n",
      "volatility 0.2\n",
      "starting_date 2015-01-01 00:00:00\n",
      "maturity 2015-12-31 00:00:00\n",
      "\n",
      "**Lists**\n",
      "correlation_matrix      gbm  jd\n",
      "gbm    1   0\n",
      "jd     0   1\n",
      "cholesky_matrix [[ 1.  0.]\n",
      " [ 0.  1.]]\n",
      "random_numbers [[[ 1.59911088 -1.4046112  -1.41690211 ..., -0.02367133  0.64452581\n",
      "    0.83372797]\n",
      "  [-1.71068746 -0.17718321  1.19908444 ..., -0.12887556  1.84851716\n",
      "    1.99223491]\n",
      "  [ 0.91793265  0.527942   -0.51603028 ...,  0.84100797 -1.36662164\n",
      "   -0.60581475]\n",
      "  ..., \n",
      "  [ 1.2128477  -0.02445883  0.28700922 ..., -0.68947286 -0.04293013\n",
      "   -0.15945594]\n",
      "  [-1.32537389 -0.70003276  1.90365643 ..., -0.2332303  -0.0369755\n",
      "    1.44280306]\n",
      "  [ 0.20542848 -0.7790572  -0.75625624 ..., -1.470969   -1.00645074\n",
      "   -0.12511486]]\n",
      "\n",
      " [[-2.1046119   1.11433037 -1.44243622 ...,  0.95216647 -0.4916233\n",
      "    0.14714287]\n",
      "  [ 0.88624348 -0.10835483  1.09678341 ..., -0.02139183  1.17828289\n",
      "   -0.6156402 ]\n",
      "  [-0.49969036 -1.61494765 -0.6953123  ...,  0.09100147  1.12869001\n",
      "   -0.65676166]\n",
      "  ..., \n",
      "  [ 0.04256569  0.51287869  0.39970509 ...,  2.38658577  1.64993773\n",
      "   -0.16761589]\n",
      "  [ 0.69762962  0.89591537  0.14343585 ..., -0.62170926  0.95533176\n",
      "   -0.03614675]\n",
      "  [-0.88760744 -1.24120179  2.66507407 ...,  0.40644798 -1.64541865\n",
      "    1.36340621]]]\n",
      "time_grid [datetime.datetime(2015, 1, 1, 0, 0) datetime.datetime(2015, 1, 31, 0, 0)\n",
      " datetime.datetime(2015, 2, 28, 0, 0) datetime.datetime(2015, 3, 31, 0, 0)\n",
      " datetime.datetime(2015, 4, 30, 0, 0) datetime.datetime(2015, 5, 31, 0, 0)\n",
      " datetime.datetime(2015, 6, 30, 0, 0) datetime.datetime(2015, 7, 31, 0, 0)\n",
      " datetime.datetime(2015, 8, 31, 0, 0) datetime.datetime(2015, 9, 30, 0, 0)\n",
      " datetime.datetime(2015, 10, 31, 0, 0)\n",
      " datetime.datetime(2015, 11, 30, 0, 0)\n",
      " datetime.datetime(2015, 12, 31, 0, 0)]\n",
      "rn_set {'jd': 1, 'gbm': 0}\n",
      "\n",
      "**Curves**\n",
      "discount_curve <dx.dx_frame.constant_short_rate object at 0x7fb5f05a2c90>\n",
      "\n",
      "OPTION TYPE\n",
      "European single \n",
      "\n",
      "PAYOFF FUNCTION\n",
      "np.maximum(maturity_value - 36., 0)\n",
      "\n",
      "--------------------------------------------------\n"
     ]
    }
   ],
   "source": [
    "port.get_positions()"
   ]
  },
  {
   "cell_type": "markdown",
   "metadata": {},
   "source": [
    "#### Correlated Underlyings"
   ]
  },
  {
   "cell_type": "markdown",
   "metadata": {},
   "source": [
    "The second example case is exactly the same but now with a **highly positive correlation** between the two relevant risk factors. Correlations are to be provided as a `list`  of `list` objects using the risk factor model names to reference them."
   ]
  },
  {
   "cell_type": "code",
   "execution_count": 38,
   "metadata": {
    "collapsed": false
   },
   "outputs": [],
   "source": [
    "correlations = [['gbm', 'jd', 0.9]]"
   ]
  },
  {
   "cell_type": "markdown",
   "metadata": {},
   "source": [
    "Except from now passing this new object, the application and usage remains the same."
   ]
  },
  {
   "cell_type": "code",
   "execution_count": 39,
   "metadata": {
    "collapsed": false
   },
   "outputs": [],
   "source": [
    "port = derivatives_portfolio(\n",
    "            name='portfolio',\n",
    "            positions=positions,\n",
    "            val_env=val_env,\n",
    "            risk_factors=risk_factors,\n",
    "            correlations=correlations,\n",
    "            fixed_seed=True,\n",
    "            parallel=False)"
   ]
  },
  {
   "cell_type": "code",
   "execution_count": 40,
   "metadata": {
    "collapsed": false
   },
   "outputs": [
    {
     "name": "stdout",
     "output_type": "stream",
     "text": [
      "Totals\n",
      "pos_value    35.1350\n",
      "pos_delta     1.6345\n",
      "pos_vega     21.8606\n",
      "dtype: float64\n"
     ]
    },
    {
     "data": {
      "text/html": [
       "<div>\n",
       "<table border=\"1\" class=\"dataframe\">\n",
       "  <thead>\n",
       "    <tr style=\"text-align: right;\">\n",
       "      <th></th>\n",
       "      <th>position</th>\n",
       "      <th>name</th>\n",
       "      <th>quantity</th>\n",
       "      <th>otype</th>\n",
       "      <th>risk_facts</th>\n",
       "      <th>value</th>\n",
       "      <th>currency</th>\n",
       "      <th>pos_value</th>\n",
       "      <th>pos_delta</th>\n",
       "      <th>pos_vega</th>\n",
       "    </tr>\n",
       "  </thead>\n",
       "  <tbody>\n",
       "    <tr>\n",
       "      <th>0</th>\n",
       "      <td>put</td>\n",
       "      <td>put</td>\n",
       "      <td>1</td>\n",
       "      <td>American single</td>\n",
       "      <td>[gbm]</td>\n",
       "      <td>4.433</td>\n",
       "      <td>EUR</td>\n",
       "      <td>4.433</td>\n",
       "      <td>-0.6548</td>\n",
       "      <td>10.8335</td>\n",
       "    </tr>\n",
       "    <tr>\n",
       "      <th>1</th>\n",
       "      <td>call_jump</td>\n",
       "      <td>call_jump</td>\n",
       "      <td>3</td>\n",
       "      <td>European single</td>\n",
       "      <td>[jd]</td>\n",
       "      <td>10.234</td>\n",
       "      <td>EUR</td>\n",
       "      <td>30.702</td>\n",
       "      <td>2.2893</td>\n",
       "      <td>11.0271</td>\n",
       "    </tr>\n",
       "  </tbody>\n",
       "</table>\n",
       "</div>"
      ],
      "text/plain": [
       "    position       name  quantity            otype risk_facts   value  \\\n",
       "0        put        put         1  American single      [gbm]   4.433   \n",
       "1  call_jump  call_jump         3  European single       [jd]  10.234   \n",
       "\n",
       "  currency  pos_value  pos_delta  pos_vega  \n",
       "0      EUR      4.433    -0.6548   10.8335  \n",
       "1      EUR     30.702     2.2893   11.0271  "
      ]
     },
     "execution_count": 40,
     "metadata": {},
     "output_type": "execute_result"
    }
   ],
   "source": [
    "port.get_statistics()"
   ]
  },
  {
   "cell_type": "markdown",
   "metadata": {},
   "source": [
    "The **Cholesky matrix** has been added to the valuation environment (which gets passed to the risk factor model objects)."
   ]
  },
  {
   "cell_type": "code",
   "execution_count": 41,
   "metadata": {
    "collapsed": false
   },
   "outputs": [
    {
     "data": {
      "text/plain": [
       "array([[ 1.        ,  0.        ],\n",
       "       [ 0.9       ,  0.43588989]])"
      ]
     },
     "execution_count": 41,
     "metadata": {},
     "output_type": "execute_result"
    }
   ],
   "source": [
    "port.val_env.lists['cholesky_matrix']"
   ]
  },
  {
   "cell_type": "markdown",
   "metadata": {},
   "source": [
    "Let us pick **two specific simulated paths**, one for each risk factor, and let us visualize these."
   ]
  },
  {
   "cell_type": "code",
   "execution_count": 42,
   "metadata": {
    "collapsed": false
   },
   "outputs": [],
   "source": [
    "path_no = 0\n",
    "paths1 = port.underlying_objects['gbm'].get_instrument_values()[:, path_no]\n",
    "paths2 = port.underlying_objects['jd'].get_instrument_values()[:, path_no]"
   ]
  },
  {
   "cell_type": "markdown",
   "metadata": {},
   "source": [
    "The plot illustrates that the two paths are indeed **highly positively correlated**. However, in this case a **large jump** occurs for the `jump_diffusion` object."
   ]
  },
  {
   "cell_type": "code",
   "execution_count": 43,
   "metadata": {
    "collapsed": false
   },
   "outputs": [
    {
     "data": {
      "image/png": "[encoded data removed]",
      "text/plain": [
       "<matplotlib.figure.Figure at 0x7fb5b0ad4610>"
      ]
     },
     "metadata": {},
     "output_type": "display_data"
    }
   ],
   "source": [
    "plt.figure(figsize=(10, 6))\n",
    "plt.plot(port.time_grid, paths1, 'r', label='gbm')\n",
    "plt.plot(port.time_grid, paths2, 'b', label='jd')\n",
    "plt.gcf().autofmt_xdate()\n",
    "plt.legend(loc=0); plt.grid(True)\n",
    "# highly correlated underlyings\n",
    "# -- with a large jump for one risk factor"
   ]
  },
  {
   "cell_type": "markdown",
   "metadata": {},
   "source": [
    "**Copyright, License & Disclaimer**\n",
    "\n",
    "&copy; Dr. Yves J. Hilpisch | The Python Quants GmbH\n",
    "\n",
    "DX Analytics (the \"dx library\") is licensed under the GNU Affero General Public License\n",
    "version 3 or later (see [http://www.gnu.org/licenses/](http://www.gnu.org/licenses/)).\n",
    "\n",
    "DX Analytics comes with no representations\n",
    "or warranties, to the extent permitted by applicable law.\n",
    "\n",
    "\n",
    "<img src=\"http://hilpisch.com/tpq_logo.png\" alt=\"The Python Quants\" width=\"35%\" align=\"right\" border=\"0\"><br>\n",
    "\n",
    "[http://tpq.io](http://tpq.io) | [team@tpq.io](mailto:team@tpq.io) | [http://twitter.com/dyjh](http://twitter.com/dyjh)\n",
    "\n",
    "**Quant Platform** |\n",
    "[http://quant-platform.com](http://quant-platform.com)\n",
    "\n",
    "**Derivatives Analytics with Python (Wiley Finance)** |\n",
    "[http://derivatives-analytics-with-python.com](http://derivatives-analytics-with-python.com)\n",
    "\n",
    "**Python for Finance (O'Reilly)** |\n",
    "[http://python-for-finance.com](http://python-for-finance.com)"
   ]
  }
 ],
 "metadata": {
  "kernelspec": {
   "display_name": "Python 2",
   "language": "python",
   "name": "python2"
  },
  "language_info": {
   "codemirror_mode": {
    "name": "ipython",
    "version": 2
   },
   "file_extension": ".py",
   "mimetype": "text/x-python",
   "name": "python",
   "nbconvert_exporter": "python",
   "pygments_lexer": "ipython2",
   "version": "2.7.11"
  }
 },
 "nbformat": 4,
 "nbformat_minor": 0
}
