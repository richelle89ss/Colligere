{
 "cells": [
  {
   "cell_type": "markdown",
   "metadata": {},
   "source": [
    "<img src=\"http://hilpisch.com/tpq_logo.png\" alt=\"The Python Quants\" width=\"45%\" align=\"right\" border=\"4\">"
   ]
  },
  {
   "cell_type": "markdown",
   "metadata": {},
   "source": [
    "# Interest Rate Swaps"
   ]
  },
  {
   "cell_type": "markdown",
   "metadata": {},
   "source": [
    "*Very nascent*."
   ]
  },
  {
   "cell_type": "markdown",
   "metadata": {},
   "source": [
    "Interest rate swaps are a first step towards including **rate-sensitive instruments** in the modeling and valuation spectrum of DX Analytics. The model used in the following is the **square-root diffusion process** by Cox-Ingersoll-Ross (1985). Data used are UK/London OIS and Libor rates."
   ]
  },
  {
   "cell_type": "code",
   "execution_count": 1,
   "metadata": {
    "collapsed": true
   },
   "outputs": [],
   "source": [
    "import warnings; warnings.simplefilter('ignore')"
   ]
  },
  {
   "cell_type": "code",
   "execution_count": 2,
   "metadata": {
    "collapsed": false
   },
   "outputs": [],
   "source": [
    "import dx\n",
    "import datetime as dt\n",
    "import time\n",
    "import pandas as pd\n",
    "import numpy as np\n",
    "import matplotlib.pyplot as plt\n",
    "import seaborn as sns; sns.set()\n",
    "%matplotlib inline"
   ]
  },
  {
   "cell_type": "markdown",
   "metadata": {},
   "source": [
    "## OIS Data & Discounting"
   ]
  },
  {
   "cell_type": "markdown",
   "metadata": {},
   "source": [
    "We start by importing **OIS term structure data** (source: http://www.bankofengland.co.uk) for risk-free discounting. We also adjust the data structure somewhat for our purposes."
   ]
  },
  {
   "cell_type": "code",
   "execution_count": 3,
   "metadata": {
    "collapsed": false
   },
   "outputs": [],
   "source": [
    "# UK OIS Spot Rates Yield Curve\n",
    "oiss = pd.read_excel('data/ukois09.xls', 'oiss')\n",
    "# use years as index\n",
    "oiss = oiss.set_index('years')\n",
    "# del oiss['years']"
   ]
  },
  {
   "cell_type": "code",
   "execution_count": 4,
   "metadata": {
    "collapsed": false
   },
   "outputs": [],
   "source": [
    "# only date information for columns, no time\n",
    "oiss.columns = [d.date() for d in oiss.columns]"
   ]
  },
  {
   "cell_type": "code",
   "execution_count": 5,
   "metadata": {
    "collapsed": false
   },
   "outputs": [
    {
     "data": {
      "text/html": [
       "<div>\n",
       "<table border=\"1\" class=\"dataframe\">\n",
       "  <thead>\n",
       "    <tr style=\"text-align: right;\">\n",
       "      <th></th>\n",
       "      <th>2014-10-01</th>\n",
       "      <th>2014-10-02</th>\n",
       "      <th>2014-10-03</th>\n",
       "      <th>2014-10-06</th>\n",
       "      <th>2014-10-07</th>\n",
       "      <th>2014-10-08</th>\n",
       "      <th>2014-10-09</th>\n",
       "      <th>2014-10-10</th>\n",
       "      <th>2014-10-13</th>\n",
       "      <th>2014-10-14</th>\n",
       "      <th>2014-10-15</th>\n",
       "      <th>2014-10-16</th>\n",
       "    </tr>\n",
       "    <tr>\n",
       "      <th>years</th>\n",
       "      <th></th>\n",
       "      <th></th>\n",
       "      <th></th>\n",
       "      <th></th>\n",
       "      <th></th>\n",
       "      <th></th>\n",
       "      <th></th>\n",
       "      <th></th>\n",
       "      <th></th>\n",
       "      <th></th>\n",
       "      <th></th>\n",
       "      <th></th>\n",
       "    </tr>\n",
       "  </thead>\n",
       "  <tbody>\n",
       "    <tr>\n",
       "      <th>4.666667</th>\n",
       "      <td>1.550947</td>\n",
       "      <td>1.525838</td>\n",
       "      <td>1.570203</td>\n",
       "      <td>1.533901</td>\n",
       "      <td>1.479044</td>\n",
       "      <td>1.445234</td>\n",
       "      <td>1.436023</td>\n",
       "      <td>1.409962</td>\n",
       "      <td>1.337567</td>\n",
       "      <td>1.283932</td>\n",
       "      <td>1.063205</td>\n",
       "      <td>1.234125</td>\n",
       "    </tr>\n",
       "    <tr>\n",
       "      <th>4.750000</th>\n",
       "      <td>1.563661</td>\n",
       "      <td>1.538616</td>\n",
       "      <td>1.583198</td>\n",
       "      <td>1.546459</td>\n",
       "      <td>1.491152</td>\n",
       "      <td>1.457593</td>\n",
       "      <td>1.448627</td>\n",
       "      <td>1.422015</td>\n",
       "      <td>1.349782</td>\n",
       "      <td>1.296052</td>\n",
       "      <td>1.074773</td>\n",
       "      <td>1.246277</td>\n",
       "    </tr>\n",
       "    <tr>\n",
       "      <th>4.833333</th>\n",
       "      <td>1.576142</td>\n",
       "      <td>1.551158</td>\n",
       "      <td>1.595952</td>\n",
       "      <td>1.558789</td>\n",
       "      <td>1.503050</td>\n",
       "      <td>1.469768</td>\n",
       "      <td>1.461040</td>\n",
       "      <td>1.433887</td>\n",
       "      <td>1.361832</td>\n",
       "      <td>1.308025</td>\n",
       "      <td>1.086254</td>\n",
       "      <td>1.258307</td>\n",
       "    </tr>\n",
       "    <tr>\n",
       "      <th>4.916667</th>\n",
       "      <td>1.588400</td>\n",
       "      <td>1.563474</td>\n",
       "      <td>1.608472</td>\n",
       "      <td>1.570898</td>\n",
       "      <td>1.514746</td>\n",
       "      <td>1.481764</td>\n",
       "      <td>1.473269</td>\n",
       "      <td>1.445585</td>\n",
       "      <td>1.373724</td>\n",
       "      <td>1.319859</td>\n",
       "      <td>1.097650</td>\n",
       "      <td>1.270219</td>\n",
       "    </tr>\n",
       "    <tr>\n",
       "      <th>5.000000</th>\n",
       "      <td>1.600442</td>\n",
       "      <td>1.575572</td>\n",
       "      <td>1.620768</td>\n",
       "      <td>1.582794</td>\n",
       "      <td>1.526247</td>\n",
       "      <td>1.493588</td>\n",
       "      <td>1.485320</td>\n",
       "      <td>1.457116</td>\n",
       "      <td>1.385461</td>\n",
       "      <td>1.331557</td>\n",
       "      <td>1.108962</td>\n",
       "      <td>1.282014</td>\n",
       "    </tr>\n",
       "  </tbody>\n",
       "</table>\n",
       "</div>"
      ],
      "text/plain": [
       "          2014-10-01  2014-10-02  2014-10-03  2014-10-06  2014-10-07  \\\n",
       "years                                                                  \n",
       "4.666667    1.550947    1.525838    1.570203    1.533901    1.479044   \n",
       "4.750000    1.563661    1.538616    1.583198    1.546459    1.491152   \n",
       "4.833333    1.576142    1.551158    1.595952    1.558789    1.503050   \n",
       "4.916667    1.588400    1.563474    1.608472    1.570898    1.514746   \n",
       "5.000000    1.600442    1.575572    1.620768    1.582794    1.526247   \n",
       "\n",
       "          2014-10-08  2014-10-09  2014-10-10  2014-10-13  2014-10-14  \\\n",
       "years                                                                  \n",
       "4.666667    1.445234    1.436023    1.409962    1.337567    1.283932   \n",
       "4.750000    1.457593    1.448627    1.422015    1.349782    1.296052   \n",
       "4.833333    1.469768    1.461040    1.433887    1.361832    1.308025   \n",
       "4.916667    1.481764    1.473269    1.445585    1.373724    1.319859   \n",
       "5.000000    1.493588    1.485320    1.457116    1.385461    1.331557   \n",
       "\n",
       "          2014-10-15  2014-10-16  \n",
       "years                             \n",
       "4.666667    1.063205    1.234125  \n",
       "4.750000    1.074773    1.246277  \n",
       "4.833333    1.086254    1.258307  \n",
       "4.916667    1.097650    1.270219  \n",
       "5.000000    1.108962    1.282014  "
      ]
     },
     "execution_count": 5,
     "metadata": {},
     "output_type": "execute_result"
    }
   ],
   "source": [
    "oiss.tail()"
   ]
  },
  {
   "cell_type": "markdown",
   "metadata": {},
   "source": [
    "Next we replace the **year fraction index** by a **DatetimeIndex**."
   ]
  },
  {
   "cell_type": "code",
   "execution_count": 6,
   "metadata": {
    "collapsed": true
   },
   "outputs": [],
   "source": [
    "# generate time index given input data\n",
    "# starting date + 59 months\n",
    "date = oiss.columns[-1]\n",
    "index = pd.date_range(date, periods=60, freq='M') # , tz='GMT')\n",
    "index = [d.replace(day=date.day) for d in index]\n",
    "index = pd.DatetimeIndex(index)\n",
    "oiss.index = index"
   ]
  },
  {
   "cell_type": "markdown",
   "metadata": {},
   "source": [
    "Let us have a look at the **most current data**, i.e. the term structure, of the data set."
   ]
  },
  {
   "cell_type": "code",
   "execution_count": 7,
   "metadata": {
    "collapsed": false
   },
   "outputs": [
    {
     "data": {
      "text/plain": [
       "<matplotlib.axes._subplots.AxesSubplot at 0x7fabc316c150>"
      ]
     },
     "execution_count": 7,
     "metadata": {},
     "output_type": "execute_result"
    },
    {
     "data": {
      "image/png": "[encoded data removed]",
      "text/plain": [
       "<matplotlib.figure.Figure at 0x7fabeefd1150>"
      ]
     },
     "metadata": {},
     "output_type": "display_data"
    }
   ],
   "source": [
    "oiss.iloc[:, -1].plot(figsize=(10, 6))"
   ]
  },
  {
   "cell_type": "markdown",
   "metadata": {},
   "source": [
    "This data is used to instantiate a `deterministic_short_rate` **model for risk-neutral discounting** purposes."
   ]
  },
  {
   "cell_type": "code",
   "execution_count": 8,
   "metadata": {
    "collapsed": false
   },
   "outputs": [],
   "source": [
    "# generate deterministic short rate model based on UK OIS curve\n",
    "ois = dx.deterministic_short_rate('ois', zip(oiss.index, oiss.iloc[:, -1].values / 100))"
   ]
  },
  {
   "cell_type": "code",
   "execution_count": 9,
   "metadata": {
    "collapsed": false
   },
   "outputs": [
    {
     "data": {
      "text/plain": [
       "([0.98982514869237104, 0.99227549016270356, 0.99562377741583252, 1.0],\n",
       " array([datetime.datetime(2015, 1, 31, 0, 0),\n",
       "        datetime.datetime(2015, 7, 31, 0, 0),\n",
       "        datetime.datetime(2016, 1, 31, 0, 0),\n",
       "        datetime.datetime(2016, 7, 31, 0, 0)], dtype=object))"
      ]
     },
     "execution_count": 9,
     "metadata": {},
     "output_type": "execute_result"
    }
   ],
   "source": [
    "# example dates and corresponding discount factors\n",
    "dr = pd.date_range('2015-1', periods=4, freq='6m').to_pydatetime()\n",
    "ois.get_discount_factors(dr)[::-1]"
   ]
  },
  {
   "cell_type": "markdown",
   "metadata": {},
   "source": [
    "## Libor Market Data"
   ]
  },
  {
   "cell_type": "markdown",
   "metadata": {},
   "source": [
    "We want to model a **3 month Libor-based interest rate swap**. To this end, we need Libor term structure data, i.e. forward rates in this case (source: http://www.bankofengland.co.uk), to calibrate the  valuation to. The data importing and adjustments are the same as before."
   ]
  },
  {
   "cell_type": "code",
   "execution_count": 10,
   "metadata": {
    "collapsed": false
   },
   "outputs": [],
   "source": [
    "# UK Libor foward rates\n",
    "libf = pd.read_excel('data/ukblc05.xls', 'fwds')\n",
    "# use years as index\n",
    "libf = libf.set_index('years')"
   ]
  },
  {
   "cell_type": "code",
   "execution_count": 11,
   "metadata": {
    "collapsed": false
   },
   "outputs": [],
   "source": [
    "# only date information for columns, no time\n",
    "libf.columns = [d.date() for d in libf.columns]"
   ]
  },
  {
   "cell_type": "code",
   "execution_count": 12,
   "metadata": {
    "collapsed": false
   },
   "outputs": [
    {
     "data": {
      "text/html": [
       "<div>\n",
       "<table border=\"1\" class=\"dataframe\">\n",
       "  <thead>\n",
       "    <tr style=\"text-align: right;\">\n",
       "      <th></th>\n",
       "      <th>2014-10-01</th>\n",
       "      <th>2014-10-02</th>\n",
       "      <th>2014-10-03</th>\n",
       "      <th>2014-10-06</th>\n",
       "      <th>2014-10-07</th>\n",
       "      <th>2014-10-08</th>\n",
       "      <th>2014-10-09</th>\n",
       "      <th>2014-10-10</th>\n",
       "      <th>2014-10-13</th>\n",
       "      <th>2014-10-14</th>\n",
       "      <th>2014-10-15</th>\n",
       "      <th>2014-10-16</th>\n",
       "    </tr>\n",
       "    <tr>\n",
       "      <th>years</th>\n",
       "      <th></th>\n",
       "      <th></th>\n",
       "      <th></th>\n",
       "      <th></th>\n",
       "      <th></th>\n",
       "      <th></th>\n",
       "      <th></th>\n",
       "      <th></th>\n",
       "      <th></th>\n",
       "      <th></th>\n",
       "      <th></th>\n",
       "      <th></th>\n",
       "    </tr>\n",
       "  </thead>\n",
       "  <tbody>\n",
       "    <tr>\n",
       "      <th>4.666667</th>\n",
       "      <td>2.722915</td>\n",
       "      <td>2.686731</td>\n",
       "      <td>2.678433</td>\n",
       "      <td>2.681385</td>\n",
       "      <td>2.639166</td>\n",
       "      <td>2.542012</td>\n",
       "      <td>2.528768</td>\n",
       "      <td>2.489063</td>\n",
       "      <td>2.470154</td>\n",
       "      <td>2.349732</td>\n",
       "      <td>2.372435</td>\n",
       "      <td>2.157431</td>\n",
       "    </tr>\n",
       "    <tr>\n",
       "      <th>4.750000</th>\n",
       "      <td>2.733588</td>\n",
       "      <td>2.697887</td>\n",
       "      <td>2.690366</td>\n",
       "      <td>2.692824</td>\n",
       "      <td>2.650841</td>\n",
       "      <td>2.554583</td>\n",
       "      <td>2.543066</td>\n",
       "      <td>2.502357</td>\n",
       "      <td>2.483842</td>\n",
       "      <td>2.366052</td>\n",
       "      <td>2.387671</td>\n",
       "      <td>2.176186</td>\n",
       "    </tr>\n",
       "    <tr>\n",
       "      <th>4.833333</th>\n",
       "      <td>2.744126</td>\n",
       "      <td>2.708848</td>\n",
       "      <td>2.702083</td>\n",
       "      <td>2.704147</td>\n",
       "      <td>2.662380</td>\n",
       "      <td>2.567071</td>\n",
       "      <td>2.557216</td>\n",
       "      <td>2.515531</td>\n",
       "      <td>2.497446</td>\n",
       "      <td>2.382298</td>\n",
       "      <td>2.402829</td>\n",
       "      <td>2.194784</td>\n",
       "    </tr>\n",
       "    <tr>\n",
       "      <th>4.916667</th>\n",
       "      <td>2.754540</td>\n",
       "      <td>2.719634</td>\n",
       "      <td>2.713604</td>\n",
       "      <td>2.715368</td>\n",
       "      <td>2.673794</td>\n",
       "      <td>2.579486</td>\n",
       "      <td>2.571229</td>\n",
       "      <td>2.528592</td>\n",
       "      <td>2.510973</td>\n",
       "      <td>2.398468</td>\n",
       "      <td>2.417915</td>\n",
       "      <td>2.213221</td>\n",
       "    </tr>\n",
       "    <tr>\n",
       "      <th>5.000000</th>\n",
       "      <td>2.764842</td>\n",
       "      <td>2.730264</td>\n",
       "      <td>2.724949</td>\n",
       "      <td>2.726501</td>\n",
       "      <td>2.685095</td>\n",
       "      <td>2.591835</td>\n",
       "      <td>2.585117</td>\n",
       "      <td>2.541548</td>\n",
       "      <td>2.524432</td>\n",
       "      <td>2.414562</td>\n",
       "      <td>2.432939</td>\n",
       "      <td>2.231493</td>\n",
       "    </tr>\n",
       "  </tbody>\n",
       "</table>\n",
       "</div>"
      ],
      "text/plain": [
       "          2014-10-01  2014-10-02  2014-10-03  2014-10-06  2014-10-07  \\\n",
       "years                                                                  \n",
       "4.666667    2.722915    2.686731    2.678433    2.681385    2.639166   \n",
       "4.750000    2.733588    2.697887    2.690366    2.692824    2.650841   \n",
       "4.833333    2.744126    2.708848    2.702083    2.704147    2.662380   \n",
       "4.916667    2.754540    2.719634    2.713604    2.715368    2.673794   \n",
       "5.000000    2.764842    2.730264    2.724949    2.726501    2.685095   \n",
       "\n",
       "          2014-10-08  2014-10-09  2014-10-10  2014-10-13  2014-10-14  \\\n",
       "years                                                                  \n",
       "4.666667    2.542012    2.528768    2.489063    2.470154    2.349732   \n",
       "4.750000    2.554583    2.543066    2.502357    2.483842    2.366052   \n",
       "4.833333    2.567071    2.557216    2.515531    2.497446    2.382298   \n",
       "4.916667    2.579486    2.571229    2.528592    2.510973    2.398468   \n",
       "5.000000    2.591835    2.585117    2.541548    2.524432    2.414562   \n",
       "\n",
       "          2014-10-15  2014-10-16  \n",
       "years                             \n",
       "4.666667    2.372435    2.157431  \n",
       "4.750000    2.387671    2.176186  \n",
       "4.833333    2.402829    2.194784  \n",
       "4.916667    2.417915    2.213221  \n",
       "5.000000    2.432939    2.231493  "
      ]
     },
     "execution_count": 12,
     "metadata": {},
     "output_type": "execute_result"
    }
   ],
   "source": [
    "libf.tail()"
   ]
  },
  {
   "cell_type": "code",
   "execution_count": 13,
   "metadata": {
    "collapsed": false
   },
   "outputs": [],
   "source": [
    "# generate time index given input data\n",
    "# starting date + 59 months\n",
    "date = libf.columns[-1]\n",
    "index = pd.date_range(date, periods=60, freq='M')  # , tz='GMT')\n",
    "index = [d.replace(day=date.day) for d in index]\n",
    "index = pd.DatetimeIndex(index)\n",
    "libf.index = index"
   ]
  },
  {
   "cell_type": "markdown",
   "metadata": {},
   "source": [
    "And the short end of the **Libor term sturcture** visualized."
   ]
  },
  {
   "cell_type": "code",
   "execution_count": 14,
   "metadata": {
    "collapsed": false
   },
   "outputs": [
    {
     "data": {
      "text/plain": [
       "<matplotlib.axes._subplots.AxesSubplot at 0x7fabbd6cb910>"
      ]
     },
     "execution_count": 14,
     "metadata": {},
     "output_type": "execute_result"
    },
    {
     "data": {
      "image/png": "[encoded data removed]",
      "text/plain": [
       "<matplotlib.figure.Figure at 0x7fabc30ac190>"
      ]
     },
     "metadata": {},
     "output_type": "display_data"
    }
   ],
   "source": [
    "libf.iloc[:, -1].plot(figsize=(10, 6))"
   ]
  },
  {
   "cell_type": "markdown",
   "metadata": {},
   "source": [
    "## Model Calibration"
   ]
  },
  {
   "cell_type": "markdown",
   "metadata": {},
   "source": [
    "Next, equipped with the Libor data, we calibrate the **square-root diffusion short rate model**. A bit of data preparation:"
   ]
  },
  {
   "cell_type": "code",
   "execution_count": 15,
   "metadata": {
    "collapsed": false
   },
   "outputs": [],
   "source": [
    "t = libf.index.to_pydatetime()\n",
    "f = libf.iloc[:, -1].values / 100\n",
    "initial_value = 0.005"
   ]
  },
  {
   "cell_type": "markdown",
   "metadata": {},
   "source": [
    "A **mean-squared error (MSE)** function to be minimized during calibration."
   ]
  },
  {
   "cell_type": "code",
   "execution_count": 16,
   "metadata": {
    "collapsed": false
   },
   "outputs": [],
   "source": [
    "def srd_forward_error(p0):\n",
    "    global initial_value, f, t\n",
    "    if p0[0] < 0 or p0[1] < 0 or p0[2] < 0:\n",
    "        return 100\n",
    "    f_model = dx.srd_forwards(initial_value, p0, t)\n",
    "    MSE = np.sum((f - f_model) ** 2) / len(f)\n",
    "    return MSE"
   ]
  },
  {
   "cell_type": "markdown",
   "metadata": {},
   "source": [
    "And the **calibration** itself."
   ]
  },
  {
   "cell_type": "code",
   "execution_count": 17,
   "metadata": {
    "collapsed": false
   },
   "outputs": [],
   "source": [
    "from scipy.optimize import fmin"
   ]
  },
  {
   "cell_type": "code",
   "execution_count": 18,
   "metadata": {
    "collapsed": false
   },
   "outputs": [
    {
     "name": "stdout",
     "output_type": "stream",
     "text": [
      "Optimization terminated successfully.\n",
      "         Current function value: 0.000000\n",
      "         Iterations: 371\n",
      "         Function evaluations: 649\n"
     ]
    }
   ],
   "source": [
    "opt = fmin(srd_forward_error, (1.0, 0.7, 0.2),\n",
    "           maxiter=1000, maxfun=1000)"
   ]
  },
  {
   "cell_type": "markdown",
   "metadata": {},
   "source": [
    "The **optimal parameters** (kappa, theta, sigma) are:"
   ]
  },
  {
   "cell_type": "code",
   "execution_count": 19,
   "metadata": {
    "collapsed": false
   },
   "outputs": [
    {
     "data": {
      "text/plain": [
       "array([ 0.00544441,  1.80697228,  0.23689443])"
      ]
     },
     "execution_count": 19,
     "metadata": {},
     "output_type": "execute_result"
    }
   ],
   "source": [
    "opt"
   ]
  },
  {
   "cell_type": "markdown",
   "metadata": {},
   "source": [
    "The **model fit** is not too bad in this case."
   ]
  },
  {
   "cell_type": "code",
   "execution_count": 20,
   "metadata": {
    "collapsed": false
   },
   "outputs": [
    {
     "data": {
      "text/plain": [
       "<matplotlib.legend.Legend at 0x7fabc2f85c90>"
      ]
     },
     "execution_count": 20,
     "metadata": {},
     "output_type": "execute_result"
    },
    {
     "data": {
      "image/png": "[encoded data removed]",
      "text/plain": [
       "<matplotlib.figure.Figure at 0x7fabc2faab50>"
      ]
     },
     "metadata": {},
     "output_type": "display_data"
    }
   ],
   "source": [
    "plt.figure(figsize=(10, 6))\n",
    "plt.plot(t, f, label='market forward rates')\n",
    "plt.plot(t, dx.srd_forwards(initial_value, opt, t), 'r.', label='model forward rates')\n",
    "plt.gcf().autofmt_xdate(); plt.legend(loc=0)"
   ]
  },
  {
   "cell_type": "markdown",
   "metadata": {},
   "source": [
    "## Floating Rate Modeling"
   ]
  },
  {
   "cell_type": "markdown",
   "metadata": {},
   "source": [
    "The optimal parameters from the calibration are used to model the **floating rate (3m Libor rate)**."
   ]
  },
  {
   "cell_type": "code",
   "execution_count": 21,
   "metadata": {
    "collapsed": false
   },
   "outputs": [],
   "source": [
    "# market environment\n",
    "me_srd = dx.market_environment('me_srd', dt.datetime(2014, 10, 16))"
   ]
  },
  {
   "cell_type": "code",
   "execution_count": 22,
   "metadata": {
    "collapsed": false
   },
   "outputs": [],
   "source": [
    "# square-root diffusion\n",
    "me_srd.add_constant('initial_value', 0.02)\n",
    "me_srd.add_constant('kappa', opt[0]) \n",
    "me_srd.add_constant('theta', opt[1])\n",
    "me_srd.add_constant('volatility', opt[2])\n",
    "me_srd.add_curve('discount_curve', ois)\n",
    "  # OIS discounting object\n",
    "me_srd.add_constant('currency', 'EUR')\n",
    "me_srd.add_constant('paths', 10000)\n",
    "me_srd.add_constant('frequency', 'w')\n",
    "me_srd.add_constant('starting_date', me_srd.pricing_date)\n",
    "me_srd.add_constant('final_date', dt.datetime(2020, 12, 31))"
   ]
  },
  {
   "cell_type": "code",
   "execution_count": 23,
   "metadata": {
    "collapsed": false
   },
   "outputs": [],
   "source": [
    "srd = dx.square_root_diffusion('srd', me_srd)"
   ]
  },
  {
   "cell_type": "markdown",
   "metadata": {},
   "source": [
    "Let us have a look at some **simulated rate paths**."
   ]
  },
  {
   "cell_type": "code",
   "execution_count": 24,
   "metadata": {
    "collapsed": false
   },
   "outputs": [],
   "source": [
    "paths = srd.get_instrument_values()"
   ]
  },
  {
   "cell_type": "code",
   "execution_count": 25,
   "metadata": {
    "collapsed": false
   },
   "outputs": [
    {
     "data": {
      "text/plain": [
       "[<matplotlib.lines.Line2D at 0x7fabbd5e4f10>,\n",
       " <matplotlib.lines.Line2D at 0x7fabbbcce350>,\n",
       " <matplotlib.lines.Line2D at 0x7fabbbcce490>,\n",
       " <matplotlib.lines.Line2D at 0x7fabbbcce5d0>,\n",
       " <matplotlib.lines.Line2D at 0x7fabbbcce710>,\n",
       " <matplotlib.lines.Line2D at 0x7fabbbcce850>]"
      ]
     },
     "execution_count": 25,
     "metadata": {},
     "output_type": "execute_result"
    },
    {
     "data": {
      "image/png": "[encoded data removed]",
      "text/plain": [
       "<matplotlib.figure.Figure at 0x7fabc2ffbb50>"
      ]
     },
     "metadata": {},
     "output_type": "display_data"
    }
   ],
   "source": [
    "plt.figure(figsize=(10, 6))\n",
    "plt.plot(srd.time_grid, paths[:, :6])"
   ]
  },
  {
   "cell_type": "markdown",
   "metadata": {},
   "source": [
    "## Interest Rate Swap"
   ]
  },
  {
   "cell_type": "markdown",
   "metadata": {},
   "source": [
    "Finally, we can model the **interest rate swap** itself."
   ]
  },
  {
   "cell_type": "markdown",
   "metadata": {},
   "source": [
    "### Modeling"
   ]
  },
  {
   "cell_type": "markdown",
   "metadata": {},
   "source": [
    "First, the market environment with all the **parameters** needed."
   ]
  },
  {
   "cell_type": "code",
   "execution_count": 26,
   "metadata": {
    "collapsed": false
   },
   "outputs": [],
   "source": [
    "# market environment for the IRS\n",
    "me_irs = dx.market_environment('irs', me_srd.pricing_date)\n",
    "me_irs.add_constant('fixed_rate', 0.01)\n",
    "me_irs.add_constant('trade_date', me_srd.pricing_date)\n",
    "me_irs.add_constant('effective_date', me_srd.pricing_date)\n",
    "me_irs.add_constant('payment_date', dt.datetime(2014, 12, 27))\n",
    "me_irs.add_constant('payment_day', 27)\n",
    "me_irs.add_constant('termination_date', me_srd.get_constant('final_date'))\n",
    "me_irs.add_constant('currency', 'EUR')\n",
    "me_irs.add_constant('notional', 1000000)\n",
    "me_irs.add_constant('tenor', '6m')\n",
    "me_irs.add_constant('counting', 'ACT/360')\n",
    "# discount curve from mar_env of floating rate"
   ]
  },
  {
   "cell_type": "markdown",
   "metadata": {},
   "source": [
    "The instantiation of the **valuation object**."
   ]
  },
  {
   "cell_type": "code",
   "execution_count": 27,
   "metadata": {
    "collapsed": false
   },
   "outputs": [],
   "source": [
    "irs = dx.interest_rate_swap('irs', srd, me_irs)"
   ]
  },
  {
   "cell_type": "markdown",
   "metadata": {},
   "source": [
    "### Valuation"
   ]
  },
  {
   "cell_type": "markdown",
   "metadata": {},
   "source": [
    "The **present value** of the interest rate swap given the assumption, in particular, of the fixed rate."
   ]
  },
  {
   "cell_type": "code",
   "execution_count": 28,
   "metadata": {
    "collapsed": false
   },
   "outputs": [
    {
     "name": "stdout",
     "output_type": "stream",
     "text": [
      "CPU times: user 278 ms, sys: 113 ms, total: 391 ms\n",
      "Wall time: 434 ms\n"
     ]
    },
    {
     "data": {
      "text/plain": [
       "482804.6280483039"
      ]
     },
     "execution_count": 28,
     "metadata": {},
     "output_type": "execute_result"
    }
   ],
   "source": [
    "%time irs.present_value(fixed_seed=True)"
   ]
  },
  {
   "cell_type": "markdown",
   "metadata": {},
   "source": [
    "You can also generate a **full output of all present values** per simulation path."
   ]
  },
  {
   "cell_type": "code",
   "execution_count": 29,
   "metadata": {
    "collapsed": false
   },
   "outputs": [
    {
     "data": {
      "text/html": [
       "<div>\n",
       "<table border=\"1\" class=\"dataframe\">\n",
       "  <thead>\n",
       "    <tr style=\"text-align: right;\">\n",
       "      <th></th>\n",
       "      <th>0</th>\n",
       "      <th>1</th>\n",
       "      <th>2</th>\n",
       "      <th>3</th>\n",
       "      <th>4</th>\n",
       "      <th>5</th>\n",
       "    </tr>\n",
       "  </thead>\n",
       "  <tbody>\n",
       "    <tr>\n",
       "      <th>2014-12-27</th>\n",
       "      <td>20919.908406</td>\n",
       "      <td>3765.545880</td>\n",
       "      <td>-10000.000000</td>\n",
       "      <td>20447.662984</td>\n",
       "      <td>15671.171542</td>\n",
       "      <td>-461.905549</td>\n",
       "    </tr>\n",
       "    <tr>\n",
       "      <th>2015-06-27</th>\n",
       "      <td>27796.391566</td>\n",
       "      <td>67649.371268</td>\n",
       "      <td>-7952.865109</td>\n",
       "      <td>21069.238749</td>\n",
       "      <td>6547.642190</td>\n",
       "      <td>56254.997722</td>\n",
       "    </tr>\n",
       "    <tr>\n",
       "      <th>2015-12-27</th>\n",
       "      <td>72797.267752</td>\n",
       "      <td>65085.851729</td>\n",
       "      <td>-9495.534310</td>\n",
       "      <td>7184.517383</td>\n",
       "      <td>-6249.109421</td>\n",
       "      <td>72603.409748</td>\n",
       "    </tr>\n",
       "    <tr>\n",
       "      <th>2016-06-27</th>\n",
       "      <td>146587.773739</td>\n",
       "      <td>60725.900678</td>\n",
       "      <td>-9450.695252</td>\n",
       "      <td>10630.874710</td>\n",
       "      <td>1457.279233</td>\n",
       "      <td>96390.826927</td>\n",
       "    </tr>\n",
       "    <tr>\n",
       "      <th>2016-12-27</th>\n",
       "      <td>112006.856512</td>\n",
       "      <td>11685.574401</td>\n",
       "      <td>-9365.011855</td>\n",
       "      <td>36777.060898</td>\n",
       "      <td>40752.233786</td>\n",
       "      <td>42437.807055</td>\n",
       "    </tr>\n",
       "    <tr>\n",
       "      <th>2017-06-27</th>\n",
       "      <td>89091.008350</td>\n",
       "      <td>19143.973791</td>\n",
       "      <td>-8652.442452</td>\n",
       "      <td>10394.933700</td>\n",
       "      <td>81112.588234</td>\n",
       "      <td>49316.809090</td>\n",
       "    </tr>\n",
       "    <tr>\n",
       "      <th>2017-12-27</th>\n",
       "      <td>153802.099096</td>\n",
       "      <td>37433.554707</td>\n",
       "      <td>-2231.031239</td>\n",
       "      <td>3046.024441</td>\n",
       "      <td>81218.496071</td>\n",
       "      <td>89235.982850</td>\n",
       "    </tr>\n",
       "    <tr>\n",
       "      <th>2018-06-27</th>\n",
       "      <td>114033.046751</td>\n",
       "      <td>-4200.273599</td>\n",
       "      <td>8204.181410</td>\n",
       "      <td>86020.232903</td>\n",
       "      <td>92146.494366</td>\n",
       "      <td>44010.774119</td>\n",
       "    </tr>\n",
       "    <tr>\n",
       "      <th>2018-12-27</th>\n",
       "      <td>165327.788708</td>\n",
       "      <td>-7186.102024</td>\n",
       "      <td>-8829.883386</td>\n",
       "      <td>46785.300398</td>\n",
       "      <td>171037.865434</td>\n",
       "      <td>14615.688086</td>\n",
       "    </tr>\n",
       "    <tr>\n",
       "      <th>2019-06-27</th>\n",
       "      <td>101110.008932</td>\n",
       "      <td>-9038.246291</td>\n",
       "      <td>-6883.724709</td>\n",
       "      <td>29794.380064</td>\n",
       "      <td>183168.704902</td>\n",
       "      <td>-4599.638746</td>\n",
       "    </tr>\n",
       "    <tr>\n",
       "      <th>2019-12-27</th>\n",
       "      <td>57890.028467</td>\n",
       "      <td>-8998.424023</td>\n",
       "      <td>-8573.907447</td>\n",
       "      <td>12491.846129</td>\n",
       "      <td>151080.678798</td>\n",
       "      <td>-8960.333669</td>\n",
       "    </tr>\n",
       "    <tr>\n",
       "      <th>2020-06-27</th>\n",
       "      <td>95516.235053</td>\n",
       "      <td>-8968.295497</td>\n",
       "      <td>-8963.127240</td>\n",
       "      <td>15234.994497</td>\n",
       "      <td>67282.503413</td>\n",
       "      <td>-7763.697572</td>\n",
       "    </tr>\n",
       "    <tr>\n",
       "      <th>2020-12-27</th>\n",
       "      <td>4651.947620</td>\n",
       "      <td>-4500.468014</td>\n",
       "      <td>-6316.280222</td>\n",
       "      <td>39899.010233</td>\n",
       "      <td>107971.761933</td>\n",
       "      <td>-8568.679338</td>\n",
       "    </tr>\n",
       "  </tbody>\n",
       "</table>\n",
       "</div>"
      ],
      "text/plain": [
       "                        0             1             2             3  \\\n",
       "2014-12-27   20919.908406   3765.545880 -10000.000000  20447.662984   \n",
       "2015-06-27   27796.391566  67649.371268  -7952.865109  21069.238749   \n",
       "2015-12-27   72797.267752  65085.851729  -9495.534310   7184.517383   \n",
       "2016-06-27  146587.773739  60725.900678  -9450.695252  10630.874710   \n",
       "2016-12-27  112006.856512  11685.574401  -9365.011855  36777.060898   \n",
       "2017-06-27   89091.008350  19143.973791  -8652.442452  10394.933700   \n",
       "2017-12-27  153802.099096  37433.554707  -2231.031239   3046.024441   \n",
       "2018-06-27  114033.046751  -4200.273599   8204.181410  86020.232903   \n",
       "2018-12-27  165327.788708  -7186.102024  -8829.883386  46785.300398   \n",
       "2019-06-27  101110.008932  -9038.246291  -6883.724709  29794.380064   \n",
       "2019-12-27   57890.028467  -8998.424023  -8573.907447  12491.846129   \n",
       "2020-06-27   95516.235053  -8968.295497  -8963.127240  15234.994497   \n",
       "2020-12-27    4651.947620  -4500.468014  -6316.280222  39899.010233   \n",
       "\n",
       "                        4             5  \n",
       "2014-12-27   15671.171542   -461.905549  \n",
       "2015-06-27    6547.642190  56254.997722  \n",
       "2015-12-27   -6249.109421  72603.409748  \n",
       "2016-06-27    1457.279233  96390.826927  \n",
       "2016-12-27   40752.233786  42437.807055  \n",
       "2017-06-27   81112.588234  49316.809090  \n",
       "2017-12-27   81218.496071  89235.982850  \n",
       "2018-06-27   92146.494366  44010.774119  \n",
       "2018-12-27  171037.865434  14615.688086  \n",
       "2019-06-27  183168.704902  -4599.638746  \n",
       "2019-12-27  151080.678798  -8960.333669  \n",
       "2020-06-27   67282.503413  -7763.697572  \n",
       "2020-12-27  107971.761933  -8568.679338  "
      ]
     },
     "execution_count": 29,
     "metadata": {},
     "output_type": "execute_result"
    }
   ],
   "source": [
    "irs.present_value(full=True).iloc[:, :6]"
   ]
  },
  {
   "cell_type": "markdown",
   "metadata": {},
   "source": [
    "**Copyright, License & Disclaimer**\n",
    "\n",
    "&copy; Dr. Yves J. Hilpisch | The Python Quants GmbH\n",
    "\n",
    "DX Analytics (the \"dx library\") is licensed under the GNU Affero General Public License\n",
    "version 3 or later (see <a href=\"http://www.gnu.org/licenses/\" target=\"_blank\">http://www.gnu.org/licenses/</a>).\n",
    "\n",
    "DX Analytics comes with no representations\n",
    "or warranties, to the extent permitted by applicable law.\n",
    "\n",
    "\n",
    "<img src=\"http://hilpisch.com/tpq_logo.png\" alt=\"The Python Quants\" width=\"35%\" align=\"right\" border=\"0\"><br>\n",
    "\n",
    "<a href=\"http://www.pythonquants.com\" target=\"_blank\">http://www.pythonquants.com</a> | <a href=\"mailto:analytics@pythonquants.com\">analytics@pythonquants.com</a> | <a href=\"http://twitter.com/dyjh\" target=\"_blank\">http://twitter.com/dyjh</a>\n",
    "\n",
    "**Python Quant Platform** |\n",
    "<a href=\"http://quant-platform.com\">http://quant-platform.com</a>\n",
    "\n",
    "**Derivatives Analytics with Python (Wiley Finance)** |\n",
    "<a href=\"http://derivatives-analytics-with-python.com\" target=\"_blank\">http://derivatives-analytics-with-python.com</a>\n",
    "\n",
    "**Python for Finance (O'Reilly)** |\n",
    "<a href=\"http://shop.oreilly.com/product/0636920032441.do\" target=\"_blank\">http://shop.oreilly.com/product/0636920032441.do</a>"
   ]
  }
 ],
 "metadata": {
  "kernelspec": {
   "display_name": "Python 2",
   "language": "python",
   "name": "python2"
  },
  "language_info": {
   "codemirror_mode": {
    "name": "ipython",
    "version": 2
   },
   "file_extension": ".py",
   "mimetype": "text/x-python",
   "name": "python",
   "nbconvert_exporter": "python",
   "pygments_lexer": "ipython2",
   "version": "2.7.11"
  }
 },
 "nbformat": 4,
 "nbformat_minor": 0
}
