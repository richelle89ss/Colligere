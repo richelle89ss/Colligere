{
 "cells": [
  {
   "cell_type": "markdown",
   "metadata": {},
   "source": [
    "<img src=\"http://hilpisch.com/tpq_logo.png\" alt=\"The Python Quants\" width=\"35%\" align=\"right\" border=\"0\"><br>"
   ]
  },
  {
   "cell_type": "markdown",
   "metadata": {},
   "source": [
    "# Python for Finance"
   ]
  },
  {
   "cell_type": "markdown",
   "metadata": {},
   "source": [
    "**Analyze Big Financial Data**\n",
    "\n",
    "O'Reilly (2014)\n",
    "\n",
    "Yves Hilpisch"
   ]
  },
  {
   "cell_type": "markdown",
   "metadata": {},
   "source": [
    "<img style=\"border:0px solid grey;\" src=\"http://hilpisch.com/python_for_finance.png\" alt=\"Python for Finance\" width=\"30%\" align=\"left\" border=\"0\">"
   ]
  },
  {
   "cell_type": "markdown",
   "metadata": {},
   "source": [
    "**Buy the book ** |\n",
    "<a href='http://shop.oreilly.com/product/0636920032441.do' target='_blank'>O'Reilly</a> |\n",
    "<a href='http://www.amazon.com/Yves-Hilpisch/e/B00JCYHHJM' target='_blank'>Amazon</a>\n",
    "\n",
    "**All book codes & IPYNBs** |\n",
    "<a href=\"http://oreilly.quant-platform.com\">http://oreilly.quant-platform.com</a>\n",
    "\n",
    "**The Python Quants GmbH** | <a href='http://pythonquants.com' target='_blank'>www.pythonquants.com</a>\n",
    "\n",
    "**Contact us** | <a href='mailto:analytics@pythonquants.com'>analytics@pythonquants.com</a>"
   ]
  },
  {
   "cell_type": "markdown",
   "metadata": {},
   "source": [
    "# DX Library"
   ]
  },
  {
   "cell_type": "code",
   "execution_count": 1,
   "metadata": {
    "collapsed": false,
    "uuid": "f087ed8b-b432-48a9-a791-451ac477c046"
   },
   "outputs": [],
   "source": [
    "import numpy as np\n",
    "import pandas as pd\n",
    "import datetime as dt"
   ]
  },
  {
   "cell_type": "code",
   "execution_count": 2,
   "metadata": {
    "collapsed": false,
    "uuid": "1d45b83a-110e-4c94-9404-859554d3f2d7"
   },
   "outputs": [],
   "source": [
    "import sys\n",
    "sys.path.append('../python/dxa')"
   ]
  },
  {
   "cell_type": "markdown",
   "metadata": {},
   "source": [
    "## DX Frame"
   ]
  },
  {
   "cell_type": "code",
   "execution_count": 3,
   "metadata": {
    "collapsed": false,
    "uuid": "278721fb-d9a8-4270-a7d5-62f85cff52f0"
   },
   "outputs": [],
   "source": [
    "from dx_frame import *"
   ]
  },
  {
   "cell_type": "markdown",
   "metadata": {},
   "source": [
    "### Risk-Neutral Discounting"
   ]
  },
  {
   "cell_type": "code",
   "execution_count": 4,
   "metadata": {
    "collapsed": false,
    "uuid": "c10b29e3-bd0a-4c3f-83ea-234cc959fa5b"
   },
   "outputs": [],
   "source": [
    "dates = [dt.datetime(2015, 1, 1), dt.datetime(2015, 7, 1), dt.datetime(2016, 1, 1)]"
   ]
  },
  {
   "cell_type": "code",
   "execution_count": 5,
   "metadata": {
    "collapsed": false,
    "uuid": "6ae9c451-fdf0-41b0-9b4e-89f57c2bcc3c"
   },
   "outputs": [],
   "source": [
    "deltas = [0.0, 0.5, 1.0]"
   ]
  },
  {
   "cell_type": "code",
   "execution_count": 6,
   "metadata": {
    "collapsed": false,
    "uuid": "ed812d8b-0e9d-47ab-8793-4bede4dfaf36"
   },
   "outputs": [],
   "source": [
    "csr = constant_short_rate('csr', 0.05)"
   ]
  },
  {
   "cell_type": "code",
   "execution_count": 7,
   "metadata": {
    "collapsed": false,
    "uuid": "1ebd8c12-ee83-46cd-a0b6-7439aa8756b4"
   },
   "outputs": [
    {
     "data": {
      "text/plain": [
       "array([[datetime.datetime(2015, 1, 1, 0, 0), 0.951229424500714],\n",
       "       [datetime.datetime(2015, 7, 1, 0, 0), 0.9755103387657228],\n",
       "       [datetime.datetime(2016, 1, 1, 0, 0), 1.0]], dtype=object)"
      ]
     },
     "execution_count": 7,
     "metadata": {},
     "output_type": "execute_result"
    }
   ],
   "source": [
    "csr.get_discount_factors(dates)"
   ]
  },
  {
   "cell_type": "code",
   "execution_count": 8,
   "metadata": {
    "collapsed": false
   },
   "outputs": [
    {
     "data": {
      "text/plain": [
       "array([ 0.        ,  0.49589041,  1.        ])"
      ]
     },
     "execution_count": 8,
     "metadata": {},
     "output_type": "execute_result"
    }
   ],
   "source": [
    "deltas = get_year_deltas(dates)\n",
    "deltas"
   ]
  },
  {
   "cell_type": "code",
   "execution_count": 9,
   "metadata": {
    "collapsed": false,
    "uuid": "c545e941-ad55-4975-abdd-2071c0453b0a"
   },
   "outputs": [
    {
     "data": {
      "text/plain": [
       "array([[ 0.        ,  0.95122942],\n",
       "       [ 0.49589041,  0.97551034],\n",
       "       [ 1.        ,  1.        ]])"
      ]
     },
     "execution_count": 9,
     "metadata": {},
     "output_type": "execute_result"
    }
   ],
   "source": [
    "csr.get_discount_factors(deltas, dtobjects=False)"
   ]
  },
  {
   "cell_type": "markdown",
   "metadata": {},
   "source": [
    "### Market Environment"
   ]
  },
  {
   "cell_type": "code",
   "execution_count": 10,
   "metadata": {
    "collapsed": false,
    "uuid": "455e1e9e-45be-4c74-b2d3-5dac6132d568"
   },
   "outputs": [],
   "source": [
    "me_gbm = market_environment('me_gbm', dt.datetime(2015, 1, 1))"
   ]
  },
  {
   "cell_type": "code",
   "execution_count": 11,
   "metadata": {
    "collapsed": false,
    "uuid": "3d703766-a01a-458a-8730-ab52da923737"
   },
   "outputs": [],
   "source": [
    "me_gbm.add_constant('initial_value', 36.)\n",
    "me_gbm.add_constant('volatility', 0.2)\n",
    "me_gbm.add_constant('final_date', dt.datetime(2015, 12, 31))\n",
    "me_gbm.add_constant('currency', 'EUR')\n",
    "me_gbm.add_constant('frequency', 'M')\n",
    "me_gbm.add_constant('paths', 10000)"
   ]
  },
  {
   "cell_type": "code",
   "execution_count": 12,
   "metadata": {
    "collapsed": false,
    "uuid": "946be8e3-9d32-42ec-becf-7174d6d37cb7"
   },
   "outputs": [],
   "source": [
    "me_gbm.add_curve('discount_curve', csr)"
   ]
  },
  {
   "cell_type": "markdown",
   "metadata": {},
   "source": [
    "## DX Simulation"
   ]
  },
  {
   "cell_type": "code",
   "execution_count": 13,
   "metadata": {
    "collapsed": false
   },
   "outputs": [],
   "source": [
    "from sn_random_numbers import *"
   ]
  },
  {
   "cell_type": "code",
   "execution_count": 14,
   "metadata": {
    "collapsed": false
   },
   "outputs": [
    {
     "data": {
      "text/plain": [
       "array([[[-0.8044583 ,  0.32093155],\n",
       "        [-0.02548288,  0.64432383]],\n",
       "\n",
       "       [[-0.30079667,  0.38947455],\n",
       "        [-0.1074373 , -0.47998308]]])"
      ]
     },
     "execution_count": 14,
     "metadata": {},
     "output_type": "execute_result"
    }
   ],
   "source": [
    "snrn = sn_random_numbers((2, 2, 2), antithetic=False, moment_matching=False, fixed_seed=True)\n",
    "snrn"
   ]
  },
  {
   "cell_type": "code",
   "execution_count": 15,
   "metadata": {
    "collapsed": false
   },
   "outputs": [
    {
     "data": {
      "text/plain": [
       "array([[[-1.67972865,  0.81075283],\n",
       "        [ 0.04413963,  1.52641815]],\n",
       "\n",
       "       [[-0.56512826,  0.96243813],\n",
       "        [-0.13722505, -0.96166678]]])"
      ]
     },
     "execution_count": 15,
     "metadata": {},
     "output_type": "execute_result"
    }
   ],
   "source": [
    "snrn = sn_random_numbers((2, 2, 2), antithetic=False, moment_matching=True, fixed_seed=True)\n",
    "snrn"
   ]
  },
  {
   "cell_type": "code",
   "execution_count": 16,
   "metadata": {
    "collapsed": false
   },
   "outputs": [
    {
     "data": {
      "text/plain": [
       "-1.3877787807814457e-17"
      ]
     },
     "execution_count": 16,
     "metadata": {},
     "output_type": "execute_result"
    }
   ],
   "source": [
    "snrn.mean()"
   ]
  },
  {
   "cell_type": "markdown",
   "metadata": {},
   "source": [
    "### Geometric Brownian Motion"
   ]
  },
  {
   "cell_type": "code",
   "execution_count": 17,
   "metadata": {
    "collapsed": false,
    "uuid": "5e40de07-230f-4e0a-b993-4081ec791fe7"
   },
   "outputs": [],
   "source": [
    "from dx_frame import *"
   ]
  },
  {
   "cell_type": "code",
   "execution_count": 18,
   "metadata": {
    "collapsed": false,
    "uuid": "b630a638-da9f-4084-9e2b-14b0e1565fd6"
   },
   "outputs": [],
   "source": [
    "me_gbm = market_environment('me_gbm', dt.datetime(2015, 1, 1))"
   ]
  },
  {
   "cell_type": "code",
   "execution_count": 19,
   "metadata": {
    "collapsed": false,
    "uuid": "a49a07ca-f6e7-495e-acc1-edfb73b22edd"
   },
   "outputs": [],
   "source": [
    "me_gbm.add_constant('initial_value', 36.)\n",
    "me_gbm.add_constant('volatility', 0.2)\n",
    "me_gbm.add_constant('final_date', dt.datetime(2015, 12, 31))\n",
    "me_gbm.add_constant('currency', 'EUR')\n",
    "me_gbm.add_constant('frequency', 'M')\n",
    "  # monthly frequency (respcective month end)\n",
    "me_gbm.add_constant('paths', 10000)"
   ]
  },
  {
   "cell_type": "code",
   "execution_count": 20,
   "metadata": {
    "collapsed": false,
    "uuid": "520e0490-b29b-441e-a2f7-ae89fc87cf0f"
   },
   "outputs": [],
   "source": [
    "csr = constant_short_rate('csr', 0.06)"
   ]
  },
  {
   "cell_type": "code",
   "execution_count": 21,
   "metadata": {
    "collapsed": false,
    "uuid": "bac36a29-b2b5-4f62-b848-7cb6f382dc9b"
   },
   "outputs": [],
   "source": [
    "me_gbm.add_curve('discount_curve', csr)"
   ]
  },
  {
   "cell_type": "code",
   "execution_count": 22,
   "metadata": {
    "collapsed": false,
    "uuid": "f9193b81-e8d5-48ea-a86a-94a15a01022f"
   },
   "outputs": [],
   "source": [
    "from geometric_brownian_motion import geometric_brownian_motion"
   ]
  },
  {
   "cell_type": "code",
   "execution_count": 23,
   "metadata": {
    "collapsed": false,
    "uuid": "a00112c1-422e-4140-83e9-1388bc660b11"
   },
   "outputs": [],
   "source": [
    "gbm = geometric_brownian_motion('gbm', me_gbm)"
   ]
  },
  {
   "cell_type": "code",
   "execution_count": 24,
   "metadata": {
    "collapsed": false,
    "uuid": "a6f31102-77b0-4076-a9d6-7a92f3ffdc5e"
   },
   "outputs": [],
   "source": [
    "gbm.generate_time_grid()"
   ]
  },
  {
   "cell_type": "code",
   "execution_count": 25,
   "metadata": {
    "collapsed": false,
    "uuid": "ac81750e-be2b-403b-8260-20822f5307a7"
   },
   "outputs": [
    {
     "data": {
      "text/plain": [
       "array([datetime.datetime(2015, 1, 1, 0, 0),\n",
       "       datetime.datetime(2015, 1, 31, 0, 0),\n",
       "       datetime.datetime(2015, 2, 28, 0, 0),\n",
       "       datetime.datetime(2015, 3, 31, 0, 0),\n",
       "       datetime.datetime(2015, 4, 30, 0, 0),\n",
       "       datetime.datetime(2015, 5, 31, 0, 0),\n",
       "       datetime.datetime(2015, 6, 30, 0, 0),\n",
       "       datetime.datetime(2015, 7, 31, 0, 0),\n",
       "       datetime.datetime(2015, 8, 31, 0, 0),\n",
       "       datetime.datetime(2015, 9, 30, 0, 0),\n",
       "       datetime.datetime(2015, 10, 31, 0, 0),\n",
       "       datetime.datetime(2015, 11, 30, 0, 0),\n",
       "       datetime.datetime(2015, 12, 31, 0, 0)], dtype=object)"
      ]
     },
     "execution_count": 25,
     "metadata": {},
     "output_type": "execute_result"
    }
   ],
   "source": [
    "gbm.time_grid"
   ]
  },
  {
   "cell_type": "code",
   "execution_count": 26,
   "metadata": {
    "collapsed": false,
    "uuid": "a480cd1f-a793-476b-bdd2-a79b568a1872"
   },
   "outputs": [
    {
     "name": "stdout",
     "output_type": "stream",
     "text": [
      "CPU times: user 6 ms, sys: 1 ms, total: 7 ms\n",
      "Wall time: 6.63 ms\n"
     ]
    }
   ],
   "source": [
    "%time paths_1 = gbm.get_instrument_values()"
   ]
  },
  {
   "cell_type": "code",
   "execution_count": 27,
   "metadata": {
    "collapsed": false,
    "uuid": "aed54761-2093-409d-912a-fded6f76b418"
   },
   "outputs": [
    {
     "data": {
      "text/plain": [
       "array([[ 36.        ,  36.        ,  36.        , ...,  36.        ,\n",
       "         36.        ,  36.        ],\n",
       "       [ 37.40294432,  38.1202286 ,  34.39982796, ...,  36.25237338,\n",
       "         35.08385942,  39.66803061],\n",
       "       [ 39.52141274,  42.25526228,  32.4373032 , ...,  34.85854718,\n",
       "         33.65945317,  37.68717766],\n",
       "       ..., \n",
       "       [ 40.49192111,  33.44349499,  23.52000117, ...,  37.87510754,\n",
       "         30.14200933,  30.47215628],\n",
       "       [ 42.4832345 ,  36.9254123 ,  21.90666563, ...,  36.03678387,\n",
       "         30.9275866 ,  30.73817091],\n",
       "       [ 43.76599201,  37.80507666,  24.12339514, ...,  36.28631617,\n",
       "         28.15660098,  29.06263533]])"
      ]
     },
     "execution_count": 27,
     "metadata": {},
     "output_type": "execute_result"
    }
   ],
   "source": [
    "paths_1"
   ]
  },
  {
   "cell_type": "code",
   "execution_count": 28,
   "metadata": {
    "collapsed": false,
    "uuid": "e6dfa29f-27df-4e30-ba44-7f784425d4d9"
   },
   "outputs": [],
   "source": [
    "gbm.update(volatility=0.5)"
   ]
  },
  {
   "cell_type": "code",
   "execution_count": 29,
   "metadata": {
    "collapsed": false,
    "uuid": "d1ec64b1-5f80-4c8b-b4ef-d1cbe2622d31"
   },
   "outputs": [
    {
     "name": "stdout",
     "output_type": "stream",
     "text": [
      "CPU times: user 6 ms, sys: 0 ns, total: 6 ms\n",
      "Wall time: 6.71 ms\n"
     ]
    }
   ],
   "source": [
    "%time paths_2 = gbm.get_instrument_values()"
   ]
  },
  {
   "cell_type": "code",
   "execution_count": 30,
   "metadata": {
    "collapsed": false,
    "uuid": "48e79769-db06-4973-8e3a-a8933df14b1e"
   },
   "outputs": [
    {
     "data": {
      "text/plain": [
       "(array([ 735599.,  735630.,  735658.,  735689.,  735719.,  735750.,\n",
       "         735780.,  735811.,  735842.,  735872.,  735903.,  735933.]),\n",
       " <a list of 12 Text xticklabel objects>)"
      ]
     },
     "execution_count": 30,
     "metadata": {},
     "output_type": "execute_result"
    },
    {
     "data": {
      "image/png": "[encoded data removed]",
      "text/plain": [
       "<matplotlib.figure.Figure at 0x7f19e9ebc610>"
      ]
     },
     "metadata": {},
     "output_type": "display_data"
    }
   ],
   "source": [
    "import matplotlib.pyplot as plt\n",
    "%matplotlib inline\n",
    "plt.figure(figsize=(8, 4))\n",
    "p1 = plt.plot(gbm.time_grid, paths_1[:, :10], 'b')\n",
    "p2 = plt.plot(gbm.time_grid, paths_2[:, :10], 'r-.')\n",
    "plt.grid(True)\n",
    "l1 = plt.legend([p1[0], p2[0]],\n",
    "                ['low volatility', 'high volatility'], loc=2)\n",
    "plt.gca().add_artist(l1)\n",
    "plt.xticks(rotation=30)\n",
    "# tag: gbm_class_fig\n",
    "# title: Simulated paths from geometric Brownian motion simulation class"
   ]
  },
  {
   "cell_type": "markdown",
   "metadata": {},
   "source": [
    "### Jump Diffusion"
   ]
  },
  {
   "cell_type": "code",
   "execution_count": 31,
   "metadata": {
    "collapsed": false,
    "uuid": "32912563-dcc1-4399-b5ed-1603c83f19f6"
   },
   "outputs": [],
   "source": [
    "me_jd = market_environment('me_jd', dt.datetime(2015, 1, 1))"
   ]
  },
  {
   "cell_type": "code",
   "execution_count": 32,
   "metadata": {
    "collapsed": false,
    "uuid": "66dda0df-b62e-4596-803f-3f74d0b83320"
   },
   "outputs": [],
   "source": [
    "# specific to simulation class\n",
    "me_jd.add_constant('lambda', 0.3)\n",
    "me_jd.add_constant('mu', -0.75)\n",
    "me_jd.add_constant('delta', 0.1)"
   ]
  },
  {
   "cell_type": "code",
   "execution_count": 33,
   "metadata": {
    "collapsed": false,
    "uuid": "c1e390cc-dd6b-4186-a7be-012f8187ebe4"
   },
   "outputs": [],
   "source": [
    "me_jd.add_environment(me_gbm)"
   ]
  },
  {
   "cell_type": "code",
   "execution_count": 34,
   "metadata": {
    "collapsed": false,
    "uuid": "31aeb150-6007-4eaa-b70b-8a798f044f0c"
   },
   "outputs": [],
   "source": [
    "from jump_diffusion import jump_diffusion"
   ]
  },
  {
   "cell_type": "code",
   "execution_count": 35,
   "metadata": {
    "collapsed": false,
    "uuid": "e9c72a6e-3433-442e-9db3-02abf8efaff2"
   },
   "outputs": [],
   "source": [
    "jd = jump_diffusion('jd', me_jd)"
   ]
  },
  {
   "cell_type": "code",
   "execution_count": 36,
   "metadata": {
    "collapsed": false,
    "uuid": "18fd9ba5-e1c6-4e90-ac6a-fa3727acc524"
   },
   "outputs": [
    {
     "name": "stdout",
     "output_type": "stream",
     "text": [
      "CPU times: user 18 ms, sys: 1 ms, total: 19 ms\n",
      "Wall time: 18 ms\n"
     ]
    }
   ],
   "source": [
    "%time paths_3 = jd.get_instrument_values()"
   ]
  },
  {
   "cell_type": "code",
   "execution_count": 37,
   "metadata": {
    "collapsed": false,
    "uuid": "38806874-53b2-4e91-9bd5-5764654446b8"
   },
   "outputs": [],
   "source": [
    "jd.update(lamb=0.9)"
   ]
  },
  {
   "cell_type": "code",
   "execution_count": 38,
   "metadata": {
    "collapsed": false,
    "uuid": "a2bd3f5d-44cb-458d-ae7d-9238d7a6b93b"
   },
   "outputs": [
    {
     "name": "stdout",
     "output_type": "stream",
     "text": [
      "CPU times: user 17 ms, sys: 1 ms, total: 18 ms\n",
      "Wall time: 18.4 ms\n"
     ]
    }
   ],
   "source": [
    "%time paths_4 = jd.get_instrument_values()"
   ]
  },
  {
   "cell_type": "code",
   "execution_count": 39,
   "metadata": {
    "collapsed": false,
    "uuid": "5b744e93-dac1-4868-8499-6a8f70bcfc42"
   },
   "outputs": [
    {
     "data": {
      "text/plain": [
       "(array([ 735599.,  735630.,  735658.,  735689.,  735719.,  735750.,\n",
       "         735780.,  735811.,  735842.,  735872.,  735903.,  735933.]),\n",
       " <a list of 12 Text xticklabel objects>)"
      ]
     },
     "execution_count": 39,
     "metadata": {},
     "output_type": "execute_result"
    },
    {
     "data": {
      "image/png": "[encoded data removed]",
      "text/plain": [
       "<matplotlib.figure.Figure at 0x7f19e55b6850>"
      ]
     },
     "metadata": {},
     "output_type": "display_data"
    }
   ],
   "source": [
    "plt.figure(figsize=(8, 4))\n",
    "p1 = plt.plot(gbm.time_grid, paths_3[:, :10], 'b')\n",
    "p2 = plt.plot(gbm.time_grid, paths_4[:, :10], 'r-.')\n",
    "plt.grid(True)\n",
    "l1 = plt.legend([p1[0], p2[0]],\n",
    "                ['low intensity', 'high intensity'], loc=3)\n",
    "plt.gca().add_artist(l1)\n",
    "plt.xticks(rotation=30)\n",
    "# tag: jd_class_fig\n",
    "# title: Simulated paths from jump diffusion simulation class"
   ]
  },
  {
   "cell_type": "markdown",
   "metadata": {},
   "source": [
    "### Square-Root Diffusion"
   ]
  },
  {
   "cell_type": "code",
   "execution_count": 40,
   "metadata": {
    "collapsed": false,
    "uuid": "5cee70a6-b34b-47dd-a0ca-e4a239209f9a"
   },
   "outputs": [],
   "source": [
    "me_srd = market_environment('me_srd', dt.datetime(2015, 1, 1))"
   ]
  },
  {
   "cell_type": "code",
   "execution_count": 41,
   "metadata": {
    "collapsed": false,
    "uuid": "cce8be97-72ab-44b8-8080-74caa746f4fe"
   },
   "outputs": [],
   "source": [
    "me_srd.add_constant('initial_value', .25)\n",
    "me_srd.add_constant('volatility', 0.05)\n",
    "me_srd.add_constant('final_date', dt.datetime(2015, 12, 31))\n",
    "me_srd.add_constant('currency', 'EUR')\n",
    "me_srd.add_constant('frequency', 'W')\n",
    "me_srd.add_constant('paths', 10000)"
   ]
  },
  {
   "cell_type": "code",
   "execution_count": 42,
   "metadata": {
    "collapsed": false,
    "uuid": "51da0da3-f606-4872-a44e-356ab708c1b7"
   },
   "outputs": [],
   "source": [
    "# specific to simualation class\n",
    "me_srd.add_constant('kappa', 4.0)\n",
    "me_srd.add_constant('theta', 0.2)"
   ]
  },
  {
   "cell_type": "code",
   "execution_count": 43,
   "metadata": {
    "collapsed": false,
    "uuid": "d88f4994-9f99-4b84-ae61-64b9ef193bfb"
   },
   "outputs": [],
   "source": [
    "# required but not needed for the class\n",
    "me_srd.add_curve('discount_curve', constant_short_rate('r', 0.0))"
   ]
  },
  {
   "cell_type": "code",
   "execution_count": 44,
   "metadata": {
    "collapsed": false,
    "uuid": "9614dce2-b786-447f-b750-4ef4d78e1cd9"
   },
   "outputs": [],
   "source": [
    "from square_root_diffusion import square_root_diffusion"
   ]
  },
  {
   "cell_type": "code",
   "execution_count": 45,
   "metadata": {
    "collapsed": false,
    "uuid": "2ab8a1b3-0ca9-41cc-977b-a935a6f0bec8"
   },
   "outputs": [],
   "source": [
    "srd = square_root_diffusion('srd', me_srd)"
   ]
  },
  {
   "cell_type": "code",
   "execution_count": 46,
   "metadata": {
    "collapsed": false,
    "uuid": "0ae9685b-e73c-45f5-996f-58c21843234a"
   },
   "outputs": [],
   "source": [
    "srd_paths = srd.get_instrument_values()[:, :10]"
   ]
  },
  {
   "cell_type": "code",
   "execution_count": 47,
   "metadata": {
    "collapsed": false,
    "uuid": "c25fa7d4-688a-4275-9224-0bc20a8b54c0"
   },
   "outputs": [
    {
     "data": {
      "text/plain": [
       "(array([ 735599.,  735630.,  735658.,  735689.,  735719.,  735750.,\n",
       "         735780.,  735811.,  735842.,  735872.,  735903.,  735933.]),\n",
       " <a list of 12 Text xticklabel objects>)"
      ]
     },
     "execution_count": 47,
     "metadata": {},
     "output_type": "execute_result"
    },
    {
     "data": {
      "image/png": "[encoded data removed]",
      "text/plain": [
       "<matplotlib.figure.Figure at 0x7f19ec051b50>"
      ]
     },
     "metadata": {},
     "output_type": "display_data"
    }
   ],
   "source": [
    "plt.figure(figsize=(8, 4))\n",
    "plt.plot(srd.time_grid, srd.get_instrument_values()[:, :10])\n",
    "plt.axhline(me_srd.get_constant('theta'), color='r', ls='--', lw=2.0)\n",
    "plt.grid(True)\n",
    "plt.xticks(rotation=30)\n",
    "# tag: srd_class_fig\n",
    "# title: Simulated paths from square-root diffusion simulation class (dashed line = long-term mean)"
   ]
  },
  {
   "cell_type": "markdown",
   "metadata": {},
   "source": [
    "## Valuation Classes"
   ]
  },
  {
   "cell_type": "markdown",
   "metadata": {},
   "source": [
    "### European Options"
   ]
  },
  {
   "cell_type": "code",
   "execution_count": 48,
   "metadata": {
    "collapsed": false,
    "uuid": "57252fe1-29a2-44bb-8cab-64337ea2bdc7"
   },
   "outputs": [],
   "source": [
    "from dx_simulation import *"
   ]
  },
  {
   "cell_type": "code",
   "execution_count": 49,
   "metadata": {
    "collapsed": false,
    "uuid": "9f6df028-fd97-4dc9-9960-d5202b94feb1"
   },
   "outputs": [],
   "source": [
    "me_gbm = market_environment('me_gbm', dt.datetime(2015, 1, 1))"
   ]
  },
  {
   "cell_type": "code",
   "execution_count": 50,
   "metadata": {
    "collapsed": false,
    "uuid": "527be3e7-3e98-4fe5-b41e-23af730c0921"
   },
   "outputs": [],
   "source": [
    "me_gbm.add_constant('initial_value', 36.)\n",
    "me_gbm.add_constant('volatility', 0.2)\n",
    "me_gbm.add_constant('final_date', dt.datetime(2015, 12, 31))\n",
    "me_gbm.add_constant('currency', 'EUR')\n",
    "me_gbm.add_constant('frequency', 'M')\n",
    "me_gbm.add_constant('paths', 10000)"
   ]
  },
  {
   "cell_type": "code",
   "execution_count": 51,
   "metadata": {
    "collapsed": false,
    "uuid": "fc61c07b-7bb2-45ac-a10d-617a24747953"
   },
   "outputs": [],
   "source": [
    "csr = constant_short_rate('csr', 0.06)"
   ]
  },
  {
   "cell_type": "code",
   "execution_count": 52,
   "metadata": {
    "collapsed": false,
    "uuid": "6acd3ae9-5986-4cec-9f66-407ddd79202e"
   },
   "outputs": [],
   "source": [
    "me_gbm.add_curve('discount_curve', csr)"
   ]
  },
  {
   "cell_type": "code",
   "execution_count": 53,
   "metadata": {
    "collapsed": false,
    "uuid": "dc0c43ae-c6f0-434e-ad6e-c3fbe91b1175"
   },
   "outputs": [],
   "source": [
    "gbm = geometric_brownian_motion('gbm', me_gbm)"
   ]
  },
  {
   "cell_type": "code",
   "execution_count": 54,
   "metadata": {
    "collapsed": false,
    "uuid": "17f4b627-7fb8-43f6-bb15-26a6a4d60b0b"
   },
   "outputs": [],
   "source": [
    "me_call = market_environment('me_call', me_gbm.pricing_date)"
   ]
  },
  {
   "cell_type": "code",
   "execution_count": 55,
   "metadata": {
    "collapsed": false,
    "uuid": "838f54a8-e11c-4ab5-85ce-8393d89f957f"
   },
   "outputs": [],
   "source": [
    "me_call.add_constant('strike', 40.)\n",
    "me_call.add_constant('maturity', dt.datetime(2015, 12, 31))\n",
    "me_call.add_constant('currency', 'EUR')"
   ]
  },
  {
   "cell_type": "code",
   "execution_count": 56,
   "metadata": {
    "collapsed": false,
    "uuid": "4bfb5550-ab6b-4b56-9604-3fad05c5f334"
   },
   "outputs": [],
   "source": [
    "payoff_func = 'np.maximum(maturity_value - strike, 0)'"
   ]
  },
  {
   "cell_type": "code",
   "execution_count": 57,
   "metadata": {
    "collapsed": false,
    "uuid": "5a331672-9004-43b0-9ba6-61622d4e1b65"
   },
   "outputs": [],
   "source": [
    "from valuation_mcs_european import valuation_mcs_european"
   ]
  },
  {
   "cell_type": "code",
   "execution_count": 58,
   "metadata": {
    "collapsed": false,
    "uuid": "0ba08733-7d34-488e-b460-e5abc223a85a"
   },
   "outputs": [],
   "source": [
    "eur_call = valuation_mcs_european('eur_call', underlying=gbm,\n",
    "                        mar_env=me_call, payoff_func=payoff_func)"
   ]
  },
  {
   "cell_type": "code",
   "execution_count": 59,
   "metadata": {
    "collapsed": false,
    "uuid": "1869f59a-2c88-4bb4-bde6-b662edbd5f62"
   },
   "outputs": [
    {
     "name": "stdout",
     "output_type": "stream",
     "text": [
      "CPU times: user 12 ms, sys: 1 ms, total: 13 ms\n",
      "Wall time: 12.2 ms\n"
     ]
    },
    {
     "data": {
      "text/plain": [
       "2.140776"
      ]
     },
     "execution_count": 59,
     "metadata": {},
     "output_type": "execute_result"
    }
   ],
   "source": [
    "%time eur_call.present_value()"
   ]
  },
  {
   "cell_type": "code",
   "execution_count": 60,
   "metadata": {
    "collapsed": false,
    "uuid": "62330fe7-0fbe-4a24-886e-a9c64b61122c"
   },
   "outputs": [
    {
     "name": "stdout",
     "output_type": "stream",
     "text": [
      "CPU times: user 6 ms, sys: 0 ns, total: 6 ms\n",
      "Wall time: 6.48 ms\n"
     ]
    },
    {
     "data": {
      "text/plain": [
       "0.5148"
      ]
     },
     "execution_count": 60,
     "metadata": {},
     "output_type": "execute_result"
    }
   ],
   "source": [
    "%time eur_call.delta()"
   ]
  },
  {
   "cell_type": "code",
   "execution_count": 61,
   "metadata": {
    "collapsed": false,
    "uuid": "999b5d90-57b9-46da-b7cc-981841df58b8"
   },
   "outputs": [
    {
     "name": "stdout",
     "output_type": "stream",
     "text": [
      "CPU times: user 15 ms, sys: 0 ns, total: 15 ms\n",
      "Wall time: 14.6 ms\n"
     ]
    },
    {
     "data": {
      "text/plain": [
       "14.2782"
      ]
     },
     "execution_count": 61,
     "metadata": {},
     "output_type": "execute_result"
    }
   ],
   "source": [
    "%time eur_call.vega()"
   ]
  },
  {
   "cell_type": "code",
   "execution_count": 62,
   "metadata": {
    "collapsed": false,
    "uuid": "bf5e7430-eea7-47ae-b1a6-e335c144929b"
   },
   "outputs": [
    {
     "name": "stdout",
     "output_type": "stream",
     "text": [
      "CPU times: user 163 ms, sys: 1 ms, total: 164 ms\n",
      "Wall time: 163 ms\n"
     ]
    }
   ],
   "source": [
    "%%time\n",
    "s_list = np.arange(34., 46.1, 2.)\n",
    "p_list = []; d_list = []; v_list = []\n",
    "for s in s_list:\n",
    "    eur_call.update(initial_value=s)\n",
    "    p_list.append(eur_call.present_value(fixed_seed=True))\n",
    "    d_list.append(eur_call.delta())\n",
    "    v_list.append(eur_call.vega())"
   ]
  },
  {
   "cell_type": "code",
   "execution_count": 63,
   "metadata": {
    "collapsed": false,
    "uuid": "70b7e095-a138-47bb-90b5-2a658d74b87c"
   },
   "outputs": [],
   "source": [
    "from plot_option_stats import plot_option_stats\n",
    "%matplotlib inline"
   ]
  },
  {
   "cell_type": "code",
   "execution_count": 64,
   "metadata": {
    "collapsed": false,
    "uuid": "2590618e-3bfd-4416-82b6-eef269a28f38"
   },
   "outputs": [
    {
     "data": {
      "image/png": "[encoded data removed]",
      "text/plain": [
       "<matplotlib.figure.Figure at 0x7f19e4ed5a10>"
      ]
     },
     "metadata": {},
     "output_type": "display_data"
    }
   ],
   "source": [
    "plot_option_stats(s_list, p_list, d_list, v_list)\n",
    "# tag: option_stats_1\n",
    "# title: Present value, Delta and Vega estimates for European call option\n",
    "# size: 75"
   ]
  },
  {
   "cell_type": "code",
   "execution_count": 65,
   "metadata": {
    "collapsed": false,
    "uuid": "2d5ca812-5448-47fe-9fd3-af2ab7eca13e"
   },
   "outputs": [],
   "source": [
    "payoff_func = 'np.maximum(0.33 * (maturity_value + max_value) - 40, 0)'\n",
    "  # payoff dependent on both the simulated maturity value\n",
    "  # and the maximum value"
   ]
  },
  {
   "cell_type": "code",
   "execution_count": 66,
   "metadata": {
    "collapsed": false,
    "uuid": "62c9340d-a2a3-477e-b640-389d81c3b8a1"
   },
   "outputs": [],
   "source": [
    "eur_as_call = valuation_mcs_european('eur_as_call', underlying=gbm,\n",
    "                            mar_env=me_call, payoff_func=payoff_func)"
   ]
  },
  {
   "cell_type": "code",
   "execution_count": 67,
   "metadata": {
    "collapsed": false,
    "uuid": "50f5cf9a-d2c7-4e69-9361-e3bf8678c4a3"
   },
   "outputs": [
    {
     "name": "stdout",
     "output_type": "stream",
     "text": [
      "CPU times: user 167 ms, sys: 1 ms, total: 168 ms\n",
      "Wall time: 168 ms\n"
     ]
    }
   ],
   "source": [
    "%%time\n",
    "s_list = np.arange(34., 46.1, 2.)\n",
    "p_list = []; d_list = []; v_list = []\n",
    "for s in s_list:\n",
    "    eur_as_call.update(s)\n",
    "    p_list.append(eur_as_call.present_value(fixed_seed=True))\n",
    "    d_list.append(eur_as_call.delta())\n",
    "    v_list.append(eur_as_call.vega())"
   ]
  },
  {
   "cell_type": "code",
   "execution_count": 68,
   "metadata": {
    "collapsed": false,
    "uuid": "a4602156-ade5-49fe-97c8-3088dc47944c"
   },
   "outputs": [
    {
     "data": {
      "image/png": "[encoded data removed]",
      "text/plain": [
       "<matplotlib.figure.Figure at 0x7f19e5571e50>"
      ]
     },
     "metadata": {},
     "output_type": "display_data"
    }
   ],
   "source": [
    "plot_option_stats(s_list, p_list, d_list, v_list)\n",
    "# tag: option_stats_2\n",
    "# title: Present value, Delta and Vega estimates for European Asian call option\n",
    "# size: 75"
   ]
  },
  {
   "cell_type": "markdown",
   "metadata": {},
   "source": [
    "### American Options"
   ]
  },
  {
   "cell_type": "code",
   "execution_count": 69,
   "metadata": {
    "collapsed": false,
    "uuid": "5d69e0ae-939b-49fa-a329-2f0538f8cb20"
   },
   "outputs": [],
   "source": [
    "from dx_simulation import *"
   ]
  },
  {
   "cell_type": "code",
   "execution_count": 70,
   "metadata": {
    "collapsed": false,
    "uuid": "81d66ea7-15df-429a-9f87-fc2f2c881726"
   },
   "outputs": [],
   "source": [
    "me_gbm = market_environment('me_gbm', dt.datetime(2015, 1, 1))"
   ]
  },
  {
   "cell_type": "code",
   "execution_count": 71,
   "metadata": {
    "collapsed": false,
    "uuid": "f822430b-6875-4b81-9c15-4684eea1225c"
   },
   "outputs": [],
   "source": [
    "me_gbm.add_constant('initial_value', 36.)\n",
    "me_gbm.add_constant('volatility', 0.2)\n",
    "me_gbm.add_constant('final_date', dt.datetime(2016, 12, 31))\n",
    "me_gbm.add_constant('currency', 'EUR')\n",
    "me_gbm.add_constant('frequency', 'W')\n",
    "  # weekly frequency\n",
    "me_gbm.add_constant('paths', 50000)"
   ]
  },
  {
   "cell_type": "code",
   "execution_count": 72,
   "metadata": {
    "collapsed": false,
    "uuid": "ed806c52-2dc7-4dec-a8dc-8e0d99e18a3c"
   },
   "outputs": [],
   "source": [
    "csr = constant_short_rate('csr', 0.06)"
   ]
  },
  {
   "cell_type": "code",
   "execution_count": 73,
   "metadata": {
    "collapsed": false,
    "uuid": "78738a9b-8f75-4710-b31d-415cdade6bb8"
   },
   "outputs": [],
   "source": [
    "me_gbm.add_curve('discount_curve', csr)"
   ]
  },
  {
   "cell_type": "code",
   "execution_count": 74,
   "metadata": {
    "collapsed": false,
    "uuid": "4b0692ba-91f6-4d19-adfd-d4b31590542b"
   },
   "outputs": [],
   "source": [
    "gbm = geometric_brownian_motion('gbm', me_gbm)"
   ]
  },
  {
   "cell_type": "code",
   "execution_count": 75,
   "metadata": {
    "collapsed": false,
    "uuid": "ab695214-a424-4ead-9c96-ef75a8f52ed0"
   },
   "outputs": [],
   "source": [
    "payoff_func = 'np.maximum(strike - instrument_values, 0)'"
   ]
  },
  {
   "cell_type": "code",
   "execution_count": 76,
   "metadata": {
    "collapsed": false,
    "uuid": "558b7076-4cc6-4e45-9e04-395eb3ba8aac"
   },
   "outputs": [],
   "source": [
    "me_am_put = market_environment('me_am_put', dt.datetime(2015, 1, 1))"
   ]
  },
  {
   "cell_type": "code",
   "execution_count": 77,
   "metadata": {
    "collapsed": false,
    "uuid": "783eb5ab-6dd6-4561-9614-aedb4247d6ab"
   },
   "outputs": [],
   "source": [
    "me_am_put.add_constant('maturity', dt.datetime(2015, 12, 31))\n",
    "me_am_put.add_constant('strike', 40.)\n",
    "me_am_put.add_constant('currency', 'EUR')"
   ]
  },
  {
   "cell_type": "code",
   "execution_count": 78,
   "metadata": {
    "collapsed": false,
    "uuid": "dd6bc5f2-ed01-4877-a7da-dee5d9bd9c45"
   },
   "outputs": [],
   "source": [
    "from valuation_mcs_american import valuation_mcs_american"
   ]
  },
  {
   "cell_type": "code",
   "execution_count": 79,
   "metadata": {
    "collapsed": false,
    "uuid": "a43bc735-e35e-4621-9185-5d9d415b0efd"
   },
   "outputs": [],
   "source": [
    "am_put = valuation_mcs_american('am_put', underlying=gbm,\n",
    "                    mar_env=me_am_put, payoff_func=payoff_func)"
   ]
  },
  {
   "cell_type": "code",
   "execution_count": 80,
   "metadata": {
    "collapsed": false,
    "uuid": "eeb5de5d-f95b-4acd-bbab-2eae998d8f46"
   },
   "outputs": [
    {
     "name": "stdout",
     "output_type": "stream",
     "text": [
      "CPU times: user 559 ms, sys: 22 ms, total: 581 ms\n",
      "Wall time: 580 ms\n"
     ]
    },
    {
     "data": {
      "text/plain": [
       "4.470627"
      ]
     },
     "execution_count": 80,
     "metadata": {},
     "output_type": "execute_result"
    }
   ],
   "source": [
    "%time am_put.present_value(fixed_seed=True, bf=5)"
   ]
  },
  {
   "cell_type": "code",
   "execution_count": 81,
   "metadata": {
    "collapsed": false,
    "uuid": "671c9254-1fa5-432c-accb-4d0610abd910"
   },
   "outputs": [
    {
     "name": "stdout",
     "output_type": "stream",
     "text": [
      "CPU times: user 14.4 s, sys: 259 ms, total: 14.7 s\n",
      "Wall time: 14.7 s\n"
     ]
    }
   ],
   "source": [
    "%%time\n",
    "ls_table = []\n",
    "for initial_value in (36., 38., 40., 42., 44.): \n",
    "    for volatility in (0.2, 0.4):\n",
    "        for maturity in (dt.datetime(2015, 12, 31),\n",
    "                         dt.datetime(2016, 12, 31)):\n",
    "            am_put.update(initial_value=initial_value,\n",
    "                          volatility=volatility,\n",
    "                          maturity=maturity)\n",
    "            ls_table.append([initial_value,\n",
    "                             volatility,\n",
    "                             maturity,\n",
    "                             am_put.present_value(bf=5)])"
   ]
  },
  {
   "cell_type": "code",
   "execution_count": 82,
   "metadata": {
    "collapsed": false,
    "uuid": "125e9a02-1db7-4fdd-bdd8-6f0f522281d3"
   },
   "outputs": [
    {
     "name": "stdout",
     "output_type": "stream",
     "text": [
      "S0  | Vola | T | Value\n",
      "----------------------\n",
      "36  | 0.2  | 1 | 4.444\n",
      "36  | 0.2  | 2 | 4.769\n",
      "36  | 0.4  | 1 | 7.000\n",
      "36  | 0.4  | 2 | 8.378\n",
      "38  | 0.2  | 1 | 3.210\n",
      "38  | 0.2  | 2 | 3.645\n",
      "38  | 0.4  | 1 | 6.066\n",
      "38  | 0.4  | 2 | 7.535\n",
      "40  | 0.2  | 1 | 2.267\n",
      "40  | 0.2  | 2 | 2.778\n",
      "40  | 0.4  | 1 | 5.203\n",
      "40  | 0.4  | 2 | 6.753\n",
      "42  | 0.2  | 1 | 1.554\n",
      "42  | 0.2  | 2 | 2.099\n",
      "42  | 0.4  | 1 | 4.459\n",
      "42  | 0.4  | 2 | 6.046\n",
      "44  | 0.2  | 1 | 1.056\n",
      "44  | 0.2  | 2 | 1.618\n",
      "44  | 0.4  | 1 | 3.846\n",
      "44  | 0.4  | 2 | 5.494\n"
     ]
    }
   ],
   "source": [
    "print \"S0  | Vola | T | Value\"\n",
    "print 22 * \"-\"\n",
    "for r in ls_table:\n",
    "    print \"%d  | %3.1f  | %d | %5.3f\" % \\\n",
    "          (r[0], r[1], r[2].year - 2014, r[3])"
   ]
  },
  {
   "cell_type": "code",
   "execution_count": 83,
   "metadata": {
    "collapsed": false,
    "uuid": "481d5438-d32b-40a2-aa8c-687b19138e29"
   },
   "outputs": [
    {
     "data": {
      "text/plain": [
       "-0.4631"
      ]
     },
     "execution_count": 83,
     "metadata": {},
     "output_type": "execute_result"
    }
   ],
   "source": [
    "am_put.update(initial_value=36.)\n",
    "am_put.delta()"
   ]
  },
  {
   "cell_type": "code",
   "execution_count": 84,
   "metadata": {
    "collapsed": false,
    "uuid": "84cf9547-c8b3-4205-81e5-8949ae798394"
   },
   "outputs": [
    {
     "data": {
      "text/plain": [
       "18.4939"
      ]
     },
     "execution_count": 84,
     "metadata": {},
     "output_type": "execute_result"
    }
   ],
   "source": [
    "am_put.vega()"
   ]
  },
  {
   "cell_type": "markdown",
   "metadata": {},
   "source": [
    "## Portfolios"
   ]
  },
  {
   "cell_type": "markdown",
   "metadata": {},
   "source": [
    "### Position"
   ]
  },
  {
   "cell_type": "code",
   "execution_count": 85,
   "metadata": {
    "collapsed": false,
    "uuid": "e826f896-6999-4007-b0b2-c46750e0afc4"
   },
   "outputs": [],
   "source": [
    "from dx_valuation import *"
   ]
  },
  {
   "cell_type": "code",
   "execution_count": 86,
   "metadata": {
    "collapsed": false,
    "uuid": "636c1eae-142b-447f-a137-d36d81e4626b"
   },
   "outputs": [],
   "source": [
    "me_gbm = market_environment('me_gbm', dt.datetime(2015, 1, 1))"
   ]
  },
  {
   "cell_type": "code",
   "execution_count": 87,
   "metadata": {
    "collapsed": false,
    "uuid": "6e3324f6-21ee-46f4-b330-205ab3766f1f"
   },
   "outputs": [],
   "source": [
    "me_gbm.add_constant('initial_value', 36.)\n",
    "me_gbm.add_constant('volatility', 0.2)\n",
    "me_gbm.add_constant('currency', 'EUR')"
   ]
  },
  {
   "cell_type": "code",
   "execution_count": 88,
   "metadata": {
    "collapsed": false,
    "uuid": "4133fd96-79aa-4df7-8dbb-328561e2267c"
   },
   "outputs": [],
   "source": [
    "me_gbm.add_constant('model', 'gbm')"
   ]
  },
  {
   "cell_type": "code",
   "execution_count": 89,
   "metadata": {
    "collapsed": false,
    "uuid": "552c207a-7c7d-4809-a5ee-64c11d7604a3"
   },
   "outputs": [],
   "source": [
    "from derivatives_position import derivatives_position"
   ]
  },
  {
   "cell_type": "code",
   "execution_count": 90,
   "metadata": {
    "collapsed": false,
    "uuid": "d2cd3a35-f2a9-470c-a705-299172dd8887"
   },
   "outputs": [],
   "source": [
    "me_am_put = market_environment('me_am_put', dt.datetime(2015, 1, 1))"
   ]
  },
  {
   "cell_type": "code",
   "execution_count": 91,
   "metadata": {
    "collapsed": false,
    "uuid": "f3bd69f3-c361-44ce-9cad-3584366b459f"
   },
   "outputs": [],
   "source": [
    "me_am_put.add_constant('maturity', dt.datetime(2015, 12, 31))\n",
    "me_am_put.add_constant('strike', 40.)\n",
    "me_am_put.add_constant('currency', 'EUR')"
   ]
  },
  {
   "cell_type": "code",
   "execution_count": 92,
   "metadata": {
    "collapsed": false,
    "uuid": "70aa8500-9a8a-4d54-951e-ac820eaff24d"
   },
   "outputs": [],
   "source": [
    "payoff_func = 'np.maximum(strike - instrument_values, 0)'"
   ]
  },
  {
   "cell_type": "code",
   "execution_count": 93,
   "metadata": {
    "collapsed": false,
    "uuid": "ce2244bd-c4c0-4386-a518-06c3373a96b1"
   },
   "outputs": [],
   "source": [
    "am_put_pos = derivatives_position(\n",
    "             name='am_put_pos',\n",
    "             quantity=3,\n",
    "             underlying='gbm',\n",
    "             mar_env=me_am_put,\n",
    "             otype='American',\n",
    "             payoff_func=payoff_func)"
   ]
  },
  {
   "cell_type": "code",
   "execution_count": 94,
   "metadata": {
    "collapsed": false,
    "uuid": "9bb959eb-6ce0-48eb-9f1f-bf64eee505fe"
   },
   "outputs": [
    {
     "name": "stdout",
     "output_type": "stream",
     "text": [
      "NAME\n",
      "am_put_pos \n",
      "\n",
      "QUANTITY\n",
      "3 \n",
      "\n",
      "UNDERLYING\n",
      "gbm \n",
      "\n",
      "MARKET ENVIRONMENT\n",
      "\n",
      "**Constants**\n",
      "strike 40.0\n",
      "maturity 2015-12-31 00:00:00\n",
      "currency EUR\n",
      "\n",
      "**Lists**\n",
      "\n",
      "**Curves**\n",
      "\n",
      "OPTION TYPE\n",
      "American \n",
      "\n",
      "PAYOFF FUNCTION\n",
      "np.maximum(strike - instrument_values, 0)\n"
     ]
    }
   ],
   "source": [
    "am_put_pos.get_info()"
   ]
  },
  {
   "cell_type": "markdown",
   "metadata": {},
   "source": [
    "#### Portfolio"
   ]
  },
  {
   "cell_type": "code",
   "execution_count": 95,
   "metadata": {
    "collapsed": false,
    "uuid": "a7f7a55f-cf66-457a-ba2f-9c9f15697d98"
   },
   "outputs": [],
   "source": [
    "me_jd = market_environment('me_jd', me_gbm.pricing_date)"
   ]
  },
  {
   "cell_type": "code",
   "execution_count": 96,
   "metadata": {
    "collapsed": false,
    "uuid": "4c2da9df-820c-49bb-9da0-fa212aa8ac40"
   },
   "outputs": [],
   "source": [
    "# add jump diffusion specific parameters\n",
    "me_jd.add_constant('lambda', 0.3)\n",
    "me_jd.add_constant('mu', -0.75)\n",
    "me_jd.add_constant('delta', 0.1)\n",
    "# add other parameters from gbm\n",
    "me_jd.add_environment(me_gbm)"
   ]
  },
  {
   "cell_type": "code",
   "execution_count": 97,
   "metadata": {
    "collapsed": false,
    "uuid": "6f93e1aa-7ccb-4434-b79e-2357bb056fc9"
   },
   "outputs": [],
   "source": [
    "# needed for portfolio valuation\n",
    "me_jd.add_constant('model', 'jd')"
   ]
  },
  {
   "cell_type": "code",
   "execution_count": 98,
   "metadata": {
    "collapsed": false,
    "uuid": "178e550a-e040-4ac8-9ad8-e3bbf4fdc50d"
   },
   "outputs": [],
   "source": [
    "me_eur_call = market_environment('me_eur_call', me_jd.pricing_date)"
   ]
  },
  {
   "cell_type": "code",
   "execution_count": 99,
   "metadata": {
    "collapsed": false,
    "uuid": "08c13651-9fbf-44bf-b9a9-e94409a6e891"
   },
   "outputs": [],
   "source": [
    "me_eur_call.add_constant('maturity', dt.datetime(2015, 6, 30))\n",
    "me_eur_call.add_constant('strike', 38.)\n",
    "me_eur_call.add_constant('currency', 'EUR')"
   ]
  },
  {
   "cell_type": "code",
   "execution_count": 100,
   "metadata": {
    "collapsed": false,
    "uuid": "c62a77e4-a502-4ceb-a5a3-9b3ec2be7d72"
   },
   "outputs": [],
   "source": [
    "payoff_func = 'np.maximum(maturity_value - strike, 0)'"
   ]
  },
  {
   "cell_type": "code",
   "execution_count": 101,
   "metadata": {
    "collapsed": false,
    "uuid": "f1cb96fa-385a-41d6-b68d-1f80c9590370"
   },
   "outputs": [],
   "source": [
    "eur_call_pos = derivatives_position(\n",
    "             name='eur_call_pos',\n",
    "             quantity=5,\n",
    "             underlying='jd',\n",
    "             mar_env=me_eur_call,\n",
    "             otype='European',\n",
    "             payoff_func=payoff_func)"
   ]
  },
  {
   "cell_type": "code",
   "execution_count": 102,
   "metadata": {
    "collapsed": false,
    "uuid": "e8df55ac-a860-4dd6-88f2-c4aa15e323f9"
   },
   "outputs": [],
   "source": [
    "underlyings = {'gbm': me_gbm, 'jd' : me_jd}\n",
    "positions = {'am_put_pos' : am_put_pos, 'eur_call_pos' : eur_call_pos}"
   ]
  },
  {
   "cell_type": "code",
   "execution_count": 103,
   "metadata": {
    "collapsed": false,
    "uuid": "38a7b06d-9923-4729-bbaf-184b55930d69"
   },
   "outputs": [],
   "source": [
    "# discounting object for the valuation\n",
    "csr = constant_short_rate('csr', 0.06)"
   ]
  },
  {
   "cell_type": "code",
   "execution_count": 104,
   "metadata": {
    "collapsed": false,
    "uuid": "d8ecc803-4ea8-45b4-975f-88e716a171e6"
   },
   "outputs": [],
   "source": [
    "val_env = market_environment('general', me_gbm.pricing_date)\n",
    "val_env.add_constant('frequency', 'W')\n",
    "  # monthly frequency\n",
    "val_env.add_constant('paths', 25000)\n",
    "val_env.add_constant('starting_date', val_env.pricing_date)\n",
    "val_env.add_constant('final_date', val_env.pricing_date)\n",
    "  # not yet known; take pricing_date temporarily\n",
    "val_env.add_curve('discount_curve', csr)\n",
    "  # select single discount_curve for whole portfolio"
   ]
  },
  {
   "cell_type": "code",
   "execution_count": 105,
   "metadata": {
    "collapsed": false,
    "uuid": "1f533a99-c881-4628-befe-ce63bbfdaafd"
   },
   "outputs": [],
   "source": [
    "from derivatives_portfolio import derivatives_portfolio"
   ]
  },
  {
   "cell_type": "code",
   "execution_count": 106,
   "metadata": {
    "collapsed": false,
    "uuid": "7a231d26-ec5f-4b0f-8c2e-d5ee4b93f0c4"
   },
   "outputs": [],
   "source": [
    "portfolio = derivatives_portfolio(\n",
    "                name='portfolio',\n",
    "                positions=positions,\n",
    "                val_env=val_env,\n",
    "                assets=underlyings,\n",
    "                fixed_seed=False)"
   ]
  },
  {
   "cell_type": "code",
   "execution_count": 107,
   "metadata": {
    "collapsed": false,
    "uuid": "ec163641-6908-4fc8-bb75-95483021f1b4"
   },
   "outputs": [
    {
     "data": {
      "text/html": [
       "<div>\n",
       "<table border=\"1\" class=\"dataframe\">\n",
       "  <thead>\n",
       "    <tr style=\"text-align: right;\">\n",
       "      <th></th>\n",
       "      <th>name</th>\n",
       "      <th>quant.</th>\n",
       "      <th>value</th>\n",
       "      <th>curr.</th>\n",
       "      <th>pos_value</th>\n",
       "      <th>pos_delta</th>\n",
       "      <th>pos_vega</th>\n",
       "    </tr>\n",
       "  </thead>\n",
       "  <tbody>\n",
       "    <tr>\n",
       "      <th>0</th>\n",
       "      <td>eur_call_pos</td>\n",
       "      <td>5</td>\n",
       "      <td>2.822235</td>\n",
       "      <td>EUR</td>\n",
       "      <td>14.111175</td>\n",
       "      <td>3.3080</td>\n",
       "      <td>42.7900</td>\n",
       "    </tr>\n",
       "    <tr>\n",
       "      <th>1</th>\n",
       "      <td>am_put_pos</td>\n",
       "      <td>3</td>\n",
       "      <td>4.472021</td>\n",
       "      <td>EUR</td>\n",
       "      <td>13.416063</td>\n",
       "      <td>-2.0895</td>\n",
       "      <td>30.5181</td>\n",
       "    </tr>\n",
       "  </tbody>\n",
       "</table>\n",
       "</div>"
      ],
      "text/plain": [
       "           name  quant.     value curr.  pos_value  pos_delta  pos_vega\n",
       "0  eur_call_pos       5  2.822235   EUR  14.111175     3.3080   42.7900\n",
       "1    am_put_pos       3  4.472021   EUR  13.416063    -2.0895   30.5181"
      ]
     },
     "execution_count": 107,
     "metadata": {},
     "output_type": "execute_result"
    }
   ],
   "source": [
    "portfolio.get_statistics(fixed_seed=False)"
   ]
  },
  {
   "cell_type": "code",
   "execution_count": 108,
   "metadata": {
    "collapsed": false,
    "uuid": "97aebfec-ec91-4d6b-af5f-ff36c5300122"
   },
   "outputs": [
    {
     "data": {
      "text/plain": [
       "pos_value    27.489253\n",
       "pos_delta     1.271000\n",
       "pos_vega     73.308100\n",
       "dtype: float64"
      ]
     },
     "execution_count": 108,
     "metadata": {},
     "output_type": "execute_result"
    }
   ],
   "source": [
    "portfolio.get_statistics(fixed_seed=False)[['pos_value', 'pos_delta', 'pos_vega']].sum()\n",
    "  # aggregate over all positions"
   ]
  },
  {
   "cell_type": "code",
   "execution_count": 109,
   "metadata": {
    "collapsed": false,
    "uuid": "2448b331-3d97-4358-a07b-453dc15659f8"
   },
   "outputs": [],
   "source": [
    "# portfolio.get_positions()"
   ]
  },
  {
   "cell_type": "code",
   "execution_count": 110,
   "metadata": {
    "collapsed": false,
    "uuid": "aa0c765f-2e15-4e74-a46e-ed8e7c43e825"
   },
   "outputs": [
    {
     "data": {
      "text/plain": [
       "4.450573"
      ]
     },
     "execution_count": 110,
     "metadata": {},
     "output_type": "execute_result"
    }
   ],
   "source": [
    "portfolio.valuation_objects['am_put_pos'].present_value()"
   ]
  },
  {
   "cell_type": "code",
   "execution_count": 111,
   "metadata": {
    "collapsed": false,
    "uuid": "ea398cfa-fb40-4ed8-b9bf-c067d135fe11"
   },
   "outputs": [
    {
     "data": {
      "text/plain": [
       "0.6498"
      ]
     },
     "execution_count": 111,
     "metadata": {},
     "output_type": "execute_result"
    }
   ],
   "source": [
    "portfolio.valuation_objects['eur_call_pos'].delta()"
   ]
  },
  {
   "cell_type": "code",
   "execution_count": 112,
   "metadata": {
    "collapsed": false,
    "uuid": "f8a828ff-4fc9-40b4-8dee-f3b27035978b"
   },
   "outputs": [],
   "source": [
    "path_no = 777\n",
    "path_gbm = portfolio.underlying_objects['gbm'].get_instrument_values()[\n",
    "                                                            :, path_no]\n",
    "path_jd = portfolio.underlying_objects['jd'].get_instrument_values()[\n",
    "                                                            :, path_no]"
   ]
  },
  {
   "cell_type": "code",
   "execution_count": 113,
   "metadata": {
    "collapsed": false,
    "uuid": "01f6d3d3-3459-4d94-abfc-ac6fbf887671"
   },
   "outputs": [],
   "source": [
    "import matplotlib.pyplot as plt\n",
    "%matplotlib inline"
   ]
  },
  {
   "cell_type": "code",
   "execution_count": 114,
   "metadata": {
    "collapsed": false,
    "uuid": "9cd814c6-2762-489a-b926-883a078f0142"
   },
   "outputs": [
    {
     "data": {
      "image/png": "[encoded data removed]",
      "text/plain": [
       "<matplotlib.figure.Figure at 0x7f19e41b4ed0>"
      ]
     },
     "metadata": {},
     "output_type": "display_data"
    }
   ],
   "source": [
    "plt.figure(figsize=(7, 4))\n",
    "plt.plot(portfolio.time_grid, path_gbm, 'r', label='gbm')\n",
    "plt.plot(portfolio.time_grid, path_jd, 'b', label='jd')\n",
    "plt.xticks(rotation=30)\n",
    "plt.legend(loc=0); plt.grid(True)\n",
    "# tag: dx_portfolio_1\n",
    "# title: Non-correlated risk factors"
   ]
  },
  {
   "cell_type": "code",
   "execution_count": 115,
   "metadata": {
    "collapsed": false,
    "uuid": "873e0a44-470b-4fc6-ab12-956de039b21e"
   },
   "outputs": [],
   "source": [
    "correlations = [['gbm', 'jd', 0.9]]"
   ]
  },
  {
   "cell_type": "code",
   "execution_count": 116,
   "metadata": {
    "collapsed": false,
    "uuid": "3f517f85-6cd4-431f-9a86-51956d712576"
   },
   "outputs": [],
   "source": [
    "port_corr = derivatives_portfolio(\n",
    "                name='portfolio',\n",
    "                positions=positions,\n",
    "                val_env=val_env,\n",
    "                assets=underlyings,\n",
    "                correlations=correlations,\n",
    "                fixed_seed=True)"
   ]
  },
  {
   "cell_type": "code",
   "execution_count": 117,
   "metadata": {
    "collapsed": false,
    "uuid": "be0fe6c4-3f67-4091-aabb-110043f3b2b2"
   },
   "outputs": [
    {
     "data": {
      "text/html": [
       "<div>\n",
       "<table border=\"1\" class=\"dataframe\">\n",
       "  <thead>\n",
       "    <tr style=\"text-align: right;\">\n",
       "      <th></th>\n",
       "      <th>name</th>\n",
       "      <th>quant.</th>\n",
       "      <th>value</th>\n",
       "      <th>curr.</th>\n",
       "      <th>pos_value</th>\n",
       "      <th>pos_delta</th>\n",
       "      <th>pos_vega</th>\n",
       "    </tr>\n",
       "  </thead>\n",
       "  <tbody>\n",
       "    <tr>\n",
       "      <th>0</th>\n",
       "      <td>eur_call_pos</td>\n",
       "      <td>5</td>\n",
       "      <td>2.804464</td>\n",
       "      <td>EUR</td>\n",
       "      <td>14.022320</td>\n",
       "      <td>3.3760</td>\n",
       "      <td>42.3500</td>\n",
       "    </tr>\n",
       "    <tr>\n",
       "      <th>1</th>\n",
       "      <td>am_put_pos</td>\n",
       "      <td>3</td>\n",
       "      <td>4.458565</td>\n",
       "      <td>EUR</td>\n",
       "      <td>13.375695</td>\n",
       "      <td>-2.0313</td>\n",
       "      <td>30.1416</td>\n",
       "    </tr>\n",
       "  </tbody>\n",
       "</table>\n",
       "</div>"
      ],
      "text/plain": [
       "           name  quant.     value curr.  pos_value  pos_delta  pos_vega\n",
       "0  eur_call_pos       5  2.804464   EUR  14.022320     3.3760   42.3500\n",
       "1    am_put_pos       3  4.458565   EUR  13.375695    -2.0313   30.1416"
      ]
     },
     "execution_count": 117,
     "metadata": {},
     "output_type": "execute_result"
    }
   ],
   "source": [
    "port_corr.get_statistics()"
   ]
  },
  {
   "cell_type": "code",
   "execution_count": 118,
   "metadata": {
    "collapsed": false,
    "uuid": "c3f911fc-b3f5-4fd2-bf53-d45cbb78e67b"
   },
   "outputs": [],
   "source": [
    "path_gbm = port_corr.underlying_objects['gbm'].\\\n",
    "            get_instrument_values()[:, path_no]\n",
    "path_jd = port_corr.underlying_objects['jd'].\\\n",
    "            get_instrument_values()[:, path_no]"
   ]
  },
  {
   "cell_type": "code",
   "execution_count": 119,
   "metadata": {
    "collapsed": false,
    "uuid": "e2b1e218-8908-42e9-a9c7-8dc0c58a95c1"
   },
   "outputs": [
    {
     "data": {
      "image/png": "[encoded data removed]",
      "text/plain": [
       "<matplotlib.figure.Figure at 0x7f19e41fe210>"
      ]
     },
     "metadata": {},
     "output_type": "display_data"
    }
   ],
   "source": [
    "plt.figure(figsize=(7, 4))\n",
    "plt.plot(portfolio.time_grid, path_gbm, 'r', label='gbm')\n",
    "plt.plot(portfolio.time_grid, path_jd, 'b', label='jd')\n",
    "plt.xticks(rotation=30)\n",
    "plt.legend(loc=0); plt.grid(True)\n",
    "# tag: dx_portfolio_2\n",
    "# title: Highly correlated risk factors"
   ]
  },
  {
   "cell_type": "code",
   "execution_count": 120,
   "metadata": {
    "collapsed": false
   },
   "outputs": [
    {
     "data": {
      "text/plain": [
       "array([  0.        ,  39.28773263,  23.82860521, ...,   0.        ,\n",
       "         6.3226358 ,   7.94977565])"
      ]
     },
     "execution_count": 120,
     "metadata": {},
     "output_type": "execute_result"
    }
   ],
   "source": [
    "pv1 = 5 * port_corr.valuation_objects['eur_call_pos'].\\\n",
    "            present_value(full=True)[1]\n",
    "pv1"
   ]
  },
  {
   "cell_type": "code",
   "execution_count": 121,
   "metadata": {
    "collapsed": false
   },
   "outputs": [
    {
     "data": {
      "text/plain": [
       "array([ 22.05537489,  10.91479057,  20.26091821, ...,  21.69302419,\n",
       "        17.76714942,   0.        ])"
      ]
     },
     "execution_count": 121,
     "metadata": {},
     "output_type": "execute_result"
    }
   ],
   "source": [
    "pv2 = 3 * port_corr.valuation_objects['am_put_pos'].\\\n",
    "            present_value(full=True)[1]\n",
    "pv2"
   ]
  },
  {
   "cell_type": "code",
   "execution_count": 122,
   "metadata": {
    "collapsed": false
   },
   "outputs": [
    {
     "data": {
      "text/plain": [
       "<matplotlib.legend.Legend at 0x7f19e43b1450>"
      ]
     },
     "execution_count": 122,
     "metadata": {},
     "output_type": "execute_result"
    },
    {
     "data": {
      "image/png": "[encoded data removed]",
      "text/plain": [
       "<matplotlib.figure.Figure at 0x7f19e43f4d50>"
      ]
     },
     "metadata": {},
     "output_type": "display_data"
    }
   ],
   "source": [
    "plt.hist([pv1, pv2], bins=25,\n",
    "         label=['European call', 'American put']);\n",
    "plt.axvline(pv1.mean(), color='r', ls='dashed',\n",
    "            lw=1.5, label='call mean = %4.2f' % pv1.mean())\n",
    "plt.axvline(pv2.mean(), color='r', ls='dotted',\n",
    "            lw=1.5, label='put mean = %4.2f' % pv2.mean())\n",
    "plt.xlim(0, 80); plt.ylim(0, 10000)\n",
    "plt.grid(); plt.legend()\n",
    "# tag: dx_portfolio_3\n",
    "# title: Frequency distributions of option position present values"
   ]
  },
  {
   "cell_type": "code",
   "execution_count": 123,
   "metadata": {
    "collapsed": false
   },
   "outputs": [
    {
     "data": {
      "text/plain": [
       "<matplotlib.legend.Legend at 0x7f19e40f7d90>"
      ]
     },
     "execution_count": 123,
     "metadata": {},
     "output_type": "execute_result"
    },
    {
     "data": {
      "image/png": "[encoded data removed]",
      "text/plain": [
       "<matplotlib.figure.Figure at 0x7f19e4569990>"
      ]
     },
     "metadata": {},
     "output_type": "display_data"
    }
   ],
   "source": [
    "pvs = pv1 + pv2\n",
    "plt.hist(pvs, bins=50, label='portfolio');\n",
    "plt.axvline(pvs.mean(), color='r', ls='dashed',\n",
    "            lw=1.5, label='mean = %4.2f' % pvs.mean())\n",
    "plt.xlim(0, 80); plt.ylim(0, 7000)\n",
    "plt.grid(); plt.legend()\n",
    "# tag: dx_portfolio_4\n",
    "# title: Portfolio frequency distribution of present values"
   ]
  },
  {
   "cell_type": "code",
   "execution_count": 124,
   "metadata": {
    "collapsed": false
   },
   "outputs": [
    {
     "data": {
      "text/plain": [
       "16.736290069957963"
      ]
     },
     "execution_count": 124,
     "metadata": {},
     "output_type": "execute_result"
    }
   ],
   "source": [
    "# portfolio with correlation\n",
    "pvs.std()"
   ]
  },
  {
   "cell_type": "code",
   "execution_count": 125,
   "metadata": {
    "collapsed": false
   },
   "outputs": [
    {
     "data": {
      "text/plain": [
       "21.71542409437863"
      ]
     },
     "execution_count": 125,
     "metadata": {},
     "output_type": "execute_result"
    }
   ],
   "source": [
    "# portfolio without correlation\n",
    "pv1 = 5 * portfolio.valuation_objects['eur_call_pos'].\\\n",
    "            present_value(full=True)[1]\n",
    "pv2 = 3 * portfolio.valuation_objects['am_put_pos'].\\\n",
    "            present_value(full=True)[1]\n",
    "(pv1 + pv2).std()"
   ]
  },
  {
   "cell_type": "markdown",
   "metadata": {},
   "source": [
    "<img src=\"http://hilpisch.com/tpq_logo.png\" alt=\"The Python Quants\" width=\"35%\" align=\"right\" border=\"0\"><br>\n",
    "\n",
    "<a href=\"http://www.pythonquants.com\" target=\"_blank\">www.pythonquants.com</a> | <a href=\"http://twitter.com/dyjh\" target=\"_blank\">@dyjh</a>\n",
    "\n",
    "<a href=\"mailto:analytics@pythonquants.com\">analytics@pythonquants.com</a>\n",
    "\n",
    "**Python Quant Platform** |\n",
    "<a href=\"http://oreilly.quant-platform.com\">http://oreilly.quant-platform.com</a>\n",
    "\n",
    "**Derivatives Analytics with Python** |\n",
    "<a href=\"http://www.derivatives-analytics-with-python.com\" target=\"_blank\">Derivatives Analytics @ Wiley Finance</a>\n",
    "\n",
    "**Python for Finance** |\n",
    "<a href=\"http://shop.oreilly.com/product/0636920032441.do\" target=\"_blank\">Python for Finance @ O'Reilly</a>"
   ]
  }
 ],
 "metadata": {
  "kernelspec": {
   "display_name": "Python 2",
   "language": "python2",
   "name": "python2"
  },
  "language_info": {
   "codemirror_mode": {
    "name": "ipython",
    "version": 2
   },
   "file_extension": ".py",
   "mimetype": "text/x-python",
   "name": "python",
   "nbconvert_exporter": "python",
   "pygments_lexer": "ipython2",
   "version": "2.7.10"
  }
 },
 "nbformat": 4,
 "nbformat_minor": 0
}
