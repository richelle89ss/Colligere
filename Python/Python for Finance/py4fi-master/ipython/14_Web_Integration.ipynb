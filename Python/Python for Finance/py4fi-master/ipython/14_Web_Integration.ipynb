{
 "cells": [
  {
   "cell_type": "markdown",
   "metadata": {},
   "source": [
    "<img src=\"http://hilpisch.com/tpq_logo.png\" alt=\"The Python Quants\" width=\"35%\" align=\"right\" border=\"0\"><br>"
   ]
  },
  {
   "cell_type": "markdown",
   "metadata": {},
   "source": [
    "# Python for Finance"
   ]
  },
  {
   "cell_type": "markdown",
   "metadata": {},
   "source": [
    "**Analyze Big Financial Data**\n",
    "\n",
    "O'Reilly (2014)\n",
    "\n",
    "Yves Hilpisch"
   ]
  },
  {
   "cell_type": "markdown",
   "metadata": {},
   "source": [
    "<img style=\"border:0px solid grey;\" src=\"http://hilpisch.com/python_for_finance.png\" alt=\"Python for Finance\" width=\"30%\" align=\"left\" border=\"0\">"
   ]
  },
  {
   "cell_type": "markdown",
   "metadata": {},
   "source": [
    "**Buy the book ** |\n",
    "<a href='http://shop.oreilly.com/product/0636920032441.do' target='_blank'>O'Reilly</a> |\n",
    "<a href='http://www.amazon.com/Yves-Hilpisch/e/B00JCYHHJM' target='_blank'>Amazon</a>\n",
    "\n",
    "**All book codes & IPYNBs** |\n",
    "<a href=\"http://oreilly.quant-platform.com\">http://oreilly.quant-platform.com</a>\n",
    "\n",
    "**The Python Quants GmbH** | <a href='http://pythonquants.com' target='_blank'>www.pythonquants.com</a>\n",
    "\n",
    "**Contact us** | <a href='mailto:analytics@pythonquants.com'>analytics@pythonquants.com</a>"
   ]
  },
  {
   "cell_type": "markdown",
   "metadata": {},
   "source": [
    "# Web Integration"
   ]
  },
  {
   "cell_type": "markdown",
   "metadata": {},
   "source": [
    "## Web Basics"
   ]
  },
  {
   "cell_type": "markdown",
   "metadata": {},
   "source": [
    "### ftplib"
   ]
  },
  {
   "cell_type": "code",
   "execution_count": 1,
   "metadata": {
    "collapsed": false,
    "uuid": "ed06650f-c346-4211-a504-918431567c00"
   },
   "outputs": [],
   "source": [
    "import ftplib\n",
    "import numpy as np"
   ]
  },
  {
   "cell_type": "code",
   "execution_count": 2,
   "metadata": {
    "collapsed": false,
    "uuid": "f9533953-66c8-428e-8476-fb9b5320cbc3"
   },
   "outputs": [],
   "source": [
    "ftp = ftplib.FTP('quant-platform.com')"
   ]
  },
  {
   "cell_type": "code",
   "execution_count": 3,
   "metadata": {
    "collapsed": false,
    "uuid": "72343084-5e71-42bc-9649-acedaf9bf9b9"
   },
   "outputs": [
    {
     "data": {
      "text/plain": [
       "'230 Login successful.'"
      ]
     },
     "execution_count": 3,
     "metadata": {},
     "output_type": "execute_result"
    }
   ],
   "source": [
    "ftp.login(user='python', passwd='python')"
   ]
  },
  {
   "cell_type": "code",
   "execution_count": 4,
   "metadata": {
    "collapsed": false,
    "uuid": "bb8b9a5f-2482-4c21-bb52-c5f0c659121b"
   },
   "outputs": [],
   "source": [
    "np.save('./data/array', np.random.standard_normal((100, 100)))"
   ]
  },
  {
   "cell_type": "code",
   "execution_count": 5,
   "metadata": {
    "collapsed": false,
    "uuid": "1e23d513-1cbc-4dff-87c8-35bbefd552ea"
   },
   "outputs": [],
   "source": [
    "f = open('./data/array.npy', 'r')"
   ]
  },
  {
   "cell_type": "code",
   "execution_count": 6,
   "metadata": {
    "collapsed": false,
    "uuid": "d7723e2d-8a38-4e76-b18d-47e804bbb9e5"
   },
   "outputs": [
    {
     "data": {
      "text/plain": [
       "'226 Transfer complete.'"
      ]
     },
     "execution_count": 6,
     "metadata": {},
     "output_type": "execute_result"
    }
   ],
   "source": [
    "ftp.storbinary('STOR array.npy', f)"
   ]
  },
  {
   "cell_type": "code",
   "execution_count": 7,
   "metadata": {
    "collapsed": false,
    "uuid": "2827d953-cfad-44d3-a2bf-67cf5863a1f7"
   },
   "outputs": [
    {
     "name": "stdout",
     "output_type": "stream",
     "text": [
      "-rw-------    1 1001     1001        80080 Aug 08 05:57 array.npy\n"
     ]
    },
    {
     "data": {
      "text/plain": [
       "'226 Directory send OK.'"
      ]
     },
     "execution_count": 7,
     "metadata": {},
     "output_type": "execute_result"
    }
   ],
   "source": [
    "ftp.retrlines('LIST')"
   ]
  },
  {
   "cell_type": "code",
   "execution_count": 8,
   "metadata": {
    "collapsed": false,
    "uuid": "90b28799-36f2-4591-8767-d01b85322596"
   },
   "outputs": [],
   "source": [
    "f = open('./data/array_ftp.npy', 'wb').write"
   ]
  },
  {
   "cell_type": "code",
   "execution_count": 9,
   "metadata": {
    "collapsed": false,
    "uuid": "bda461e0-6d17-4011-8d12-cae2658b0938"
   },
   "outputs": [
    {
     "data": {
      "text/plain": [
       "'226 Transfer complete.'"
      ]
     },
     "execution_count": 9,
     "metadata": {},
     "output_type": "execute_result"
    }
   ],
   "source": [
    "ftp.retrbinary('RETR array.npy', f)"
   ]
  },
  {
   "cell_type": "code",
   "execution_count": 10,
   "metadata": {
    "collapsed": false,
    "uuid": "fd643a77-53a7-4b88-80a1-992d37141e1b"
   },
   "outputs": [
    {
     "data": {
      "text/plain": [
       "'250 Delete operation successful.'"
      ]
     },
     "execution_count": 10,
     "metadata": {},
     "output_type": "execute_result"
    }
   ],
   "source": [
    "ftp.delete('array.npy')"
   ]
  },
  {
   "cell_type": "code",
   "execution_count": 11,
   "metadata": {
    "collapsed": false,
    "uuid": "b248ab34-3f84-434b-a4cf-75d3bef1f8fe"
   },
   "outputs": [
    {
     "data": {
      "text/plain": [
       "'226 Directory send OK.'"
      ]
     },
     "execution_count": 11,
     "metadata": {},
     "output_type": "execute_result"
    }
   ],
   "source": [
    "ftp.retrlines('LIST')"
   ]
  },
  {
   "cell_type": "code",
   "execution_count": 12,
   "metadata": {
    "collapsed": false,
    "uuid": "372f7d6f-928a-436c-bf64-13b0aa994620"
   },
   "outputs": [],
   "source": [
    "ftp.close()"
   ]
  },
  {
   "cell_type": "code",
   "execution_count": 13,
   "metadata": {
    "collapsed": false,
    "uuid": "a1d9022c-bd30-43e1-b3c7-95bfefe6f60e"
   },
   "outputs": [
    {
     "name": "stdout",
     "output_type": "stream",
     "text": [
      "total 164\r\n",
      "-rw-r--r-- 1 1141 8 77824 Aug  8 12:07 array_ftp.npy\r\n",
      "-rw-r--r-- 1 1141 8 80080 Aug  8 12:07 array.npy\r\n"
     ]
    }
   ],
   "source": [
    "!ls -n ./data"
   ]
  },
  {
   "cell_type": "code",
   "execution_count": 14,
   "metadata": {
    "collapsed": false,
    "uuid": "ed6eb7c9-0004-42a7-b0b3-0e1aa5f27ae1"
   },
   "outputs": [],
   "source": [
    "!rm -f ./data/arr*\n",
    "  # clean-up directory"
   ]
  },
  {
   "cell_type": "code",
   "execution_count": 15,
   "metadata": {
    "collapsed": false,
    "uuid": "f51de772-ad07-4983-8914-d60383fc0393"
   },
   "outputs": [],
   "source": [
    "ftps = ftplib.FTP_TLS('quant-platform.com')"
   ]
  },
  {
   "cell_type": "code",
   "execution_count": 16,
   "metadata": {
    "collapsed": false,
    "uuid": "442158b0-2c8a-47f5-a60d-3019c687b196"
   },
   "outputs": [
    {
     "data": {
      "text/plain": [
       "'230 Login successful.'"
      ]
     },
     "execution_count": 16,
     "metadata": {},
     "output_type": "execute_result"
    }
   ],
   "source": [
    "ftps.login(user='python', passwd='python')"
   ]
  },
  {
   "cell_type": "code",
   "execution_count": 17,
   "metadata": {
    "collapsed": false,
    "uuid": "a8ab8f48-5524-423c-936f-b045ac5dc3b0"
   },
   "outputs": [
    {
     "data": {
      "text/plain": [
       "'200 PROT now Private.'"
      ]
     },
     "execution_count": 17,
     "metadata": {},
     "output_type": "execute_result"
    }
   ],
   "source": [
    "ftps.prot_p()"
   ]
  },
  {
   "cell_type": "code",
   "execution_count": 18,
   "metadata": {
    "collapsed": false,
    "uuid": "80d163ef-151d-4536-8e16-7fc0774db409"
   },
   "outputs": [
    {
     "data": {
      "text/plain": [
       "'226 Directory send OK.'"
      ]
     },
     "execution_count": 18,
     "metadata": {},
     "output_type": "execute_result"
    }
   ],
   "source": [
    "ftps.retrlines('LIST')"
   ]
  },
  {
   "cell_type": "code",
   "execution_count": 19,
   "metadata": {
    "collapsed": false,
    "uuid": "6cb73378-f642-4627-89a9-f6f69f076d9a"
   },
   "outputs": [],
   "source": [
    "ftps.close()"
   ]
  },
  {
   "cell_type": "markdown",
   "metadata": {},
   "source": [
    "### httplib"
   ]
  },
  {
   "cell_type": "code",
   "execution_count": 20,
   "metadata": {
    "collapsed": false,
    "uuid": "0d79f4d1-5d93-4c9d-9d62-40dc4981a457"
   },
   "outputs": [],
   "source": [
    "import httplib"
   ]
  },
  {
   "cell_type": "code",
   "execution_count": 21,
   "metadata": {
    "collapsed": false,
    "uuid": "d665bdf3-fc62-46c0-8f7f-ff125f12ca51"
   },
   "outputs": [],
   "source": [
    "http = httplib.HTTPConnection('hilpisch.com')"
   ]
  },
  {
   "cell_type": "code",
   "execution_count": 22,
   "metadata": {
    "collapsed": false,
    "uuid": "9285e3ee-2035-4816-897f-4c9e2c7c8ef0"
   },
   "outputs": [],
   "source": [
    "http.request('GET', '/index.htm')"
   ]
  },
  {
   "cell_type": "code",
   "execution_count": 23,
   "metadata": {
    "collapsed": false,
    "uuid": "18a7deaf-ba30-440f-88e7-fd6c90245661"
   },
   "outputs": [],
   "source": [
    "resp = http.getresponse()"
   ]
  },
  {
   "cell_type": "code",
   "execution_count": 24,
   "metadata": {
    "collapsed": false,
    "uuid": "ca638e56-6667-4eea-af63-c2be54c86b9c"
   },
   "outputs": [
    {
     "data": {
      "text/plain": [
       "(200, 'OK')"
      ]
     },
     "execution_count": 24,
     "metadata": {},
     "output_type": "execute_result"
    }
   ],
   "source": [
    "resp.status, resp.reason"
   ]
  },
  {
   "cell_type": "code",
   "execution_count": 25,
   "metadata": {
    "collapsed": false,
    "uuid": "ea7a144c-81bc-4cab-9132-c70af19773d3"
   },
   "outputs": [
    {
     "data": {
      "text/plain": [
       "'<!doctype html>\\n<html lang=\"en\">\\n\\n\\t<head>\\n\\t\\t<meta charset=\"utf-8\">\\n\\n\\t\\t<title>Dr. Yves J. Hilpisch \\xe2\\x80'"
      ]
     },
     "execution_count": 25,
     "metadata": {},
     "output_type": "execute_result"
    }
   ],
   "source": [
    "content = resp.read()\n",
    "content[:100]\n",
    "  # first 100 characters of the file"
   ]
  },
  {
   "cell_type": "code",
   "execution_count": 26,
   "metadata": {
    "collapsed": false,
    "uuid": "f8ca3902-3e86-4398-8aa7-e301a0706871"
   },
   "outputs": [
    {
     "data": {
      "text/plain": [
       "2070"
      ]
     },
     "execution_count": 26,
     "metadata": {},
     "output_type": "execute_result"
    }
   ],
   "source": [
    "index = content.find(' E ')\n",
    "index"
   ]
  },
  {
   "cell_type": "code",
   "execution_count": 27,
   "metadata": {
    "collapsed": false,
    "uuid": "4cbca133-e69f-4f1f-8378-de0a212a6fdd"
   },
   "outputs": [
    {
     "data": {
      "text/plain": [
       "' E contact [at] dyjh [dot] de'"
      ]
     },
     "execution_count": 27,
     "metadata": {},
     "output_type": "execute_result"
    }
   ],
   "source": [
    "content[index:index + 29]"
   ]
  },
  {
   "cell_type": "code",
   "execution_count": 28,
   "metadata": {
    "collapsed": false,
    "uuid": "e1d9bb7e-2429-4a3b-8ad2-ce8e20f398d1"
   },
   "outputs": [],
   "source": [
    "http.close()"
   ]
  },
  {
   "cell_type": "markdown",
   "metadata": {},
   "source": [
    "### urllib"
   ]
  },
  {
   "cell_type": "code",
   "execution_count": 29,
   "metadata": {
    "collapsed": false,
    "uuid": "7a44c652-b62f-4974-b7be-c1c708c432d2"
   },
   "outputs": [],
   "source": [
    "import urllib"
   ]
  },
  {
   "cell_type": "code",
   "execution_count": 30,
   "metadata": {
    "collapsed": false,
    "uuid": "eeeecf85-e182-44d1-96ca-dfa7c7b770e0"
   },
   "outputs": [],
   "source": [
    "url = 'http://ichart.finance.yahoo.com/table.csv?g=d&ignore=.csv'\n",
    "url += '&s=YHOO&a=01&b=1&c=2014&d=02&e=6&f=2014'"
   ]
  },
  {
   "cell_type": "code",
   "execution_count": 31,
   "metadata": {
    "collapsed": false,
    "uuid": "d0222eb9-e696-477e-9647-adf7296153ac"
   },
   "outputs": [],
   "source": [
    "connect = urllib.urlopen(url)"
   ]
  },
  {
   "cell_type": "code",
   "execution_count": 32,
   "metadata": {
    "collapsed": false,
    "uuid": "afb60cb7-6822-438a-81fd-43cdaca9290c"
   },
   "outputs": [],
   "source": [
    "data = connect.read()"
   ]
  },
  {
   "cell_type": "code",
   "execution_count": 33,
   "metadata": {
    "collapsed": false,
    "uuid": "b97fa159-af2c-4d4c-bd07-3b26e4942f86"
   },
   "outputs": [
    {
     "name": "stdout",
     "output_type": "stream",
     "text": [
      "Date,Open,High,Low,Close,Volume,Adj Close\n",
      "2014-03-06,39.599998,39.98,39.50,39.66,10626700,39.66\n",
      "2014-03-05,39.830002,40.150002,39.189999,39.50,12536800,39.50\n",
      "2014-03-04,38.759998,39.790001,38.68,39.630001,16139400,39.630001\n",
      "2014-03-03,37.650002,38.66,37.43,38.25,14714700,38.25\n",
      "2014-02-28,38.549999,39.380001,38.220001,38.669998,16957100,38.669998\n",
      "2014-02-27,37.799999,38.48,37.740002,38.470001,15489400,38.470001\n",
      "2014-02-26,37.349998,38.099998,37.34,37.619999,15778900,37.619999\n",
      "2014-02-25,37.48,37.580002,37.02,37.259998,9756900,37.259998\n",
      "2014-02-24,37.23,37.709999,36.82,37.419998,15738900,37.419998\n",
      "2014-02-21,37.900002,37.959999,37.220001,37.290001,12351900,37.290001\n",
      "2014-02-20,37.830002,38.040001,37.299999,37.790001,11155900,37.790001\n",
      "2014-02-19,38.060001,38.330002,37.68,37.810001,15851900,37.810001\n",
      "2014-02-18,38.310001,38.59,38.09,38.310001,12096400,38.310001\n",
      "2014-02-14,38.43,38.450001,38.110001,38.23,9975800,38.23\n",
      "2014-02-13,37.919998,38.689999,37.790001,38.52,12088100,38.52\n",
      "2014-02-12,38.599998,38.91,38.029999,38.110001,14088500,38.110001\n",
      "2014-02-11,38.150002,38.860001,38.09,38.50,18348000,38.50\n",
      "2014-02-10,38.00,38.130001,37.25,37.759998,17642900,37.759998\n",
      "2014-02-07,36.650002,37.27,36.240002,37.23,16178500,37.23\n",
      "2014-02-06,35.650002,36.75,35.610001,36.240002,14250000,36.240002\n",
      "2014-02-05,35.599998,35.939999,34.990002,35.490002,14022900,35.490002\n",
      "2014-02-04,35.110001,35.860001,34.860001,35.66,21082500,35.66\n",
      "2014-02-03,35.939999,36.009998,34.66,34.900002,22195200,34.900002\n",
      "\n"
     ]
    }
   ],
   "source": [
    "print data"
   ]
  },
  {
   "cell_type": "code",
   "execution_count": 34,
   "metadata": {
    "collapsed": false,
    "uuid": "18dc3eb4-eda6-42f2-b1f8-01454b6303f1"
   },
   "outputs": [],
   "source": [
    "url = 'http://ichart.finance.yahoo.com/table.csv?g=d&ignore=.csv'\n",
    "url += '&%s'  # for replacement with parameters\n",
    "url += '&d=06&e=30&f=2014'"
   ]
  },
  {
   "cell_type": "code",
   "execution_count": 35,
   "metadata": {
    "collapsed": false,
    "uuid": "92201ad4-66a0-4c39-b0e0-2ac94182dcc2"
   },
   "outputs": [],
   "source": [
    "params = urllib.urlencode({'s': 'MSFT', 'a': '05', 'b': 1, 'c': 2014})"
   ]
  },
  {
   "cell_type": "code",
   "execution_count": 36,
   "metadata": {
    "collapsed": false,
    "uuid": "fe19bda7-77d7-40a8-8b6a-a6fbadf29223"
   },
   "outputs": [
    {
     "data": {
      "text/plain": [
       "'a=05&s=MSFT&b=1&c=2014'"
      ]
     },
     "execution_count": 36,
     "metadata": {},
     "output_type": "execute_result"
    }
   ],
   "source": [
    "params"
   ]
  },
  {
   "cell_type": "code",
   "execution_count": 37,
   "metadata": {
    "collapsed": false,
    "uuid": "3013909d-ce21-4d68-a679-f2fd91f5e104"
   },
   "outputs": [
    {
     "data": {
      "text/plain": [
       "'http://ichart.finance.yahoo.com/table.csv?g=d&ignore=.csv&a=05&s=MSFT&b=1&c=2014&d=06&e=30&f=2014'"
      ]
     },
     "execution_count": 37,
     "metadata": {},
     "output_type": "execute_result"
    }
   ],
   "source": [
    "url % params"
   ]
  },
  {
   "cell_type": "code",
   "execution_count": 38,
   "metadata": {
    "collapsed": false,
    "uuid": "a291f6f5-cc24-47c1-a07b-d7cf5ffbfaf1"
   },
   "outputs": [],
   "source": [
    "connect = urllib.urlopen(url % params)"
   ]
  },
  {
   "cell_type": "code",
   "execution_count": 39,
   "metadata": {
    "collapsed": false,
    "uuid": "fb09a069-94f6-4175-9515-7f2758b367af"
   },
   "outputs": [],
   "source": [
    "data = connect.read()"
   ]
  },
  {
   "cell_type": "code",
   "execution_count": 40,
   "metadata": {
    "collapsed": false,
    "uuid": "5d288e85-ba12-4c37-adbc-42fd8d00b7d3"
   },
   "outputs": [
    {
     "name": "stdout",
     "output_type": "stream",
     "text": [
      "Date,Open,High,Low,Close,Volume,Adj Close\n",
      "2014-07-30,44.07,44.099998,43.290001,43.580002,31921400,42.457994\n",
      "2014-07-29,43.91,44.09,43.639999,43.889999,27763100,42.760011\n",
      "2014-07-28,44.360001,44.509998,43.93,43.970001,29684200,42.837953\n",
      "2014-07-25,44.299999,44.66,44.299999,44.50,26737700,43.354306\n",
      "2014-07-24,44.93,45.00,44.32,44.400002,30725300,43.256882\n",
      "2014-07-23,45.450001,45.450001,44.619999,44.869999,52362900,43.714779\n",
      "2014-07-22,45.00,45.150002,44.59,44.830002,43095800,43.675812\n",
      "2014-07-21,44.560001,45.16,44.220001,44.84,37604400,43.685553\n",
      "2014-07-18,44.650002,44.84,44.25,44.689999,43407500,43.539413\n",
      "2014-07-17,45.450001,45.709999,44.25,44.529999,82180300,43.383533\n",
      "2014-07-16,42.509998,44.310001,42.48,44.080002,63318000,42.945121\n",
      "2014-07-15,42.330002,42.470001,42.029999,42.450001,28748700,41.357086\n",
      "2014-07-14,42.220001,42.450001,42.040001,42.139999,21881100,41.055066\n",
      "2014-07-11,41.700001,42.09,41.48,42.09,24083000,41.006354\n",
      "2014-07-10,41.369999,42.00,41.049999,41.689999,21854700,40.616651\n",
      "2014-07-09,41.98,41.990002,41.529999,41.669998,18445900,40.597165\n",
      "2014-07-08,41.869999,42.00,41.610001,41.779999,31218200,40.704334\n",
      "2014-07-07,41.75,42.119999,41.709999,41.990002,21952400,40.90893\n",
      "2014-07-03,41.91,41.990002,41.560001,41.799999,15969300,40.723819\n",
      "2014-07-02,41.73,41.900002,41.529999,41.900002,20208100,40.821247\n",
      "2014-07-01,41.860001,42.150002,41.689999,41.869999,26917000,40.792017\n",
      "2014-06-30,42.169998,42.209999,41.700001,41.700001,30805500,40.626396\n",
      "2014-06-27,41.610001,42.290001,41.509998,42.25,74640000,41.162235\n",
      "2014-06-26,41.93,41.939999,41.43,41.720001,23604400,40.645881\n",
      "2014-06-25,41.700001,42.049999,41.459999,42.029999,20049100,40.947897\n",
      "2014-06-24,41.830002,41.939999,41.560001,41.75,26509100,40.675107\n",
      "2014-06-23,41.73,42.00,41.689999,41.990002,18743900,40.90893\n",
      "2014-06-20,41.450001,41.830002,41.380001,41.68,47764900,40.60691\n",
      "2014-06-19,41.57,41.77,41.330002,41.509998,19828200,40.441285\n",
      "2014-06-18,41.610001,41.740002,41.18,41.650002,27097000,40.577684\n",
      "2014-06-17,41.290001,41.91,40.34,41.68,22518600,40.60691\n",
      "2014-06-16,41.040001,41.610001,41.040001,41.50,24205300,40.431544\n",
      "2014-06-13,41.099998,41.57,40.860001,41.23,26310000,40.168495\n",
      "2014-06-12,40.810001,40.880001,40.290001,40.580002,29818900,39.535232\n",
      "2014-06-11,40.93,41.07,40.77,40.860001,18040000,39.808022\n",
      "2014-06-10,41.029999,41.16,40.860001,41.110001,15117700,40.051585\n",
      "2014-06-09,41.389999,41.48,41.02,41.27,15019200,40.207466\n",
      "2014-06-06,41.48,41.66,41.240002,41.48,24060500,40.412058\n",
      "2014-06-05,40.59,41.25,40.400002,41.209999,31865200,40.149009\n",
      "2014-06-04,40.209999,40.369999,39.860001,40.32,23209000,39.281924\n",
      "2014-06-03,40.599998,40.68,40.25,40.290001,18068900,39.252697\n",
      "2014-06-02,40.950001,41.09,40.68,40.790001,18504300,39.739824\n",
      "\n"
     ]
    }
   ],
   "source": [
    "print data"
   ]
  },
  {
   "cell_type": "code",
   "execution_count": 41,
   "metadata": {
    "collapsed": false,
    "uuid": "60b60a3a-2cce-4f97-aaa7-c042f2e60279"
   },
   "outputs": [
    {
     "data": {
      "text/plain": [
       "('./data/msft.csv', <httplib.HTTPMessage instance at 0x7f6568555ab8>)"
      ]
     },
     "execution_count": 41,
     "metadata": {},
     "output_type": "execute_result"
    }
   ],
   "source": [
    "urllib.urlretrieve(url % params, './data/msft.csv')"
   ]
  },
  {
   "cell_type": "code",
   "execution_count": 42,
   "metadata": {
    "collapsed": false,
    "uuid": "acf4d984-2ff8-4258-9a6c-87a86ee2f116"
   },
   "outputs": [
    {
     "data": {
      "text/plain": [
       "['Date,Open,High,Low,Close,Volume,Adj Close\\n',\n",
       " '2014-07-30,44.07,44.099998,43.290001,43.580002,31921400,42.457994\\n',\n",
       " '2014-07-29,43.91,44.09,43.639999,43.889999,27763100,42.760011\\n',\n",
       " '2014-07-28,44.360001,44.509998,43.93,43.970001,29684200,42.837953\\n',\n",
       " '2014-07-25,44.299999,44.66,44.299999,44.50,26737700,43.354306\\n']"
      ]
     },
     "execution_count": 42,
     "metadata": {},
     "output_type": "execute_result"
    }
   ],
   "source": [
    "csv = open('./data/msft.csv', 'r')\n",
    "csv.readlines()[:5]"
   ]
  },
  {
   "cell_type": "code",
   "execution_count": 43,
   "metadata": {
    "collapsed": false,
    "uuid": "62d5e85b-1590-450c-9018-746e6872f1fa"
   },
   "outputs": [],
   "source": [
    "!rm -f ./data/*"
   ]
  },
  {
   "cell_type": "markdown",
   "metadata": {},
   "source": [
    "## Web Plotting"
   ]
  },
  {
   "cell_type": "markdown",
   "metadata": {},
   "source": [
    "### Static Plots"
   ]
  },
  {
   "cell_type": "code",
   "execution_count": 44,
   "metadata": {
    "collapsed": false,
    "uuid": "bb617800-1dc9-4cb9-a7b7-2b8cd16cf0b2"
   },
   "outputs": [],
   "source": [
    "import numpy as np\n",
    "import pandas as pd\n",
    "%matplotlib inline"
   ]
  },
  {
   "cell_type": "code",
   "execution_count": 45,
   "metadata": {
    "collapsed": false,
    "uuid": "8e1e8943-d88d-4b61-bf19-15e55bebfb3a"
   },
   "outputs": [],
   "source": [
    "url = 'http://ichart.yahoo.com/table.csv?s=MSFT&a=0&b=1&c=2009'\n",
    "data = pd.read_csv(url, parse_dates=['Date'])"
   ]
  },
  {
   "cell_type": "code",
   "execution_count": 46,
   "metadata": {
    "collapsed": false,
    "uuid": "ca6562c0-9932-4d5c-9811-4512e717fac3"
   },
   "outputs": [
    {
     "data": {
      "text/plain": [
       "<matplotlib.axes._subplots.AxesSubplot at 0x7f6556e57190>"
      ]
     },
     "execution_count": 46,
     "metadata": {},
     "output_type": "execute_result"
    },
    {
     "data": {
      "image/png": "[encoded data removed]",
      "text/plain": [
       "<matplotlib.figure.Figure at 0x7f6556e49bd0>"
      ]
     },
     "metadata": {},
     "output_type": "display_data"
    }
   ],
   "source": [
    "import matplotlib.pyplot as plt\n",
    "fig, ax = plt.subplots()\n",
    "data.plot(x='Date', y='Close', grid=True, ax=ax)\n",
    "# tag: microsoft\n",
    "# title: Historical stock prices for Microsoft since January 2009 (+matplotlib+)"
   ]
  },
  {
   "cell_type": "markdown",
   "metadata": {},
   "source": [
    "### Interactive Plots"
   ]
  },
  {
   "cell_type": "markdown",
   "metadata": {},
   "source": [
    "**REMARK**: The original version used Bokeh for Web plotting. Plotly seems to be the more easy and intuitive way for generating interactive D3.js Web plots."
   ]
  },
  {
   "cell_type": "code",
   "execution_count": 47,
   "metadata": {
    "collapsed": false,
    "uuid": "be442f01-3953-4343-b58e-b192628af852"
   },
   "outputs": [],
   "source": [
    "import plotly.plotly as py\n",
    "import cufflinks as cf\n",
    "py.sign_in('Python-Demo-Account', 'gwt101uhh0')"
   ]
  },
  {
   "cell_type": "code",
   "execution_count": 48,
   "metadata": {
    "collapsed": false,
    "uuid": "a83653f0-d602-4bdb-b2ae-6379c50e6f1c"
   },
   "outputs": [
    {
     "name": "stderr",
     "output_type": "stream",
     "text": [
      "/anaconda/lib/python2.7/site-packages/plotly/matplotlylib/renderer.py:382: UserWarning:\n",
      "\n",
      "Bummer! Plotly can currently only draw Line2D objects from matplotlib that are in 'data' coordinates!\n",
      "\n",
      "/anaconda/lib/python2.7/site-packages/plotly/matplotlylib/renderer.py:479: UserWarning:\n",
      "\n",
      "I found a path object that I don't think is part of a bar chart. Ignoring.\n",
      "\n"
     ]
    },
    {
     "data": {
      "text/html": [
       "<iframe id=\"igraph\" scrolling=\"no\" style=\"border:none;\"seamless=\"seamless\" src=\"https://plot.ly/~Python-Demo-Account/3239.embed\" height=\"525\" width=\"100%\"></iframe>"
      ],
      "text/plain": [
       "<plotly.tools.PlotlyDisplay object>"
      ]
     },
     "execution_count": 48,
     "metadata": {},
     "output_type": "execute_result"
    }
   ],
   "source": [
    "# transforming the above mpl figure\n",
    "# to interactive D3.js plot\n",
    "py.iplot_mpl(fig)"
   ]
  },
  {
   "cell_type": "code",
   "execution_count": 49,
   "metadata": {
    "collapsed": false
   },
   "outputs": [
    {
     "data": {
      "text/html": [
       "<iframe id=\"igraph\" scrolling=\"no\" style=\"border:none;\"seamless=\"seamless\" src=\"https://plot.ly/~Python-Demo-Account/1511.embed\" height=\"525\" width=\"100%\"></iframe>"
      ],
      "text/plain": [
       "<plotly.tools.PlotlyDisplay object>"
      ]
     },
     "execution_count": 49,
     "metadata": {},
     "output_type": "execute_result"
    }
   ],
   "source": [
    "# direct approach with Cufflinks\n",
    "data.set_index('Date')['Close'].iplot(world_readable=True)"
   ]
  },
  {
   "cell_type": "markdown",
   "metadata": {},
   "source": [
    "### Real-Time Plots"
   ]
  },
  {
   "cell_type": "markdown",
   "metadata": {},
   "source": [
    "#### Real-Time FX Data"
   ]
  },
  {
   "cell_type": "code",
   "execution_count": 50,
   "metadata": {
    "collapsed": false,
    "uuid": "9adef26f-fc9c-42f2-b203-1387c6ff0b35"
   },
   "outputs": [],
   "source": [
    "import time\n",
    "import pandas as pd\n",
    "import datetime as dt\n",
    "import requests"
   ]
  },
  {
   "cell_type": "code",
   "execution_count": 51,
   "metadata": {
    "collapsed": false,
    "uuid": "f8cd1e89-f329-411e-9589-79f56fae6d90"
   },
   "outputs": [],
   "source": [
    "url = 'http://api-sandbox.oanda.com/v1/prices?instruments=%s'\n",
    "  # real-time FX (dummy!) data from JSON API"
   ]
  },
  {
   "cell_type": "code",
   "execution_count": 52,
   "metadata": {
    "collapsed": false,
    "uuid": "592c5d7c-45be-4bfd-92a1-4b0f1a80c551"
   },
   "outputs": [],
   "source": [
    "instrument = 'EUR_USD'\n",
    "api = requests.get(url % instrument)"
   ]
  },
  {
   "cell_type": "code",
   "execution_count": 53,
   "metadata": {
    "collapsed": false,
    "uuid": "00638626-fea7-4e21-9f9f-0b9313000f19"
   },
   "outputs": [
    {
     "data": {
      "text/plain": [
       "{u'prices': [{u'ask': 1.24073,\n",
       "   u'bid': 1.24059,\n",
       "   u'instrument': u'EUR_USD',\n",
       "   u'time': u'2015-08-08T09:57:19.523848Z'}]}"
      ]
     },
     "execution_count": 53,
     "metadata": {},
     "output_type": "execute_result"
    }
   ],
   "source": [
    "data = api.json()\n",
    "data"
   ]
  },
  {
   "cell_type": "code",
   "execution_count": 54,
   "metadata": {
    "collapsed": false,
    "uuid": "7c95e256-1a25-4ad0-972b-b66d05a2a6ca"
   },
   "outputs": [
    {
     "data": {
      "text/plain": [
       "{u'ask': 1.24073,\n",
       " u'bid': 1.24059,\n",
       " u'instrument': u'EUR_USD',\n",
       " u'time': u'2015-08-08T09:57:19.523848Z'}"
      ]
     },
     "execution_count": 54,
     "metadata": {},
     "output_type": "execute_result"
    }
   ],
   "source": [
    "data = data['prices'][0]\n",
    "data"
   ]
  },
  {
   "cell_type": "code",
   "execution_count": 55,
   "metadata": {
    "collapsed": false,
    "uuid": "9d23fa5e-b572-4182-aca2-46f8db6f5615"
   },
   "outputs": [],
   "source": [
    "ticks = pd.DataFrame({'bid': data['bid'],\n",
    "                      'ask': data['ask'],\n",
    "                      'instrument': data['instrument'],\n",
    "                      'time': pd.Timestamp(data['time'])},\n",
    "                      index=[pd.Timestamp(data['time']),])\n",
    "  # initialization of ticks DataFrame"
   ]
  },
  {
   "cell_type": "code",
   "execution_count": 56,
   "metadata": {
    "collapsed": false,
    "uuid": "012c3b07-bbab-4484-931f-68daef241186"
   },
   "outputs": [
    {
     "data": {
      "text/html": [
       "<div>\n",
       "<table border=\"1\" class=\"dataframe\">\n",
       "  <thead>\n",
       "    <tr style=\"text-align: right;\">\n",
       "      <th></th>\n",
       "      <th>ask</th>\n",
       "      <th>bid</th>\n",
       "      <th>instrument</th>\n",
       "    </tr>\n",
       "  </thead>\n",
       "  <tbody>\n",
       "    <tr>\n",
       "      <th>2015-08-08 09:57:19.523848+00:00</th>\n",
       "      <td>1.24073</td>\n",
       "      <td>1.24059</td>\n",
       "      <td>EUR_USD</td>\n",
       "    </tr>\n",
       "  </tbody>\n",
       "</table>\n",
       "</div>"
      ],
      "text/plain": [
       "                                      ask      bid instrument\n",
       "2015-08-08 09:57:19.523848+00:00  1.24073  1.24059    EUR_USD"
      ]
     },
     "execution_count": 56,
     "metadata": {},
     "output_type": "execute_result"
    }
   ],
   "source": [
    "ticks[['ask', 'bid', 'instrument']]"
   ]
  },
  {
   "cell_type": "markdown",
   "metadata": {},
   "source": [
    "#### Real-Time Stock Price Quotes"
   ]
  },
  {
   "cell_type": "code",
   "execution_count": 57,
   "metadata": {
    "collapsed": false,
    "uuid": "33bbf187-b9ea-4a56-8132-a5ba5fcfd310"
   },
   "outputs": [],
   "source": [
    "url1 = 'http://www.netfonds.no/quotes/posdump.php?'\n",
    "url2 = 'date=%s%s%s&paper=%s.N&csv_format=csv'\n",
    "url = url1 + url2"
   ]
  },
  {
   "cell_type": "code",
   "execution_count": 58,
   "metadata": {
    "collapsed": false,
    "uuid": "976c17f6-bc3f-4238-a121-5c8c483b685d"
   },
   "outputs": [],
   "source": [
    "# must be a business day\n",
    "today = dt.datetime.now()\n",
    "y = '%d' % today.year\n",
    "  # current year\n",
    "m = '%02d' % today.month\n",
    "  # current month, add leading zero if needed\n",
    "d = '%02d' % today.day\n",
    "  # current day, add leading zero if needed\n",
    "sym = 'NKE'\n",
    "  # Nike Inc. stocks"
   ]
  },
  {
   "cell_type": "code",
   "execution_count": 59,
   "metadata": {
    "collapsed": false,
    "uuid": "51351a83-4e9d-427a-ac87-183a59d1ae19"
   },
   "outputs": [
    {
     "data": {
      "text/plain": [
       "('2015', '08', '08', 'NKE')"
      ]
     },
     "execution_count": 59,
     "metadata": {},
     "output_type": "execute_result"
    }
   ],
   "source": [
    "y, m, d, sym"
   ]
  },
  {
   "cell_type": "code",
   "execution_count": 60,
   "metadata": {
    "collapsed": false,
    "uuid": "3e2596c2-2ea2-419c-9c0f-a525eef874d5"
   },
   "outputs": [
    {
     "data": {
      "text/plain": [
       "'http://www.netfonds.no/quotes/posdump.php?date=20150808&paper=NKE.N&csv_format=csv'"
      ]
     },
     "execution_count": 60,
     "metadata": {},
     "output_type": "execute_result"
    }
   ],
   "source": [
    "urlreq = url % (y, m, d, sym)\n",
    "urlreq"
   ]
  },
  {
   "cell_type": "code",
   "execution_count": 61,
   "metadata": {
    "collapsed": false,
    "uuid": "cd2c7a3b-9a59-4a62-994e-4470cfec9011"
   },
   "outputs": [],
   "source": [
    "data = pd.read_csv(urlreq, parse_dates=['time'])\n",
    "  # initialize DataFrame object"
   ]
  },
  {
   "cell_type": "code",
   "execution_count": 62,
   "metadata": {
    "collapsed": false
   },
   "outputs": [
    {
     "name": "stdout",
     "output_type": "stream",
     "text": [
      "<class 'pandas.core.frame.DataFrame'>\n",
      "Index: 0 entries\n",
      "Data columns (total 7 columns):\n",
      "time                 0 non-null object\n",
      "bid                  0 non-null object\n",
      "bid_depth            0 non-null object\n",
      "bid_depth_total      0 non-null object\n",
      "offer                0 non-null object\n",
      "offer_depth          0 non-null object\n",
      "offer_depth_total    0 non-null object\n",
      "dtypes: object(7)\n",
      "memory usage: 0.0+ bytes\n"
     ]
    }
   ],
   "source": [
    "data.info()"
   ]
  },
  {
   "cell_type": "markdown",
   "metadata": {},
   "source": [
    "## Rapid Web Applications"
   ]
  },
  {
   "cell_type": "markdown",
   "metadata": {},
   "source": [
    "### Traders' Chat Room"
   ]
  },
  {
   "cell_type": "markdown",
   "metadata": {},
   "source": [
    "### Data Modeling"
   ]
  },
  {
   "cell_type": "markdown",
   "metadata": {},
   "source": [
    "### The Python Code"
   ]
  },
  {
   "cell_type": "markdown",
   "metadata": {},
   "source": [
    "#### Imports and Database Preliminaries"
   ]
  },
  {
   "cell_type": "markdown",
   "metadata": {},
   "source": [
    "#### Core Functionality"
   ]
  },
  {
   "cell_type": "markdown",
   "metadata": {},
   "source": [
    "### Templating"
   ]
  },
  {
   "cell_type": "code",
   "execution_count": 63,
   "metadata": {
    "collapsed": false,
    "uuid": "1463132b-34c8-4238-8d3e-6ba5c7562194"
   },
   "outputs": [
    {
     "data": {
      "text/plain": [
       "'1, 2, 3'"
      ]
     },
     "execution_count": 63,
     "metadata": {},
     "output_type": "execute_result"
    }
   ],
   "source": [
    "'%d, %d, %d' % (1, 2, 3)"
   ]
  },
  {
   "cell_type": "code",
   "execution_count": 64,
   "metadata": {
    "collapsed": false,
    "uuid": "c5c11d6d-ad65-4ee7-9ebe-91dc1c3d2497"
   },
   "outputs": [
    {
     "data": {
      "text/plain": [
       "'1, 2, 3'"
      ]
     },
     "execution_count": 64,
     "metadata": {},
     "output_type": "execute_result"
    }
   ],
   "source": [
    "'{}, {}, {}'.format(1, 2, 3)"
   ]
  },
  {
   "cell_type": "code",
   "execution_count": 65,
   "metadata": {
    "collapsed": false,
    "uuid": "7ff70268-2c8f-45a5-a6b0-17bb9d77cc14"
   },
   "outputs": [
    {
     "data": {
      "text/plain": [
       "'1, 2, 3'"
      ]
     },
     "execution_count": 65,
     "metadata": {},
     "output_type": "execute_result"
    }
   ],
   "source": [
    "'{}, {}, {}'.format(*'123')"
   ]
  },
  {
   "cell_type": "code",
   "execution_count": 66,
   "metadata": {
    "collapsed": false,
    "uuid": "da70e7f6-9068-4039-bdfc-8bfe510a7ee6"
   },
   "outputs": [],
   "source": [
    "templ = '''<!doctype html>\n",
    "  Just print out <b>numbers</b> provided to the template.\n",
    "  <br><br>\n",
    "  {% for number in numbers %}\n",
    "    {{ number }}\n",
    "  {% endfor %}\n",
    "'''"
   ]
  },
  {
   "cell_type": "code",
   "execution_count": 67,
   "metadata": {
    "collapsed": false,
    "uuid": "6b66b22b-fb7f-4dc7-99f4-ed6550e9eb2f"
   },
   "outputs": [],
   "source": [
    "from jinja2 import Template"
   ]
  },
  {
   "cell_type": "code",
   "execution_count": 68,
   "metadata": {
    "collapsed": false,
    "uuid": "641a5ee8-9ef7-4e60-80cb-c73b1d81f182"
   },
   "outputs": [],
   "source": [
    "t = Template(templ)"
   ]
  },
  {
   "cell_type": "code",
   "execution_count": 69,
   "metadata": {
    "collapsed": false,
    "uuid": "ad91b975-9917-4d22-99db-635d745308a8"
   },
   "outputs": [],
   "source": [
    "html = t.render(numbers=range(5))"
   ]
  },
  {
   "cell_type": "code",
   "execution_count": 70,
   "metadata": {
    "collapsed": false,
    "uuid": "3ddf0465-00f2-4c70-8547-7460eba6f11d"
   },
   "outputs": [
    {
     "data": {
      "text/plain": [
       "u'<!doctype html>\\n  Just print out <b>numbers</b> provided to the template.\\n  <br><br>\\n  \\n    0\\n  \\n    1\\n  \\n    2\\n  \\n    3\\n  \\n    4\\n  '"
      ]
     },
     "execution_count": 70,
     "metadata": {},
     "output_type": "execute_result"
    }
   ],
   "source": [
    "html"
   ]
  },
  {
   "cell_type": "code",
   "execution_count": 71,
   "metadata": {
    "collapsed": false,
    "uuid": "d8d44498-a17f-41b3-9e91-6d09a288c5b8"
   },
   "outputs": [
    {
     "data": {
      "text/html": [
       "<!doctype html>\n",
       "  Just print out <b>numbers</b> provided to the template.\n",
       "  <br><br>\n",
       "  \n",
       "    0\n",
       "  \n",
       "    1\n",
       "  \n",
       "    2\n",
       "  \n",
       "    3\n",
       "  \n",
       "    4\n",
       "  "
      ],
      "text/plain": [
       "<IPython.core.display.HTML object>"
      ]
     },
     "execution_count": 71,
     "metadata": {},
     "output_type": "execute_result"
    }
   ],
   "source": [
    "from IPython.display import HTML\n",
    "HTML(html)"
   ]
  },
  {
   "cell_type": "markdown",
   "metadata": {},
   "source": [
    "### Styling"
   ]
  },
  {
   "cell_type": "code",
   "execution_count": 72,
   "metadata": {
    "collapsed": false,
    "uuid": "41649870-1061-444f-924c-733ecdef2ebb"
   },
   "outputs": [
    {
     "name": "stdout",
     "output_type": "stream",
     "text": [
      "../python/tradechat\n",
      "tradechat.db\n",
      "tables.sql\n",
      "tradechat.py\n",
      "../python/tradechat/templates\n",
      "show_entries.html\n",
      "layout.html\n",
      "register.html\n",
      "login.html\n",
      "../python/tradechat/static\n",
      "style.css\n"
     ]
    }
   ],
   "source": [
    "import os\n",
    "for path, dirs, files in os.walk('../python/tradechat'):\n",
    "  print path\n",
    "  for f in files:\n",
    "    print f"
   ]
  },
  {
   "cell_type": "markdown",
   "metadata": {},
   "source": [
    "## Web Services"
   ]
  },
  {
   "cell_type": "markdown",
   "metadata": {},
   "source": [
    "### The Financial Model"
   ]
  },
  {
   "cell_type": "markdown",
   "metadata": {},
   "source": [
    "### The Implementation"
   ]
  },
  {
   "cell_type": "code",
   "execution_count": 73,
   "metadata": {
    "collapsed": false,
    "uuid": "79f9048b-3427-4a79-9cbc-4bf414c0730c"
   },
   "outputs": [],
   "source": [
    "import sys\n",
    "sys.path.append(\"../python/volservice\")\n",
    "  # adjust if necessary to your path"
   ]
  },
  {
   "cell_type": "code",
   "execution_count": 74,
   "metadata": {
    "collapsed": false,
    "uuid": "baba8c94-1d56-42aa-a491-da6b7a9f649f"
   },
   "outputs": [],
   "source": [
    "from werkzeug.wrappers import Request, Response "
   ]
  },
  {
   "cell_type": "code",
   "execution_count": 75,
   "metadata": {
    "collapsed": false,
    "uuid": "5cbccdda-a5a3-4c7e-97ac-3df9b05c5efb"
   },
   "outputs": [],
   "source": [
    "from vol_pricing_service import get_option_value"
   ]
  },
  {
   "cell_type": "code",
   "execution_count": 76,
   "metadata": {
    "collapsed": false,
    "uuid": "b6bad926-3093-4f80-aedd-aef6e7950749"
   },
   "outputs": [],
   "source": [
    "def application(environ, start_response):\n",
    "    request = Request(environ)\n",
    "      # wrap environ in new object\n",
    "    text = get_option_value(request.args)\n",
    "      # provide all paramters of the call to function\n",
    "      # get back either error message or option value\n",
    "    response = Response(text, mimetype='text/html')\n",
    "      # generate response object based on the returned text\n",
    "    return response(environ, start_response)"
   ]
  },
  {
   "cell_type": "code",
   "execution_count": 77,
   "metadata": {
    "collapsed": false,
    "uuid": "a5708e66-1b39-4f82-b07f-44cb07c68280"
   },
   "outputs": [],
   "source": [
    "import numpy as np\n",
    "import urllib\n",
    "url = 'http://localhost:4000/'"
   ]
  },
  {
   "cell_type": "markdown",
   "metadata": {},
   "source": [
    "## Conclusions"
   ]
  },
  {
   "cell_type": "markdown",
   "metadata": {},
   "source": [
    "## Further Reading"
   ]
  },
  {
   "cell_type": "markdown",
   "metadata": {},
   "source": [
    "<img src=\"http://hilpisch.com/tpq_logo.png\" alt=\"The Python Quants\" width=\"35%\" align=\"right\" border=\"0\"><br>\n",
    "\n",
    "<a href=\"http://www.pythonquants.com\" target=\"_blank\">www.pythonquants.com</a> | <a href=\"http://twitter.com/dyjh\" target=\"_blank\">@dyjh</a>\n",
    "\n",
    "<a href=\"mailto:analytics@pythonquants.com\">analytics@pythonquants.com</a>\n",
    "\n",
    "**Python Quant Platform** |\n",
    "<a href=\"http://oreilly.quant-platform.com\">http://oreilly.quant-platform.com</a>\n",
    "\n",
    "**Derivatives Analytics with Python** |\n",
    "<a href=\"http://www.derivatives-analytics-with-python.com\" target=\"_blank\">Derivatives Analytics @ Wiley Finance</a>\n",
    "\n",
    "**Python for Finance** |\n",
    "<a href=\"http://shop.oreilly.com/product/0636920032441.do\" target=\"_blank\">Python for Finance @ O'Reilly</a>"
   ]
  }
 ],
 "metadata": {
  "kernelspec": {
   "display_name": "Python 2",
   "language": "python2",
   "name": "python2"
  },
  "language_info": {
   "codemirror_mode": {
    "name": "ipython",
    "version": 2
   },
   "file_extension": ".py",
   "mimetype": "text/x-python",
   "name": "python",
   "nbconvert_exporter": "python",
   "pygments_lexer": "ipython2",
   "version": "2.7.10"
  }
 },
 "nbformat": 4,
 "nbformat_minor": 0
}
