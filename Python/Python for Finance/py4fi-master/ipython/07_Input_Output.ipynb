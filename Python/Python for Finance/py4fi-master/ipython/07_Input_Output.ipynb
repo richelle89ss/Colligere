{
 "cells": [
  {
   "cell_type": "markdown",
   "metadata": {},
   "source": [
    "<img src=\"http://hilpisch.com/tpq_logo.png\" alt=\"The Python Quants\" width=\"35%\" align=\"right\" border=\"0\"><br>"
   ]
  },
  {
   "cell_type": "markdown",
   "metadata": {},
   "source": [
    "# Python for Finance"
   ]
  },
  {
   "cell_type": "markdown",
   "metadata": {},
   "source": [
    "**Analyze Big Financial Data**\n",
    "\n",
    "O'Reilly (2014)\n",
    "\n",
    "Yves Hilpisch"
   ]
  },
  {
   "cell_type": "markdown",
   "metadata": {},
   "source": [
    "<img style=\"border:0px solid grey;\" src=\"http://hilpisch.com/python_for_finance.png\" alt=\"Python for Finance\" width=\"30%\" align=\"left\" border=\"0\">"
   ]
  },
  {
   "cell_type": "markdown",
   "metadata": {},
   "source": [
    "**Buy the book ** |\n",
    "<a href='http://shop.oreilly.com/product/0636920032441.do' target='_blank'>O'Reilly</a> |\n",
    "<a href='http://www.amazon.com/Yves-Hilpisch/e/B00JCYHHJM' target='_blank'>Amazon</a>\n",
    "\n",
    "**All book codes & IPYNBs** |\n",
    "<a href=\"http://oreilly.quant-platform.com\">http://oreilly.quant-platform.com</a>\n",
    "\n",
    "**The Python Quants GmbH** | <a href='http://pythonquants.com' target='_blank'>www.pythonquants.com</a>\n",
    "\n",
    "**Contact us** | <a href='mailto:analytics@pythonquants.com'>analytics@pythonquants.com</a>"
   ]
  },
  {
   "cell_type": "markdown",
   "metadata": {},
   "source": [
    "# Input-Output Operations"
   ]
  },
  {
   "cell_type": "markdown",
   "metadata": {},
   "source": [
    "## Basic I/O with Python"
   ]
  },
  {
   "cell_type": "markdown",
   "metadata": {},
   "source": [
    "### Writing Objects to Disk"
   ]
  },
  {
   "cell_type": "code",
   "execution_count": 1,
   "metadata": {
    "collapsed": false,
    "uuid": "d5bf9798-386b-49b8-a703-36263d9d75d4"
   },
   "outputs": [],
   "source": [
    "path = './data/'"
   ]
  },
  {
   "cell_type": "code",
   "execution_count": 2,
   "metadata": {
    "collapsed": false,
    "uuid": "c2722e94-01ea-4f98-804f-56fe1b666770"
   },
   "outputs": [],
   "source": [
    "import numpy as np\n",
    "from random import gauss"
   ]
  },
  {
   "cell_type": "code",
   "execution_count": 3,
   "metadata": {
    "collapsed": false,
    "uuid": "7d03b06c-a907-4a16-913f-e6a8f9a05d51"
   },
   "outputs": [],
   "source": [
    "a = [gauss(1.5, 2) for i in range(1000000)]\n",
    "  # generation of normally distributed randoms"
   ]
  },
  {
   "cell_type": "code",
   "execution_count": 4,
   "metadata": {
    "collapsed": false,
    "uuid": "39126a87-5a20-4090-b805-b6b1eb634952"
   },
   "outputs": [],
   "source": [
    "import pickle"
   ]
  },
  {
   "cell_type": "code",
   "execution_count": 5,
   "metadata": {
    "collapsed": false,
    "uuid": "4aa88b7c-3155-4311-9afc-564bf3b06225"
   },
   "outputs": [],
   "source": [
    "pkl_file = open(path + 'data.pkl', 'w')\n",
    "  # open file for writing\n",
    "  # Note: existing file might be overwritten"
   ]
  },
  {
   "cell_type": "code",
   "execution_count": 6,
   "metadata": {
    "collapsed": false,
    "uuid": "e2611db7-97ed-4162-9cc5-127c7cd89cbd"
   },
   "outputs": [
    {
     "name": "stdout",
     "output_type": "stream",
     "text": [
      "CPU times: user 1.71 s, sys: 17 ms, total: 1.72 s\n",
      "Wall time: 1.72 s\n"
     ]
    }
   ],
   "source": [
    "%time pickle.dump(a, pkl_file)"
   ]
  },
  {
   "cell_type": "code",
   "execution_count": 7,
   "metadata": {
    "collapsed": false,
    "uuid": "1671d5b6-04cd-42ed-b7dd-ca3001521379"
   },
   "outputs": [
    {
     "data": {
      "text/plain": [
       "<open file './data/data.pkl', mode 'w' at 0x7fcd0c17b150>"
      ]
     },
     "execution_count": 7,
     "metadata": {},
     "output_type": "execute_result"
    }
   ],
   "source": [
    "pkl_file"
   ]
  },
  {
   "cell_type": "code",
   "execution_count": 8,
   "metadata": {
    "collapsed": false,
    "uuid": "f2b0c608-c399-401b-b8fa-d44d8eca54b8"
   },
   "outputs": [],
   "source": [
    "pkl_file.close()"
   ]
  },
  {
   "cell_type": "code",
   "execution_count": 9,
   "metadata": {
    "collapsed": false,
    "uuid": "f401db99-56f3-49a5-9c75-772fe5d00d07"
   },
   "outputs": [
    {
     "name": "stdout",
     "output_type": "stream",
     "text": [
      "-rw-r--r-- 1 trial_yves 20972199 Aug  8 11:39 ./data/data.pkl\r\n"
     ]
    }
   ],
   "source": [
    "ll $path*"
   ]
  },
  {
   "cell_type": "code",
   "execution_count": 10,
   "metadata": {
    "collapsed": false,
    "uuid": "8c9bd301-e980-4eb5-9021-4fde182f5eb7"
   },
   "outputs": [],
   "source": [
    "pkl_file = open(path + 'data.pkl', 'r')  # open file for reading"
   ]
  },
  {
   "cell_type": "code",
   "execution_count": 11,
   "metadata": {
    "collapsed": false,
    "uuid": "6c8c4ae7-1ece-4b7c-87bc-8457da4798b2"
   },
   "outputs": [
    {
     "name": "stdout",
     "output_type": "stream",
     "text": [
      "CPU times: user 1.35 s, sys: 10 ms, total: 1.36 s\n",
      "Wall time: 1.36 s\n"
     ]
    }
   ],
   "source": [
    "%time b = pickle.load(pkl_file)"
   ]
  },
  {
   "cell_type": "code",
   "execution_count": 12,
   "metadata": {
    "collapsed": false,
    "uuid": "8bf2e00b-fa06-4524-aa51-6b295fabad00"
   },
   "outputs": [
    {
     "data": {
      "text/plain": [
       "[1.919336270857672,\n",
       " 4.004240642640712,\n",
       " -0.8107998214661332,\n",
       " 1.0178464344610012,\n",
       " -0.36270707846365546]"
      ]
     },
     "execution_count": 12,
     "metadata": {},
     "output_type": "execute_result"
    }
   ],
   "source": [
    "b[:5]"
   ]
  },
  {
   "cell_type": "code",
   "execution_count": 13,
   "metadata": {
    "collapsed": false,
    "uuid": "253951a8-ecec-4fdf-a502-86cfa1d1186d"
   },
   "outputs": [
    {
     "data": {
      "text/plain": [
       "[1.919336270857672,\n",
       " 4.004240642640712,\n",
       " -0.8107998214661332,\n",
       " 1.0178464344610012,\n",
       " -0.36270707846365546]"
      ]
     },
     "execution_count": 13,
     "metadata": {},
     "output_type": "execute_result"
    }
   ],
   "source": [
    "a[:5]"
   ]
  },
  {
   "cell_type": "code",
   "execution_count": 14,
   "metadata": {
    "collapsed": false,
    "uuid": "90b9f136-8195-4f32-9907-1b88469ae55e"
   },
   "outputs": [
    {
     "data": {
      "text/plain": [
       "True"
      ]
     },
     "execution_count": 14,
     "metadata": {},
     "output_type": "execute_result"
    }
   ],
   "source": [
    "np.allclose(np.array(a), np.array(b))"
   ]
  },
  {
   "cell_type": "code",
   "execution_count": 15,
   "metadata": {
    "collapsed": false,
    "uuid": "066a1d61-c385-48e7-9690-fecc23e5eaf3"
   },
   "outputs": [
    {
     "data": {
      "text/plain": [
       "0.0"
      ]
     },
     "execution_count": 15,
     "metadata": {},
     "output_type": "execute_result"
    }
   ],
   "source": [
    "np.sum(np.array(a) - np.array(b))"
   ]
  },
  {
   "cell_type": "code",
   "execution_count": 16,
   "metadata": {
    "collapsed": false,
    "uuid": "7a6b9460-b5ac-4ab5-b083-9912f9dfcef8"
   },
   "outputs": [],
   "source": [
    "pkl_file = open(path + 'data.pkl', 'w')  # open file for writing"
   ]
  },
  {
   "cell_type": "code",
   "execution_count": 17,
   "metadata": {
    "collapsed": false,
    "uuid": "bd6b8e9a-d093-4f98-b88c-27aef388957b"
   },
   "outputs": [
    {
     "name": "stdout",
     "output_type": "stream",
     "text": [
      "CPU times: user 366 ms, sys: 19 ms, total: 385 ms\n",
      "Wall time: 394 ms\n"
     ]
    }
   ],
   "source": [
    "%time pickle.dump(np.array(a), pkl_file)"
   ]
  },
  {
   "cell_type": "code",
   "execution_count": 18,
   "metadata": {
    "collapsed": false,
    "uuid": "d517f9d6-8176-424c-89ef-0c892f9fd61c"
   },
   "outputs": [
    {
     "name": "stdout",
     "output_type": "stream",
     "text": [
      "CPU times: user 339 ms, sys: 18 ms, total: 357 ms\n",
      "Wall time: 356 ms\n"
     ]
    }
   ],
   "source": [
    "%time pickle.dump(np.array(a) ** 2, pkl_file)"
   ]
  },
  {
   "cell_type": "code",
   "execution_count": 19,
   "metadata": {
    "collapsed": false,
    "uuid": "5f558934-6f53-472e-9040-a5c96ee1718d"
   },
   "outputs": [],
   "source": [
    "pkl_file.close()"
   ]
  },
  {
   "cell_type": "code",
   "execution_count": 20,
   "metadata": {
    "collapsed": false,
    "uuid": "b129b0ae-6bcc-4946-817a-ff01c155eacb"
   },
   "outputs": [
    {
     "name": "stdout",
     "output_type": "stream",
     "text": [
      "-rw-r--r-- 1 trial_yves 44094923 Aug  8 11:39 ./data/data.pkl\r\n"
     ]
    }
   ],
   "source": [
    "ll $path*"
   ]
  },
  {
   "cell_type": "code",
   "execution_count": 21,
   "metadata": {
    "collapsed": false,
    "uuid": "59d5dceb-8779-46ff-b2ae-c2e43a7d2c10"
   },
   "outputs": [],
   "source": [
    "pkl_file = open(path + 'data.pkl', 'r')  # open file for reading"
   ]
  },
  {
   "cell_type": "code",
   "execution_count": 22,
   "metadata": {
    "collapsed": false,
    "uuid": "0f981d7b-0a68-412d-bb9b-a377524e0f2c"
   },
   "outputs": [
    {
     "data": {
      "text/plain": [
       "array([ 1.91933627,  4.00424064, -0.81079982, ..., -1.88984922,\n",
       "        1.82196898,  1.40886468])"
      ]
     },
     "execution_count": 22,
     "metadata": {},
     "output_type": "execute_result"
    }
   ],
   "source": [
    "x = pickle.load(pkl_file)\n",
    "x"
   ]
  },
  {
   "cell_type": "code",
   "execution_count": 23,
   "metadata": {
    "collapsed": false,
    "uuid": "1a9cb2b5-a180-43f3-b2ed-20de3148b8a6"
   },
   "outputs": [
    {
     "data": {
      "text/plain": [
       "array([  3.68385172,  16.03394312,   0.65739635, ...,   3.57153006,\n",
       "         3.31957096,   1.98489968])"
      ]
     },
     "execution_count": 23,
     "metadata": {},
     "output_type": "execute_result"
    }
   ],
   "source": [
    "y = pickle.load(pkl_file)\n",
    "y"
   ]
  },
  {
   "cell_type": "code",
   "execution_count": 24,
   "metadata": {
    "collapsed": false,
    "uuid": "6beb0285-c53c-4f56-ac42-62000ef75257"
   },
   "outputs": [],
   "source": [
    "pkl_file.close()\n"
   ]
  },
  {
   "cell_type": "code",
   "execution_count": 25,
   "metadata": {
    "collapsed": false,
    "uuid": "df469b3f-55c4-43e8-a01d-f850f2153871"
   },
   "outputs": [],
   "source": [
    "pkl_file = open(path + 'data.pkl', 'w')  # open file for writing\n",
    "pickle.dump({'x' : x, 'y' : y}, pkl_file)\n",
    "pkl_file.close()"
   ]
  },
  {
   "cell_type": "code",
   "execution_count": 26,
   "metadata": {
    "collapsed": false,
    "uuid": "e6f0219a-ceb4-481d-b033-065e122493c8"
   },
   "outputs": [
    {
     "name": "stdout",
     "output_type": "stream",
     "text": [
      "y [  3.68385172  16.03394312   0.65739635   1.03601136]\n",
      "x [ 1.91933627  4.00424064 -0.81079982  1.01784643]\n"
     ]
    }
   ],
   "source": [
    "pkl_file = open(path + 'data.pkl', 'r')  # open file for writing\n",
    "data = pickle.load(pkl_file)\n",
    "pkl_file.close()\n",
    "for key in data.keys():\n",
    "    print key, data[key][:4]"
   ]
  },
  {
   "cell_type": "code",
   "execution_count": 27,
   "metadata": {
    "collapsed": false,
    "uuid": "dc3181d1-7c8c-4960-8a9a-8a4d64c58a3f"
   },
   "outputs": [],
   "source": [
    "!rm -f $path*"
   ]
  },
  {
   "cell_type": "markdown",
   "metadata": {},
   "source": [
    "### Reading and Writing Text Files"
   ]
  },
  {
   "cell_type": "code",
   "execution_count": 28,
   "metadata": {
    "collapsed": false,
    "uuid": "5124219c-e041-4b36-af62-03faea5c0df1"
   },
   "outputs": [],
   "source": [
    "rows = 5000\n",
    "a = np.random.standard_normal((rows, 5))  # dummy data"
   ]
  },
  {
   "cell_type": "code",
   "execution_count": 29,
   "metadata": {
    "collapsed": false,
    "uuid": "5942c6e2-877a-4c0c-acca-11390e9a02f5"
   },
   "outputs": [
    {
     "data": {
      "text/plain": [
       "array([[ 0.3213,  0.1429,  0.956 ,  0.9603,  1.2606],\n",
       "       [-0.1856, -0.4741, -1.3159,  0.8751,  0.0503],\n",
       "       [ 0.7914, -0.1609, -0.3318,  0.2105,  1.1224],\n",
       "       ..., \n",
       "       [-0.534 ,  0.6207,  0.3908,  0.4189,  0.4367],\n",
       "       [-1.59  , -0.5554, -0.4741,  1.5922,  1.7793],\n",
       "       [-0.2924,  0.4899,  0.9429,  0.285 ,  0.6921]])"
      ]
     },
     "execution_count": 29,
     "metadata": {},
     "output_type": "execute_result"
    }
   ],
   "source": [
    "a.round(4)"
   ]
  },
  {
   "cell_type": "code",
   "execution_count": 30,
   "metadata": {
    "collapsed": false,
    "uuid": "32f5b082-2fcb-4090-80ba-174cc347e519"
   },
   "outputs": [],
   "source": [
    "import pandas as pd\n",
    "t = pd.date_range(start='2014/1/1', periods=rows, freq='H')\n",
    "    # set of hourly datetime objects"
   ]
  },
  {
   "cell_type": "code",
   "execution_count": 31,
   "metadata": {
    "collapsed": false,
    "uuid": "d52b1a47-3bca-4870-9829-1aef62f0952a"
   },
   "outputs": [
    {
     "data": {
      "text/plain": [
       "DatetimeIndex(['2014-01-01 00:00:00', '2014-01-01 01:00:00',\n",
       "               '2014-01-01 02:00:00', '2014-01-01 03:00:00',\n",
       "               '2014-01-01 04:00:00', '2014-01-01 05:00:00',\n",
       "               '2014-01-01 06:00:00', '2014-01-01 07:00:00',\n",
       "               '2014-01-01 08:00:00', '2014-01-01 09:00:00', \n",
       "               ...\n",
       "               '2014-07-27 22:00:00', '2014-07-27 23:00:00',\n",
       "               '2014-07-28 00:00:00', '2014-07-28 01:00:00',\n",
       "               '2014-07-28 02:00:00', '2014-07-28 03:00:00',\n",
       "               '2014-07-28 04:00:00', '2014-07-28 05:00:00',\n",
       "               '2014-07-28 06:00:00', '2014-07-28 07:00:00'],\n",
       "              dtype='datetime64[ns]', length=5000, freq='H', tz=None)"
      ]
     },
     "execution_count": 31,
     "metadata": {},
     "output_type": "execute_result"
    }
   ],
   "source": [
    "t"
   ]
  },
  {
   "cell_type": "code",
   "execution_count": 32,
   "metadata": {
    "collapsed": false,
    "uuid": "39075f54-64cb-42c2-9798-be6638636a15"
   },
   "outputs": [],
   "source": [
    "csv_file = open(path + 'data.csv', 'w')  # open file for writing"
   ]
  },
  {
   "cell_type": "code",
   "execution_count": 33,
   "metadata": {
    "collapsed": false,
    "uuid": "3804898d-dae7-4de0-b0a1-976cd8e43cb3"
   },
   "outputs": [],
   "source": [
    "header = 'date,no1,no2,no3,no4,no5\\n'\n",
    "csv_file.write(header)"
   ]
  },
  {
   "cell_type": "code",
   "execution_count": 34,
   "metadata": {
    "collapsed": false,
    "uuid": "00c96e45-bf91-42d8-b6c9-eb343ee537b7"
   },
   "outputs": [],
   "source": [
    "for t_, (no1, no2, no3, no4, no5) in zip(t, a):\n",
    "    s = '%s,%f,%f,%f,%f,%f\\n' % (t_, no1, no2, no3, no4, no5)\n",
    "    csv_file.write(s)\n",
    "csv_file.close()"
   ]
  },
  {
   "cell_type": "code",
   "execution_count": 35,
   "metadata": {
    "collapsed": false,
    "uuid": "03523876-01c1-410f-aac5-55fcf8aa0604"
   },
   "outputs": [
    {
     "name": "stdout",
     "output_type": "stream",
     "text": [
      "-rw-r--r-- 1 trial_yves 337374 Aug  8 11:39 ./data/data.csv\r\n"
     ]
    }
   ],
   "source": [
    "ll $path*"
   ]
  },
  {
   "cell_type": "code",
   "execution_count": 36,
   "metadata": {
    "collapsed": false,
    "uuid": "b290e5d3-8e56-4d53-acae-51accd08c4f7"
   },
   "outputs": [],
   "source": [
    "csv_file = open(path + 'data.csv', 'r')  # open file for reading"
   ]
  },
  {
   "cell_type": "code",
   "execution_count": 37,
   "metadata": {
    "collapsed": false,
    "uuid": "7b1242f5-5892-44bd-a305-addf9daff316"
   },
   "outputs": [
    {
     "name": "stdout",
     "output_type": "stream",
     "text": [
      "date,no1,no2,no3,no4,no5\n",
      "2014-01-01 00:00:00,0.321301,0.142888,0.956041,0.960300,1.260565\n",
      "2014-01-01 01:00:00,-0.185629,-0.474109,-1.315947,0.875079,0.050341\n",
      "2014-01-01 02:00:00,0.791354,-0.160866,-0.331847,0.210507,1.122358\n",
      "2014-01-01 03:00:00,1.468594,0.523180,1.413321,-1.009979,0.677074\n"
     ]
    }
   ],
   "source": [
    "for i in range(5):\n",
    "    print csv_file.readline(),"
   ]
  },
  {
   "cell_type": "code",
   "execution_count": 38,
   "metadata": {
    "collapsed": false,
    "uuid": "00148061-9d3a-4459-b8b8-63c98f14194b"
   },
   "outputs": [
    {
     "name": "stdout",
     "output_type": "stream",
     "text": [
      "date,no1,no2,no3,no4,no5\n",
      "2014-01-01 00:00:00,0.321301,0.142888,0.956041,0.960300,1.260565\n",
      "2014-01-01 01:00:00,-0.185629,-0.474109,-1.315947,0.875079,0.050341\n",
      "2014-01-01 02:00:00,0.791354,-0.160866,-0.331847,0.210507,1.122358\n",
      "2014-01-01 03:00:00,1.468594,0.523180,1.413321,-1.009979,0.677074\n"
     ]
    }
   ],
   "source": [
    "csv_file = open(path + 'data.csv', 'r')\n",
    "content = csv_file.readlines()\n",
    "for line in content[:5]:\n",
    "    print line,"
   ]
  },
  {
   "cell_type": "code",
   "execution_count": 39,
   "metadata": {
    "collapsed": false,
    "uuid": "2b2384ca-8927-49e1-8070-33ef0c21a1a9"
   },
   "outputs": [],
   "source": [
    "csv_file.close()\n",
    "!rm -f $path*"
   ]
  },
  {
   "cell_type": "markdown",
   "metadata": {},
   "source": [
    "### SQL Databases"
   ]
  },
  {
   "cell_type": "code",
   "execution_count": 40,
   "metadata": {
    "collapsed": false,
    "uuid": "39c9650b-0430-4e66-b461-faecdb511537"
   },
   "outputs": [],
   "source": [
    "import sqlite3 as sq3"
   ]
  },
  {
   "cell_type": "code",
   "execution_count": 41,
   "metadata": {
    "collapsed": false,
    "uuid": "9e163352-767b-4888-a286-9a79265bb19b"
   },
   "outputs": [],
   "source": [
    "query = 'CREATE TABLE numbs (Date date, No1 real, No2 real)'"
   ]
  },
  {
   "cell_type": "code",
   "execution_count": 42,
   "metadata": {
    "collapsed": false,
    "uuid": "cc01fd41-a6c6-426b-b235-42c903ff6c00"
   },
   "outputs": [],
   "source": [
    "con = sq3.connect(path + 'numbs.db')"
   ]
  },
  {
   "cell_type": "code",
   "execution_count": 43,
   "metadata": {
    "collapsed": false,
    "uuid": "d97dad1a-10cc-43c0-a04a-a5da9b98396b"
   },
   "outputs": [
    {
     "data": {
      "text/plain": [
       "<sqlite3.Cursor at 0x7fcd0c153b20>"
      ]
     },
     "execution_count": 43,
     "metadata": {},
     "output_type": "execute_result"
    }
   ],
   "source": [
    "con.execute(query)"
   ]
  },
  {
   "cell_type": "code",
   "execution_count": 44,
   "metadata": {
    "collapsed": false,
    "uuid": "cc2e7d31-8239-48b0-b032-f11a514d9349"
   },
   "outputs": [],
   "source": [
    "con.commit()"
   ]
  },
  {
   "cell_type": "code",
   "execution_count": 45,
   "metadata": {
    "collapsed": false,
    "uuid": "6d76f99f-f6bb-4aad-b386-06946366bbe6"
   },
   "outputs": [],
   "source": [
    "import datetime as dt"
   ]
  },
  {
   "cell_type": "code",
   "execution_count": 46,
   "metadata": {
    "collapsed": false,
    "uuid": "a37b7780-d824-4558-b12e-9e5dec6b3056"
   },
   "outputs": [
    {
     "data": {
      "text/plain": [
       "<sqlite3.Cursor at 0x7fccf39be880>"
      ]
     },
     "execution_count": 46,
     "metadata": {},
     "output_type": "execute_result"
    }
   ],
   "source": [
    "con.execute('INSERT INTO numbs VALUES(?, ?, ?)',\n",
    "            (dt.datetime.now(), 0.12, 7.3))"
   ]
  },
  {
   "cell_type": "code",
   "execution_count": 47,
   "metadata": {
    "collapsed": false,
    "uuid": "5d882442-b6fb-4788-81b8-9f7814a352ae"
   },
   "outputs": [],
   "source": [
    "data = np.random.standard_normal((10000, 2)).round(5)"
   ]
  },
  {
   "cell_type": "code",
   "execution_count": 48,
   "metadata": {
    "collapsed": false,
    "uuid": "58b51e61-ed1a-4c5e-999a-0f55072e5d32"
   },
   "outputs": [],
   "source": [
    "for row in data:\n",
    "    con.execute('INSERT INTO numbs VALUES(?, ?, ?)',\n",
    "                (dt.datetime.now(), row[0], row[1]))\n",
    "con.commit()"
   ]
  },
  {
   "cell_type": "code",
   "execution_count": 49,
   "metadata": {
    "collapsed": false,
    "uuid": "667cbd3a-e001-4548-8679-10aec0d31354"
   },
   "outputs": [
    {
     "data": {
      "text/plain": [
       "[(u'2015-08-08 11:39:19.198224', 0.12, 7.3),\n",
       " (u'2015-08-08 11:39:19.588959', -1.80255, 0.19796),\n",
       " (u'2015-08-08 11:39:19.589034', -0.65236, -1.02442),\n",
       " (u'2015-08-08 11:39:19.589059', 0.42357, -0.15053),\n",
       " (u'2015-08-08 11:39:19.589074', 0.37267, 0.46058),\n",
       " (u'2015-08-08 11:39:19.589084', -1.56685, -0.50323),\n",
       " (u'2015-08-08 11:39:19.589094', 0.14706, 0.98503),\n",
       " (u'2015-08-08 11:39:19.589104', -1.12345, -0.54418),\n",
       " (u'2015-08-08 11:39:19.589127', 1.30438, -1.33077),\n",
       " (u'2015-08-08 11:39:19.589139', 0.74059, -0.45809)]"
      ]
     },
     "execution_count": 49,
     "metadata": {},
     "output_type": "execute_result"
    }
   ],
   "source": [
    "con.execute('SELECT * FROM numbs').fetchmany(10)"
   ]
  },
  {
   "cell_type": "code",
   "execution_count": 50,
   "metadata": {
    "collapsed": false,
    "uuid": "c9217058-4cb9-49b9-b81b-a4c370fce834"
   },
   "outputs": [],
   "source": [
    "pointer = con.execute('SELECT * FROM numbs')"
   ]
  },
  {
   "cell_type": "code",
   "execution_count": 51,
   "metadata": {
    "collapsed": false,
    "uuid": "7088d1c6-aed9-457a-a84a-58b1718ad164"
   },
   "outputs": [
    {
     "name": "stdout",
     "output_type": "stream",
     "text": [
      "(u'2015-08-08 11:39:19.198224', 0.12, 7.3)\n",
      "(u'2015-08-08 11:39:19.588959', -1.80255, 0.19796)\n",
      "(u'2015-08-08 11:39:19.589034', -0.65236, -1.02442)\n"
     ]
    }
   ],
   "source": [
    "for i in range(3):\n",
    "    print pointer.fetchone()"
   ]
  },
  {
   "cell_type": "code",
   "execution_count": 52,
   "metadata": {
    "collapsed": false,
    "uuid": "3f80d448-2ff3-4e07-80ce-d8971f367a2c"
   },
   "outputs": [],
   "source": [
    "con.close()\n",
    "!rm -f $path*"
   ]
  },
  {
   "cell_type": "markdown",
   "metadata": {},
   "source": [
    "### Writing and Reading Numpy Arrays"
   ]
  },
  {
   "cell_type": "code",
   "execution_count": 53,
   "metadata": {
    "collapsed": false,
    "uuid": "55cb3a69-0ad9-41eb-9e4f-33ce8a87cf3c"
   },
   "outputs": [],
   "source": [
    "import numpy as np"
   ]
  },
  {
   "cell_type": "code",
   "execution_count": 54,
   "metadata": {
    "collapsed": false,
    "uuid": "4e65636e-de0f-49d1-bd67-b63868fb3a3a"
   },
   "outputs": [
    {
     "data": {
      "text/plain": [
       "3681360"
      ]
     },
     "execution_count": 54,
     "metadata": {},
     "output_type": "execute_result"
    }
   ],
   "source": [
    "dtimes = np.arange('2015-01-01 10:00:00', '2021-12-31 22:00:00',\n",
    "                  dtype='datetime64[m]')  # minute intervals\n",
    "len(dtimes)"
   ]
  },
  {
   "cell_type": "code",
   "execution_count": 55,
   "metadata": {
    "collapsed": false,
    "uuid": "d5d873f2-4ffa-4fad-a802-9c12a9e30046"
   },
   "outputs": [],
   "source": [
    "dty = np.dtype([('Date', 'datetime64[m]'), ('No1', 'f'), ('No2', 'f')])\n",
    "data = np.zeros(len(dtimes), dtype=dty)"
   ]
  },
  {
   "cell_type": "code",
   "execution_count": 56,
   "metadata": {
    "collapsed": false,
    "uuid": "d8cd7ec4-a323-44db-91ba-9a8a9edde1b4"
   },
   "outputs": [],
   "source": [
    "data['Date'] = dtimes"
   ]
  },
  {
   "cell_type": "code",
   "execution_count": 57,
   "metadata": {
    "collapsed": false,
    "uuid": "3f9e6dc3-23c8-46b2-b776-c5f73d22ce04"
   },
   "outputs": [],
   "source": [
    "a = np.random.standard_normal((len(dtimes), 2)).round(5)\n",
    "data['No1'] = a[:, 0]\n",
    "data['No2'] = a[:, 1]"
   ]
  },
  {
   "cell_type": "code",
   "execution_count": 58,
   "metadata": {
    "collapsed": false,
    "uuid": "d783e0e3-0238-49f0-b3cf-655012d25ff3"
   },
   "outputs": [
    {
     "name": "stdout",
     "output_type": "stream",
     "text": [
      "CPU times: user 1e+03 µs, sys: 41 ms, total: 42 ms\n",
      "Wall time: 41.9 ms\n"
     ]
    }
   ],
   "source": [
    "%time np.save(path + 'array', data)  # suffix .npy is added"
   ]
  },
  {
   "cell_type": "code",
   "execution_count": 59,
   "metadata": {
    "collapsed": false,
    "uuid": "329fb352-9724-4f9b-98e9-3d0d144c9cf9"
   },
   "outputs": [
    {
     "name": "stdout",
     "output_type": "stream",
     "text": [
      "-rw-r--r-- 1 trial_yves 58901888 Aug  8 11:39 ./data/array.npy\r\n"
     ]
    }
   ],
   "source": [
    "ll $path*"
   ]
  },
  {
   "cell_type": "code",
   "execution_count": 60,
   "metadata": {
    "collapsed": false,
    "uuid": "b5f60285-80a3-4caa-b528-064b5302464b"
   },
   "outputs": [
    {
     "name": "stdout",
     "output_type": "stream",
     "text": [
      "CPU times: user 4 ms, sys: 13 ms, total: 17 ms\n",
      "Wall time: 290 ms\n"
     ]
    },
    {
     "data": {
      "text/plain": [
       "array([ (datetime.datetime(2015, 1, 1, 9, 0), 1.6426500082015991, 0.8727200031280518),\n",
       "       (datetime.datetime(2015, 1, 1, 9, 1), 0.694819986820221, -0.373199999332428),\n",
       "       (datetime.datetime(2015, 1, 1, 9, 2), -1.0828800201416016, -0.7111499905586243),\n",
       "       ...,\n",
       "       (datetime.datetime(2021, 12, 31, 20, 57), -0.878279983997345, -1.821310043334961),\n",
       "       (datetime.datetime(2021, 12, 31, 20, 58), -0.21980999410152435, 0.37689998745918274),\n",
       "       (datetime.datetime(2021, 12, 31, 20, 59), -0.3513000011444092, -0.20430000126361847)], \n",
       "      dtype=[('Date', '<M8[m]'), ('No1', '<f4'), ('No2', '<f4')])"
      ]
     },
     "execution_count": 60,
     "metadata": {},
     "output_type": "execute_result"
    }
   ],
   "source": [
    "%time np.load(path + 'array.npy')"
   ]
  },
  {
   "cell_type": "code",
   "execution_count": 61,
   "metadata": {
    "collapsed": false,
    "uuid": "d10836fb-aa11-4fb9-8c2c-24d46f48b46b"
   },
   "outputs": [],
   "source": [
    "data = np.random.standard_normal((10000, 6000))"
   ]
  },
  {
   "cell_type": "code",
   "execution_count": 62,
   "metadata": {
    "collapsed": false,
    "uuid": "2b48a768-2abb-46c1-9499-946e4e43f26e"
   },
   "outputs": [
    {
     "name": "stdout",
     "output_type": "stream",
     "text": [
      "CPU times: user 0 ns, sys: 338 ms, total: 338 ms\n",
      "Wall time: 1.68 s\n"
     ]
    }
   ],
   "source": [
    "%time np.save(path + 'array', data) "
   ]
  },
  {
   "cell_type": "code",
   "execution_count": 63,
   "metadata": {
    "collapsed": false,
    "uuid": "c0de71b2-0d43-4752-82e4-982cc40fc47a"
   },
   "outputs": [
    {
     "name": "stdout",
     "output_type": "stream",
     "text": [
      "-rw-r--r-- 1 trial_yves 480000080 Aug  8 11:39 ./data/array.npy\r\n"
     ]
    }
   ],
   "source": [
    "ll $path*"
   ]
  },
  {
   "cell_type": "code",
   "execution_count": 64,
   "metadata": {
    "collapsed": false,
    "uuid": "3bedfde2-d212-40e6-a043-379e416fcc08"
   },
   "outputs": [
    {
     "name": "stdout",
     "output_type": "stream",
     "text": [
      "CPU times: user 1e+03 µs, sys: 90 ms, total: 91 ms\n",
      "Wall time: 90.1 ms\n"
     ]
    },
    {
     "data": {
      "text/plain": [
       "array([[ 1.869195  ,  2.51181551,  0.50299449, ...,  0.44741184,\n",
       "         2.62600418,  1.20416049],\n",
       "       [ 0.33248484,  1.59775217, -0.4236616 , ...,  0.6692424 ,\n",
       "        -0.77519336,  0.0099632 ],\n",
       "       [ 0.23082571,  1.27221502,  2.53244799, ..., -0.06913284,\n",
       "        -0.21342786, -0.05151974],\n",
       "       ..., \n",
       "       [ 0.23409942, -1.28031167, -1.69010745, ...,  0.34195653,\n",
       "        -0.11697697,  0.97838194],\n",
       "       [-1.77468058,  0.63968047, -0.0526429 , ...,  0.04221046,\n",
       "        -1.52572223,  0.10966556],\n",
       "       [-0.0533519 ,  0.50078756,  0.20619223, ..., -0.6263904 ,\n",
       "        -0.80380649, -0.22608983]])"
      ]
     },
     "execution_count": 64,
     "metadata": {},
     "output_type": "execute_result"
    }
   ],
   "source": [
    "%time np.load(path + 'array.npy')"
   ]
  },
  {
   "cell_type": "code",
   "execution_count": 65,
   "metadata": {
    "collapsed": false,
    "uuid": "b5de422d-014e-4f1f-b80c-4c1333920a57"
   },
   "outputs": [],
   "source": [
    "data = 0.0\n",
    "!rm -f $path*"
   ]
  },
  {
   "cell_type": "markdown",
   "metadata": {},
   "source": [
    "## I/O with pandas"
   ]
  },
  {
   "cell_type": "code",
   "execution_count": 66,
   "metadata": {
    "collapsed": false,
    "uuid": "e0ba11e0-7bdf-4e1f-b8a2-0566cb5ab7a7"
   },
   "outputs": [],
   "source": [
    "import numpy as np\n",
    "import pandas as pd\n",
    "data = np.random.standard_normal((1000000, 5)).round(5)\n",
    "        # sample data set"
   ]
  },
  {
   "cell_type": "code",
   "execution_count": 67,
   "metadata": {
    "collapsed": false,
    "uuid": "366021ec-1265-4fef-ae96-b280c7f3cd2b"
   },
   "outputs": [],
   "source": [
    "filename = path + 'numbs'"
   ]
  },
  {
   "cell_type": "markdown",
   "metadata": {},
   "source": [
    "### SQL Database"
   ]
  },
  {
   "cell_type": "code",
   "execution_count": 68,
   "metadata": {
    "collapsed": false,
    "uuid": "ec2ee399-b7d1-4900-b9d8-f4e76492954e"
   },
   "outputs": [],
   "source": [
    "import sqlite3 as sq3"
   ]
  },
  {
   "cell_type": "code",
   "execution_count": 69,
   "metadata": {
    "collapsed": false,
    "uuid": "296ae8af-8da3-4f6d-98bd-2816374d8526"
   },
   "outputs": [],
   "source": [
    "query = 'CREATE TABLE numbers (No1 real, No2 real,\\\n",
    "        No3 real, No4 real, No5 real)'"
   ]
  },
  {
   "cell_type": "code",
   "execution_count": 70,
   "metadata": {
    "collapsed": false,
    "uuid": "41eac653-cff4-4bab-b27a-18982f4b6159"
   },
   "outputs": [],
   "source": [
    "con = sq3.Connection(filename + '.db')"
   ]
  },
  {
   "cell_type": "code",
   "execution_count": 71,
   "metadata": {
    "collapsed": false,
    "uuid": "8c1f7339-7383-4716-b1dc-d18bdd651bfe"
   },
   "outputs": [
    {
     "data": {
      "text/plain": [
       "<sqlite3.Cursor at 0x7fccf39beb20>"
      ]
     },
     "execution_count": 71,
     "metadata": {},
     "output_type": "execute_result"
    }
   ],
   "source": [
    "con.execute(query)"
   ]
  },
  {
   "cell_type": "code",
   "execution_count": 72,
   "metadata": {
    "collapsed": false,
    "uuid": "c9bd1eba-510d-4b60-89bf-88dd90e96b4f"
   },
   "outputs": [
    {
     "name": "stdout",
     "output_type": "stream",
     "text": [
      "CPU times: user 5.23 s, sys: 86 ms, total: 5.32 s\n",
      "Wall time: 7.54 s\n"
     ]
    }
   ],
   "source": [
    "%%time\n",
    "con.executemany('INSERT INTO numbers VALUES (?, ?, ?, ?, ?)', data)\n",
    "con.commit()"
   ]
  },
  {
   "cell_type": "code",
   "execution_count": 73,
   "metadata": {
    "collapsed": false,
    "uuid": "f2331de4-877b-48fe-aac1-fd823af82b24"
   },
   "outputs": [
    {
     "name": "stdout",
     "output_type": "stream",
     "text": [
      "-rw-r--r-- 1 trial_yves 54446080 Aug  8 11:39 ./data/numbs.db\r\n"
     ]
    }
   ],
   "source": [
    "ll $path*"
   ]
  },
  {
   "cell_type": "code",
   "execution_count": 74,
   "metadata": {
    "collapsed": false,
    "uuid": "36c34da0-f8d8-4bf5-8241-45266a118747"
   },
   "outputs": [
    {
     "name": "stdout",
     "output_type": "stream",
     "text": [
      "[(0.43148, -1.3539, -2.20135, 0.6723, 0.90518), (1.43439, 0.10531, -0.81617, -0.69314, 0.42175)]\n",
      "CPU times: user 761 ms, sys: 70 ms, total: 831 ms\n",
      "Wall time: 830 ms\n"
     ]
    }
   ],
   "source": [
    "%%time\n",
    "temp = con.execute('SELECT * FROM numbers').fetchall()\n",
    "print temp[:2]\n",
    "temp = 0.0"
   ]
  },
  {
   "cell_type": "code",
   "execution_count": 75,
   "metadata": {
    "collapsed": false,
    "uuid": "1ed09d3f-24a5-4936-b64c-a205182b5910"
   },
   "outputs": [
    {
     "name": "stdout",
     "output_type": "stream",
     "text": [
      "CPU times: user 361 ms, sys: 18 ms, total: 379 ms\n",
      "Wall time: 379 ms\n"
     ]
    }
   ],
   "source": [
    "%%time\n",
    "query = 'SELECT * FROM numbers WHERE No1 > 0 AND No2 < 0'\n",
    "res = np.array(con.execute(query).fetchall()).round(3)"
   ]
  },
  {
   "cell_type": "code",
   "execution_count": 76,
   "metadata": {
    "collapsed": false,
    "uuid": "d3100151-5563-48ca-8ba6-cc9a623d03cc"
   },
   "outputs": [
    {
     "data": {
      "text/plain": [
       "(-4.5, 0.5)"
      ]
     },
     "execution_count": 76,
     "metadata": {},
     "output_type": "execute_result"
    },
    {
     "data": {
      "image/png": "[encoded data removed]",
      "text/plain": [
       "<matplotlib.figure.Figure at 0x7fccefcf9990>"
      ]
     },
     "metadata": {},
     "output_type": "display_data"
    }
   ],
   "source": [
    "res = res[::100]  # every 100th result\n",
    "import matplotlib.pyplot as plt\n",
    "%matplotlib inline\n",
    "plt.plot(res[:, 0], res[:, 1], 'ro')\n",
    "plt.grid(True); plt.xlim(-0.5, 4.5); plt.ylim(-4.5, 0.5)\n",
    "# tag: scatter_query\n",
    "# title: Plot of the query result\n",
    "# size: 60"
   ]
  },
  {
   "cell_type": "markdown",
   "metadata": {},
   "source": [
    "### From SQL to pandas"
   ]
  },
  {
   "cell_type": "code",
   "execution_count": 77,
   "metadata": {
    "collapsed": false,
    "uuid": "300b95ab-eeff-46e7-a257-80e8fdf37ee6"
   },
   "outputs": [],
   "source": [
    "import pandas.io.sql as pds"
   ]
  },
  {
   "cell_type": "code",
   "execution_count": 78,
   "metadata": {
    "collapsed": false,
    "uuid": "d446ef85-a7d0-4aba-8b93-d2d60a1aee9b"
   },
   "outputs": [
    {
     "name": "stdout",
     "output_type": "stream",
     "text": [
      "CPU times: user 1.06 s, sys: 69 ms, total: 1.13 s\n",
      "Wall time: 3.52 s\n"
     ]
    }
   ],
   "source": [
    "%time data = pds.read_sql('SELECT * FROM numbers', con)"
   ]
  },
  {
   "cell_type": "code",
   "execution_count": 79,
   "metadata": {
    "collapsed": false,
    "uuid": "052c40c0-6bb7-4084-9e84-da330dca43db"
   },
   "outputs": [
    {
     "data": {
      "text/html": [
       "<div>\n",
       "<table border=\"1\" class=\"dataframe\">\n",
       "  <thead>\n",
       "    <tr style=\"text-align: right;\">\n",
       "      <th></th>\n",
       "      <th>No1</th>\n",
       "      <th>No2</th>\n",
       "      <th>No3</th>\n",
       "      <th>No4</th>\n",
       "      <th>No5</th>\n",
       "    </tr>\n",
       "  </thead>\n",
       "  <tbody>\n",
       "    <tr>\n",
       "      <th>0</th>\n",
       "      <td>0.43148</td>\n",
       "      <td>-1.35390</td>\n",
       "      <td>-2.20135</td>\n",
       "      <td>0.67230</td>\n",
       "      <td>0.90518</td>\n",
       "    </tr>\n",
       "    <tr>\n",
       "      <th>1</th>\n",
       "      <td>1.43439</td>\n",
       "      <td>0.10531</td>\n",
       "      <td>-0.81617</td>\n",
       "      <td>-0.69314</td>\n",
       "      <td>0.42175</td>\n",
       "    </tr>\n",
       "    <tr>\n",
       "      <th>2</th>\n",
       "      <td>-1.54029</td>\n",
       "      <td>-0.11770</td>\n",
       "      <td>0.11167</td>\n",
       "      <td>-0.24472</td>\n",
       "      <td>-0.41014</td>\n",
       "    </tr>\n",
       "    <tr>\n",
       "      <th>3</th>\n",
       "      <td>-0.39944</td>\n",
       "      <td>-0.47731</td>\n",
       "      <td>0.74140</td>\n",
       "      <td>1.19819</td>\n",
       "      <td>0.07989</td>\n",
       "    </tr>\n",
       "    <tr>\n",
       "      <th>4</th>\n",
       "      <td>-0.55866</td>\n",
       "      <td>-0.87625</td>\n",
       "      <td>1.22017</td>\n",
       "      <td>-0.40954</td>\n",
       "      <td>0.97118</td>\n",
       "    </tr>\n",
       "  </tbody>\n",
       "</table>\n",
       "</div>"
      ],
      "text/plain": [
       "       No1      No2      No3      No4      No5\n",
       "0  0.43148 -1.35390 -2.20135  0.67230  0.90518\n",
       "1  1.43439  0.10531 -0.81617 -0.69314  0.42175\n",
       "2 -1.54029 -0.11770  0.11167 -0.24472 -0.41014\n",
       "3 -0.39944 -0.47731  0.74140  1.19819  0.07989\n",
       "4 -0.55866 -0.87625  1.22017 -0.40954  0.97118"
      ]
     },
     "execution_count": 79,
     "metadata": {},
     "output_type": "execute_result"
    }
   ],
   "source": [
    "data.head()"
   ]
  },
  {
   "cell_type": "code",
   "execution_count": 80,
   "metadata": {
    "collapsed": false,
    "uuid": "a5f5d023-dfbb-4b54-a622-38a48b3d00a1"
   },
   "outputs": [
    {
     "name": "stdout",
     "output_type": "stream",
     "text": [
      "CPU times: user 28 ms, sys: 0 ns, total: 28 ms\n",
      "Wall time: 27.8 ms\n"
     ]
    },
    {
     "data": {
      "text/html": [
       "<div>\n",
       "<table border=\"1\" class=\"dataframe\">\n",
       "  <thead>\n",
       "    <tr style=\"text-align: right;\">\n",
       "      <th></th>\n",
       "      <th>No1</th>\n",
       "      <th>No2</th>\n",
       "      <th>No3</th>\n",
       "      <th>No4</th>\n",
       "      <th>No5</th>\n",
       "    </tr>\n",
       "  </thead>\n",
       "  <tbody>\n",
       "    <tr>\n",
       "      <th>0</th>\n",
       "      <td>0.43148</td>\n",
       "      <td>-1.35390</td>\n",
       "      <td>-2.20135</td>\n",
       "      <td>0.67230</td>\n",
       "      <td>0.90518</td>\n",
       "    </tr>\n",
       "    <tr>\n",
       "      <th>5</th>\n",
       "      <td>1.01914</td>\n",
       "      <td>-0.66203</td>\n",
       "      <td>-0.86332</td>\n",
       "      <td>2.05435</td>\n",
       "      <td>-0.26633</td>\n",
       "    </tr>\n",
       "    <tr>\n",
       "      <th>6</th>\n",
       "      <td>0.32140</td>\n",
       "      <td>-0.61428</td>\n",
       "      <td>-1.39558</td>\n",
       "      <td>0.12805</td>\n",
       "      <td>-1.47910</td>\n",
       "    </tr>\n",
       "    <tr>\n",
       "      <th>10</th>\n",
       "      <td>0.62356</td>\n",
       "      <td>-0.71995</td>\n",
       "      <td>-0.33065</td>\n",
       "      <td>-0.84202</td>\n",
       "      <td>-0.64460</td>\n",
       "    </tr>\n",
       "    <tr>\n",
       "      <th>14</th>\n",
       "      <td>1.43647</td>\n",
       "      <td>-0.42635</td>\n",
       "      <td>0.69048</td>\n",
       "      <td>-0.05409</td>\n",
       "      <td>0.92119</td>\n",
       "    </tr>\n",
       "  </tbody>\n",
       "</table>\n",
       "</div>"
      ],
      "text/plain": [
       "        No1      No2      No3      No4      No5\n",
       "0   0.43148 -1.35390 -2.20135  0.67230  0.90518\n",
       "5   1.01914 -0.66203 -0.86332  2.05435 -0.26633\n",
       "6   0.32140 -0.61428 -1.39558  0.12805 -1.47910\n",
       "10  0.62356 -0.71995 -0.33065 -0.84202 -0.64460\n",
       "14  1.43647 -0.42635  0.69048 -0.05409  0.92119"
      ]
     },
     "execution_count": 80,
     "metadata": {},
     "output_type": "execute_result"
    }
   ],
   "source": [
    "%time data[(data['No1'] > 0) & (data['No2'] < 0)].head()"
   ]
  },
  {
   "cell_type": "code",
   "execution_count": 81,
   "metadata": {
    "collapsed": false,
    "uuid": "2aa6d1e0-e157-4d5b-8a43-3fc696679511"
   },
   "outputs": [
    {
     "name": "stdout",
     "output_type": "stream",
     "text": [
      "CPU times: user 46 ms, sys: 0 ns, total: 46 ms\n",
      "Wall time: 46.1 ms\n"
     ]
    }
   ],
   "source": [
    "%%time\n",
    "res = data[['No1', 'No2']][((data['No1'] > 0.5) | (data['No1'] < -0.5))\n",
    "                     & ((data['No2'] < -1) | (data['No2'] > 1))]"
   ]
  },
  {
   "cell_type": "code",
   "execution_count": 82,
   "metadata": {
    "collapsed": false,
    "uuid": "d46cc119-c34b-4d3f-becd-f625c1a70f78"
   },
   "outputs": [
    {
     "data": {
      "text/plain": [
       "(-4.8018900000000002,\n",
       " 4.3225600000000002,\n",
       " -4.7240099999999998,\n",
       " 4.8296700000000001)"
      ]
     },
     "execution_count": 82,
     "metadata": {},
     "output_type": "execute_result"
    },
    {
     "data": {
      "image/png": "[encoded data removed]",
      "text/plain": [
       "<matplotlib.figure.Figure at 0x7fcce14da8d0>"
      ]
     },
     "metadata": {},
     "output_type": "display_data"
    }
   ],
   "source": [
    "plt.plot(res.No1, res.No2, 'ro')\n",
    "plt.grid(True); plt.axis('tight')\n",
    "# tag: data_scatter_1\n",
    "# title: Scatter plot of complex query results\n",
    "# size: 55"
   ]
  },
  {
   "cell_type": "code",
   "execution_count": 83,
   "metadata": {
    "collapsed": false,
    "uuid": "7017f5f6-2a19-4d1e-b256-4936081ab91a"
   },
   "outputs": [],
   "source": [
    "h5s = pd.HDFStore(filename + '.h5s', 'w')"
   ]
  },
  {
   "cell_type": "code",
   "execution_count": 84,
   "metadata": {
    "collapsed": false,
    "uuid": "eec6ad05-c74e-49e9-bd35-965d56ba3bc9"
   },
   "outputs": [
    {
     "name": "stdout",
     "output_type": "stream",
     "text": [
      "CPU times: user 17 ms, sys: 40 ms, total: 57 ms\n",
      "Wall time: 167 ms\n"
     ]
    }
   ],
   "source": [
    "%time h5s['data'] = data"
   ]
  },
  {
   "cell_type": "code",
   "execution_count": 85,
   "metadata": {
    "collapsed": false,
    "uuid": "69057178-872b-4080-8d36-3ea1d9b56b18"
   },
   "outputs": [
    {
     "data": {
      "text/plain": [
       "<class 'pandas.io.pytables.HDFStore'>\n",
       "File path: ./data/numbs.h5s\n",
       "/data            frame        (shape->[1000000,5])"
      ]
     },
     "execution_count": 85,
     "metadata": {},
     "output_type": "execute_result"
    }
   ],
   "source": [
    "h5s"
   ]
  },
  {
   "cell_type": "code",
   "execution_count": 86,
   "metadata": {
    "collapsed": false,
    "uuid": "179c2cf9-9505-4e1a-b6fc-f71429bbfd6d"
   },
   "outputs": [],
   "source": [
    "h5s.close()"
   ]
  },
  {
   "cell_type": "code",
   "execution_count": 87,
   "metadata": {
    "collapsed": false,
    "uuid": "f13d24ff-afa4-453c-b098-ce986f0ec341"
   },
   "outputs": [
    {
     "name": "stdout",
     "output_type": "stream",
     "text": [
      "CPU times: user 3 ms, sys: 11 ms, total: 14 ms\n",
      "Wall time: 13.6 ms\n"
     ]
    }
   ],
   "source": [
    "%%time\n",
    "h5s = pd.HDFStore(filename + '.h5s', 'r')\n",
    "temp = h5s['data']\n",
    "h5s.close()"
   ]
  },
  {
   "cell_type": "code",
   "execution_count": 88,
   "metadata": {
    "collapsed": false,
    "uuid": "96b612da-9d26-498d-9b79-716d0bc9c5fa"
   },
   "outputs": [
    {
     "data": {
      "text/plain": [
       "True"
      ]
     },
     "execution_count": 88,
     "metadata": {},
     "output_type": "execute_result"
    }
   ],
   "source": [
    "np.allclose(np.array(temp), np.array(data))"
   ]
  },
  {
   "cell_type": "code",
   "execution_count": 89,
   "metadata": {
    "collapsed": false,
    "uuid": "1e46b72f-22e2-4cc1-84a9-3c238f47c128"
   },
   "outputs": [],
   "source": [
    "temp = 0.0"
   ]
  },
  {
   "cell_type": "code",
   "execution_count": 90,
   "metadata": {
    "collapsed": false,
    "uuid": "8d68e5ac-7434-4e1c-b5b8-0c6f03171826"
   },
   "outputs": [
    {
     "name": "stdout",
     "output_type": "stream",
     "text": [
      "-rw-r--r-- 1 trial_yves 54446080 Aug  8 11:39 ./data/numbs.db\r\n",
      "-rw-r--r-- 1 trial_yves 48007208 Aug  8 11:39 ./data/numbs.h5s\r\n"
     ]
    }
   ],
   "source": [
    "ll $path*"
   ]
  },
  {
   "cell_type": "markdown",
   "metadata": {},
   "source": [
    "### Data as CSV File"
   ]
  },
  {
   "cell_type": "code",
   "execution_count": 91,
   "metadata": {
    "collapsed": false,
    "uuid": "7925d095-cbde-430b-b2ef-f0f143df15b8"
   },
   "outputs": [
    {
     "name": "stdout",
     "output_type": "stream",
     "text": [
      "CPU times: user 2.18 s, sys: 36 ms, total: 2.21 s\n",
      "Wall time: 3.14 s\n"
     ]
    }
   ],
   "source": [
    "%time data.to_csv(filename + '.csv')"
   ]
  },
  {
   "cell_type": "code",
   "execution_count": 92,
   "metadata": {
    "collapsed": false,
    "uuid": "074e493b-576f-4a3d-a9b5-cafd2045c75c"
   },
   "outputs": [
    {
     "name": "stdout",
     "output_type": "stream",
     "text": [
      "CPU times: user 895 ms, sys: 32 ms, total: 927 ms\n",
      "Wall time: 926 ms\n"
     ]
    },
    {
     "data": {
      "text/plain": [
       "array([[<matplotlib.axes._subplots.AxesSubplot object at 0x7fcce53954d0>,\n",
       "        <matplotlib.axes._subplots.AxesSubplot object at 0x7fcce7489f10>],\n",
       "       [<matplotlib.axes._subplots.AxesSubplot object at 0x7fcce7398690>,\n",
       "        <matplotlib.axes._subplots.AxesSubplot object at 0x7fcce738fb10>]], dtype=object)"
      ]
     },
     "execution_count": 92,
     "metadata": {},
     "output_type": "execute_result"
    },
    {
     "data": {
      "image/png": "[encoded data removed]",
      "text/plain": [
       "<matplotlib.figure.Figure at 0x7fcce5395150>"
      ]
     },
     "metadata": {},
     "output_type": "display_data"
    }
   ],
   "source": [
    "%%time\n",
    "pd.read_csv(filename + '.csv')[['No1', 'No2',\n",
    "                                'No3', 'No4']].hist(bins=20)\n",
    "# tag: data_hist_3\n",
    "# title: Histogram of 4 data sets\n",
    "# size: 60"
   ]
  },
  {
   "cell_type": "markdown",
   "metadata": {},
   "source": [
    "### Data as Excel File"
   ]
  },
  {
   "cell_type": "code",
   "execution_count": 93,
   "metadata": {
    "collapsed": false,
    "uuid": "735350dc-e6af-4ee7-8f27-2505b3454682"
   },
   "outputs": [
    {
     "name": "stdout",
     "output_type": "stream",
     "text": [
      "CPU times: user 13.6 s, sys: 67 ms, total: 13.6 s\n",
      "Wall time: 13.6 s\n"
     ]
    }
   ],
   "source": [
    "%time data[:100000].to_excel(filename + '.xlsx')"
   ]
  },
  {
   "cell_type": "code",
   "execution_count": 94,
   "metadata": {
    "collapsed": false,
    "uuid": "0d2365b9-28b2-4bb5-8515-4c9ca628ec00"
   },
   "outputs": [
    {
     "name": "stdout",
     "output_type": "stream",
     "text": [
      "CPU times: user 6.19 s, sys: 29 ms, total: 6.22 s\n",
      "Wall time: 6.33 s\n"
     ]
    },
    {
     "data": {
      "text/plain": [
       "<matplotlib.axes._subplots.AxesSubplot at 0x7fccd5f46710>"
      ]
     },
     "execution_count": 94,
     "metadata": {},
     "output_type": "execute_result"
    },
    {
     "data": {
      "image/png": "[encoded data removed]",
      "text/plain": [
       "<matplotlib.figure.Figure at 0x7fcce51fd190>"
      ]
     },
     "metadata": {},
     "output_type": "display_data"
    }
   ],
   "source": [
    "%time pd.read_excel(filename + '.xlsx', 'Sheet1').cumsum().plot()\n",
    "# tag: data_paths\n",
    "# title: Paths of random data from Excel file\n",
    "# size: 60"
   ]
  },
  {
   "cell_type": "code",
   "execution_count": 95,
   "metadata": {
    "collapsed": false,
    "uuid": "0f0f0a19-994c-43ff-940f-9cd05b94a0cd"
   },
   "outputs": [
    {
     "name": "stdout",
     "output_type": "stream",
     "text": [
      "-rw-r--r-- 1 trial_yves 48832698 Aug  8 11:39 ./data/numbs.csv\r\n",
      "-rw-r--r-- 1 trial_yves 54446080 Aug  8 11:39 ./data/numbs.db\r\n",
      "-rw-r--r-- 1 trial_yves 48007208 Aug  8 11:39 ./data/numbs.h5s\r\n",
      "-rw-r--r-- 1 trial_yves  4375861 Aug  8 11:40 ./data/numbs.xlsx\r\n"
     ]
    }
   ],
   "source": [
    "ll $path*"
   ]
  },
  {
   "cell_type": "code",
   "execution_count": 96,
   "metadata": {
    "collapsed": false,
    "uuid": "638a2e35-0a12-41be-9743-c7f4f4afcb23"
   },
   "outputs": [],
   "source": [
    "rm -f $path*"
   ]
  },
  {
   "cell_type": "markdown",
   "metadata": {},
   "source": [
    "## Fast I/O with PyTables"
   ]
  },
  {
   "cell_type": "code",
   "execution_count": 97,
   "metadata": {
    "collapsed": false,
    "uuid": "b671c317-5247-4a6b-94c9-0ee2850decba"
   },
   "outputs": [],
   "source": [
    "import numpy as np\n",
    "import tables as tb\n",
    "import datetime as dt\n",
    "import matplotlib.pyplot as plt\n",
    "%matplotlib inline"
   ]
  },
  {
   "cell_type": "markdown",
   "metadata": {},
   "source": [
    "### Working with Tables"
   ]
  },
  {
   "cell_type": "code",
   "execution_count": 98,
   "metadata": {
    "collapsed": false,
    "uuid": "4f7391d1-2f86-4913-af4d-2c603c970605"
   },
   "outputs": [],
   "source": [
    "filename = path + 'tab.h5'\n",
    "h5 = tb.open_file(filename, 'w') "
   ]
  },
  {
   "cell_type": "code",
   "execution_count": 99,
   "metadata": {
    "collapsed": false,
    "uuid": "28c4dabe-bfbe-4a90-bd60-072c2e8f1aa1"
   },
   "outputs": [],
   "source": [
    "rows = 2000000"
   ]
  },
  {
   "cell_type": "code",
   "execution_count": 100,
   "metadata": {
    "collapsed": false,
    "uuid": "60a374d2-b78c-4473-b17a-69982fd27a4c"
   },
   "outputs": [],
   "source": [
    "row_des = {\n",
    "    'Date': tb.StringCol(26, pos=1),\n",
    "    'No1': tb.IntCol(pos=2),\n",
    "    'No2': tb.IntCol(pos=3),\n",
    "    'No3': tb.Float64Col(pos=4),\n",
    "    'No4': tb.Float64Col(pos=5)\n",
    "    }"
   ]
  },
  {
   "cell_type": "code",
   "execution_count": 101,
   "metadata": {
    "collapsed": false,
    "uuid": "027696b8-2e1b-489f-8cb6-c24c6c3702ee"
   },
   "outputs": [],
   "source": [
    "filters = tb.Filters(complevel=0)  # no compression\n",
    "tab = h5.create_table('/', 'ints_floats', row_des,\n",
    "                      title='Integers and Floats',\n",
    "                      expectedrows=rows, filters=filters)"
   ]
  },
  {
   "cell_type": "code",
   "execution_count": 102,
   "metadata": {
    "collapsed": false,
    "uuid": "71ce6940-bde4-437f-9daa-f2f577f3cd7e"
   },
   "outputs": [
    {
     "data": {
      "text/plain": [
       "/ints_floats (Table(0,)) 'Integers and Floats'\n",
       "  description := {\n",
       "  \"Date\": StringCol(itemsize=26, shape=(), dflt='', pos=0),\n",
       "  \"No1\": Int32Col(shape=(), dflt=0, pos=1),\n",
       "  \"No2\": Int32Col(shape=(), dflt=0, pos=2),\n",
       "  \"No3\": Float64Col(shape=(), dflt=0.0, pos=3),\n",
       "  \"No4\": Float64Col(shape=(), dflt=0.0, pos=4)}\n",
       "  byteorder := 'little'\n",
       "  chunkshape := (2621,)"
      ]
     },
     "execution_count": 102,
     "metadata": {},
     "output_type": "execute_result"
    }
   ],
   "source": [
    "tab"
   ]
  },
  {
   "cell_type": "code",
   "execution_count": 103,
   "metadata": {
    "collapsed": false,
    "uuid": "3830afd0-0a7b-439a-81b2-c81194deb7a5"
   },
   "outputs": [],
   "source": [
    "pointer = tab.row"
   ]
  },
  {
   "cell_type": "code",
   "execution_count": 104,
   "metadata": {
    "collapsed": false,
    "uuid": "493096c9-7a8e-4342-b7c3-9390cbc03c6b"
   },
   "outputs": [],
   "source": [
    "ran_int = np.random.randint(0, 10000, size=(rows, 2))\n",
    "ran_flo = np.random.standard_normal((rows, 2)).round(5)"
   ]
  },
  {
   "cell_type": "code",
   "execution_count": 105,
   "metadata": {
    "collapsed": false,
    "uuid": "a15c64b5-17f2-4e11-b051-a6d68ba4bf7f"
   },
   "outputs": [
    {
     "name": "stdout",
     "output_type": "stream",
     "text": [
      "CPU times: user 5.48 s, sys: 1.48 s, total: 6.96 s\n",
      "Wall time: 8.31 s\n"
     ]
    }
   ],
   "source": [
    "%%time\n",
    "for i in range(rows):\n",
    "    pointer['Date'] = dt.datetime.now()\n",
    "    pointer['No1'] = ran_int[i, 0]\n",
    "    pointer['No2'] = ran_int[i, 1] \n",
    "    pointer['No3'] = ran_flo[i, 0]\n",
    "    pointer['No4'] = ran_flo[i, 1] \n",
    "    pointer.append()\n",
    "      # this appends the data and\n",
    "      # moves the pointer one row forward\n",
    "tab.flush()"
   ]
  },
  {
   "cell_type": "code",
   "execution_count": 106,
   "metadata": {
    "collapsed": false,
    "uuid": "0d0739a9-79a3-410a-abf0-20f6b8cef8c5"
   },
   "outputs": [
    {
     "data": {
      "text/plain": [
       "/ints_floats (Table(2000000,)) 'Integers and Floats'\n",
       "  description := {\n",
       "  \"Date\": StringCol(itemsize=26, shape=(), dflt='', pos=0),\n",
       "  \"No1\": Int32Col(shape=(), dflt=0, pos=1),\n",
       "  \"No2\": Int32Col(shape=(), dflt=0, pos=2),\n",
       "  \"No3\": Float64Col(shape=(), dflt=0.0, pos=3),\n",
       "  \"No4\": Float64Col(shape=(), dflt=0.0, pos=4)}\n",
       "  byteorder := 'little'\n",
       "  chunkshape := (2621,)"
      ]
     },
     "execution_count": 106,
     "metadata": {},
     "output_type": "execute_result"
    }
   ],
   "source": [
    "tab"
   ]
  },
  {
   "cell_type": "code",
   "execution_count": 107,
   "metadata": {
    "collapsed": false,
    "uuid": "cff18aaa-9959-41a9-8f05-8ba42192368c"
   },
   "outputs": [
    {
     "name": "stdout",
     "output_type": "stream",
     "text": [
      "-rw-r--r-- 1 trial_yves 100156256 Aug  8 11:40 ./data/tab.h5\r\n"
     ]
    }
   ],
   "source": [
    "ll $path*"
   ]
  },
  {
   "cell_type": "code",
   "execution_count": 108,
   "metadata": {
    "collapsed": false,
    "uuid": "2b81e6f0-86a1-429f-8d7c-ac4bbdcdd616"
   },
   "outputs": [],
   "source": [
    "dty = np.dtype([('Date', 'S26'), ('No1', '<i4'), ('No2', '<i4'),\n",
    "                                 ('No3', '<f8'), ('No4', '<f8')])\n",
    "sarray = np.zeros(len(ran_int), dtype=dty)"
   ]
  },
  {
   "cell_type": "code",
   "execution_count": 109,
   "metadata": {
    "collapsed": false,
    "uuid": "15ef6c1c-c760-4bdd-9e1b-fe46c108abf8"
   },
   "outputs": [
    {
     "data": {
      "text/plain": [
       "array([('', 0, 0, 0.0, 0.0), ('', 0, 0, 0.0, 0.0), ('', 0, 0, 0.0, 0.0),\n",
       "       ..., ('', 0, 0, 0.0, 0.0), ('', 0, 0, 0.0, 0.0),\n",
       "       ('', 0, 0, 0.0, 0.0)], \n",
       "      dtype=[('Date', 'S26'), ('No1', '<i4'), ('No2', '<i4'), ('No3', '<f8'), ('No4', '<f8')])"
      ]
     },
     "execution_count": 109,
     "metadata": {},
     "output_type": "execute_result"
    }
   ],
   "source": [
    "sarray"
   ]
  },
  {
   "cell_type": "code",
   "execution_count": 110,
   "metadata": {
    "collapsed": false,
    "uuid": "87071ae4-4ff2-402e-8746-037fee04b07c"
   },
   "outputs": [
    {
     "name": "stdout",
     "output_type": "stream",
     "text": [
      "CPU times: user 68 ms, sys: 6 ms, total: 74 ms\n",
      "Wall time: 97.3 ms\n"
     ]
    }
   ],
   "source": [
    "%%time\n",
    "sarray['Date'] = dt.datetime.now()\n",
    "sarray['No1'] = ran_int[:, 0]\n",
    "sarray['No2'] = ran_int[:, 1]\n",
    "sarray['No3'] = ran_flo[:, 0]\n",
    "sarray['No4'] = ran_flo[:, 1]"
   ]
  },
  {
   "cell_type": "code",
   "execution_count": 111,
   "metadata": {
    "collapsed": false,
    "uuid": "992c3894-7eb7-4699-9e6b-2a6fb4e6eabf"
   },
   "outputs": [
    {
     "name": "stdout",
     "output_type": "stream",
     "text": [
      "CPU times: user 17 ms, sys: 67 ms, total: 84 ms\n",
      "Wall time: 137 ms\n"
     ]
    },
    {
     "data": {
      "text/plain": [
       "/ints_floats_from_array (Table(2000000,)) 'Integers and Floats'\n",
       "  description := {\n",
       "  \"Date\": StringCol(itemsize=26, shape=(), dflt='', pos=0),\n",
       "  \"No1\": Int32Col(shape=(), dflt=0, pos=1),\n",
       "  \"No2\": Int32Col(shape=(), dflt=0, pos=2),\n",
       "  \"No3\": Float64Col(shape=(), dflt=0.0, pos=3),\n",
       "  \"No4\": Float64Col(shape=(), dflt=0.0, pos=4)}\n",
       "  byteorder := 'little'\n",
       "  chunkshape := (2621,)"
      ]
     },
     "execution_count": 111,
     "metadata": {},
     "output_type": "execute_result"
    }
   ],
   "source": [
    "%%time\n",
    "h5.create_table('/', 'ints_floats_from_array', sarray,\n",
    "                      title='Integers and Floats',\n",
    "                      expectedrows=rows, filters=filters)"
   ]
  },
  {
   "cell_type": "code",
   "execution_count": 112,
   "metadata": {
    "collapsed": false,
    "uuid": "a7616365-19cf-4cbb-a6a0-01c3b88cb457"
   },
   "outputs": [
    {
     "data": {
      "text/plain": [
       "File(filename=./data/tab.h5, title=u'', mode='w', root_uep='/', filters=Filters(complevel=0, shuffle=False, fletcher32=False, least_significant_digit=None))\n",
       "/ (RootGroup) u''\n",
       "/ints_floats (Table(2000000,)) 'Integers and Floats'\n",
       "  description := {\n",
       "  \"Date\": StringCol(itemsize=26, shape=(), dflt='', pos=0),\n",
       "  \"No1\": Int32Col(shape=(), dflt=0, pos=1),\n",
       "  \"No2\": Int32Col(shape=(), dflt=0, pos=2),\n",
       "  \"No3\": Float64Col(shape=(), dflt=0.0, pos=3),\n",
       "  \"No4\": Float64Col(shape=(), dflt=0.0, pos=4)}\n",
       "  byteorder := 'little'\n",
       "  chunkshape := (2621,)\n",
       "/ints_floats_from_array (Table(2000000,)) 'Integers and Floats'\n",
       "  description := {\n",
       "  \"Date\": StringCol(itemsize=26, shape=(), dflt='', pos=0),\n",
       "  \"No1\": Int32Col(shape=(), dflt=0, pos=1),\n",
       "  \"No2\": Int32Col(shape=(), dflt=0, pos=2),\n",
       "  \"No3\": Float64Col(shape=(), dflt=0.0, pos=3),\n",
       "  \"No4\": Float64Col(shape=(), dflt=0.0, pos=4)}\n",
       "  byteorder := 'little'\n",
       "  chunkshape := (2621,)"
      ]
     },
     "execution_count": 112,
     "metadata": {},
     "output_type": "execute_result"
    }
   ],
   "source": [
    "h5"
   ]
  },
  {
   "cell_type": "code",
   "execution_count": 113,
   "metadata": {
    "collapsed": false,
    "uuid": "f498bb1c-ef46-4ee9-956d-21f292687323"
   },
   "outputs": [],
   "source": [
    "h5.remove_node('/', 'ints_floats_from_array')"
   ]
  },
  {
   "cell_type": "code",
   "execution_count": 114,
   "metadata": {
    "collapsed": false,
    "uuid": "e99634bc-effd-43ee-ac2e-4b66b925433b"
   },
   "outputs": [
    {
     "data": {
      "text/plain": [
       "array([('2015-08-08 11:40:21.125696', 8447, 1703, -0.55426, 1.00547),\n",
       "       ('2015-08-08 11:40:21.125777', 4298, 4935, 1.05008, -0.84248),\n",
       "       ('2015-08-08 11:40:21.125789', 4966, 4264, -1.11746, -1.39637)], \n",
       "      dtype=[('Date', 'S26'), ('No1', '<i4'), ('No2', '<i4'), ('No3', '<f8'), ('No4', '<f8')])"
      ]
     },
     "execution_count": 114,
     "metadata": {},
     "output_type": "execute_result"
    }
   ],
   "source": [
    "tab[:3]"
   ]
  },
  {
   "cell_type": "code",
   "execution_count": 115,
   "metadata": {
    "collapsed": false,
    "uuid": "d84a41bd-36d3-4e11-8a4d-44440551a493"
   },
   "outputs": [
    {
     "data": {
      "text/plain": [
       "array([ 1.00547, -0.84248, -1.39637, -0.36036])"
      ]
     },
     "execution_count": 115,
     "metadata": {},
     "output_type": "execute_result"
    }
   ],
   "source": [
    "tab[:4]['No4']"
   ]
  },
  {
   "cell_type": "code",
   "execution_count": 116,
   "metadata": {
    "collapsed": false,
    "uuid": "f7616601-4e98-42cc-9935-c855877d178c"
   },
   "outputs": [
    {
     "name": "stdout",
     "output_type": "stream",
     "text": [
      "CPU times: user 14 ms, sys: 23 ms, total: 37 ms\n",
      "Wall time: 36.8 ms\n"
     ]
    },
    {
     "data": {
      "text/plain": [
       "-343.2385100000007"
      ]
     },
     "execution_count": 116,
     "metadata": {},
     "output_type": "execute_result"
    }
   ],
   "source": [
    "%time np.sum(tab[:]['No3'])"
   ]
  },
  {
   "cell_type": "code",
   "execution_count": 117,
   "metadata": {
    "collapsed": false,
    "uuid": "9061ed32-44db-4c13-a44a-92b313b4af40"
   },
   "outputs": [
    {
     "name": "stdout",
     "output_type": "stream",
     "text": [
      "CPU times: user 20 ms, sys: 24 ms, total: 44 ms\n",
      "Wall time: 44.1 ms\n"
     ]
    },
    {
     "data": {
      "text/plain": [
       "133356802.96212333"
      ]
     },
     "execution_count": 117,
     "metadata": {},
     "output_type": "execute_result"
    }
   ],
   "source": [
    "%time np.sum(np.sqrt(tab[:]['No1']))"
   ]
  },
  {
   "cell_type": "code",
   "execution_count": 118,
   "metadata": {
    "collapsed": false,
    "uuid": "558b4627-15f8-4a8f-8d5a-fc7213ee074e"
   },
   "outputs": [
    {
     "name": "stdout",
     "output_type": "stream",
     "text": [
      "2000000\n",
      "CPU times: user 196 ms, sys: 38 ms, total: 234 ms\n",
      "Wall time: 233 ms\n"
     ]
    },
    {
     "data": {
      "image/png": "[encoded data removed]",
      "text/plain": [
       "<matplotlib.figure.Figure at 0x7fccdd62d550>"
      ]
     },
     "metadata": {},
     "output_type": "display_data"
    }
   ],
   "source": [
    "%%time\n",
    "plt.hist(tab[:]['No3'], bins=30)\n",
    "plt.grid(True)\n",
    "print len(tab[:]['No3'])\n",
    "# tag: data_hist\n",
    "# title: Histogram of data\n",
    "# size: 60"
   ]
  },
  {
   "cell_type": "code",
   "execution_count": 119,
   "metadata": {
    "collapsed": false,
    "uuid": "62ea755e-493b-4230-96ad-0ce7a0a33acc"
   },
   "outputs": [
    {
     "name": "stdout",
     "output_type": "stream",
     "text": [
      "CPU times: user 281 ms, sys: 27 ms, total: 308 ms\n",
      "Wall time: 322 ms\n"
     ]
    }
   ],
   "source": [
    "%%time\n",
    "res = np.array([(row['No3'], row['No4']) for row in\n",
    "        tab.where('((No3 < -0.5) | (No3 > 0.5)) \\\n",
    "                 & ((No4 < -1) | (No4 > 1))')])[::100]"
   ]
  },
  {
   "cell_type": "code",
   "execution_count": 120,
   "metadata": {
    "collapsed": false,
    "uuid": "705d91ca-dc94-4db1-84d7-164fb5f5f1af"
   },
   "outputs": [
    {
     "data": {
      "image/png": "[encoded data removed]",
      "text/plain": [
       "<matplotlib.figure.Figure at 0x7fccdceaa890>"
      ]
     },
     "metadata": {},
     "output_type": "display_data"
    }
   ],
   "source": [
    "plt.plot(res.T[0], res.T[1], 'ro')\n",
    "plt.grid(True)\n",
    "# tag: scatter_data\n",
    "# title: Scatter plot of query result\n",
    "# size: 70"
   ]
  },
  {
   "cell_type": "code",
   "execution_count": 121,
   "metadata": {
    "collapsed": false,
    "uuid": "a9e8e16c-9af5-48dc-bf5c-39b353f5c09b"
   },
   "outputs": [
    {
     "name": "stdout",
     "output_type": "stream",
     "text": [
      "Max              4.928\n",
      "Ave             -0.000\n",
      "Min             -5.233\n",
      "Std              0.999\n",
      "CPU times: user 18 ms, sys: 17 ms, total: 35 ms\n",
      "Wall time: 35.1 ms\n"
     ]
    }
   ],
   "source": [
    "%%time\n",
    "values = tab.cols.No3[:]\n",
    "print \"Max %18.3f\" % values.max()\n",
    "print \"Ave %18.3f\" % values.mean()\n",
    "print \"Min %18.3f\" % values.min()\n",
    "print \"Std %18.3f\" % values.std()"
   ]
  },
  {
   "cell_type": "code",
   "execution_count": 122,
   "metadata": {
    "collapsed": false,
    "uuid": "6cfb0992-c393-45b0-999b-b242ea9c1ce6"
   },
   "outputs": [
    {
     "name": "stdout",
     "output_type": "stream",
     "text": [
      "(193, 4614)\n",
      "(9912, 5205)\n",
      "(9863, 5004)\n",
      "(9988, 4646)\n",
      "CPU times: user 67 ms, sys: 11 ms, total: 78 ms\n",
      "Wall time: 45.9 ms\n"
     ]
    }
   ],
   "source": [
    "%%time\n",
    "results = [(row['No1'], row['No2']) for row in\n",
    "           tab.where('((No1 > 9800) | (No1 < 200)) \\\n",
    "                    & ((No2 > 4500) & (No2 < 5500))')]\n",
    "for res in results[:4]:\n",
    "    print res"
   ]
  },
  {
   "cell_type": "code",
   "execution_count": 123,
   "metadata": {
    "collapsed": false,
    "uuid": "399c76db-4f79-4264-b25f-50eab32303e0"
   },
   "outputs": [
    {
     "name": "stdout",
     "output_type": "stream",
     "text": [
      "(1234, 9870)\n",
      "(1234, 9843)\n",
      "(1234, 9793)\n",
      "(1234, 9920)\n",
      "(1234, 9991)\n",
      "(1234, 9791)\n",
      "CPU times: user 24 ms, sys: 20 ms, total: 44 ms\n",
      "Wall time: 31.1 ms\n"
     ]
    }
   ],
   "source": [
    "%%time\n",
    "results = [(row['No1'], row['No2']) for row in\n",
    "           tab.where('(No1 == 1234) & (No2 > 9776)')]\n",
    "for res in results:\n",
    "    print res"
   ]
  },
  {
   "cell_type": "markdown",
   "metadata": {},
   "source": [
    "### Working with Compressed Tables"
   ]
  },
  {
   "cell_type": "code",
   "execution_count": 124,
   "metadata": {
    "collapsed": false,
    "uuid": "4e6ac124-2500-47c5-9478-2eaaba25ea00"
   },
   "outputs": [],
   "source": [
    "filename = path + 'tab.h5c'\n",
    "h5c = tb.open_file(filename, 'w') "
   ]
  },
  {
   "cell_type": "code",
   "execution_count": 125,
   "metadata": {
    "collapsed": false,
    "uuid": "830338b0-ec10-4f95-8058-62b1858b46b7"
   },
   "outputs": [],
   "source": [
    "filters = tb.Filters(complevel=4, complib='blosc')"
   ]
  },
  {
   "cell_type": "code",
   "execution_count": 126,
   "metadata": {
    "collapsed": false,
    "uuid": "d11f1cdc-c54a-49f3-992d-b76f7cad5a4a"
   },
   "outputs": [],
   "source": [
    "tabc = h5c.create_table('/', 'ints_floats', sarray,\n",
    "                        title='Integers and Floats',\n",
    "                      expectedrows=rows, filters=filters)"
   ]
  },
  {
   "cell_type": "code",
   "execution_count": 127,
   "metadata": {
    "collapsed": false,
    "uuid": "a173ee6b-7dc3-4071-b995-842a46c46e97"
   },
   "outputs": [
    {
     "name": "stdout",
     "output_type": "stream",
     "text": [
      "CPU times: user 337 ms, sys: 34 ms, total: 371 ms\n",
      "Wall time: 319 ms\n"
     ]
    }
   ],
   "source": [
    "%%time\n",
    "res = np.array([(row['No3'], row['No4']) for row in\n",
    "             tabc.where('((No3 < -0.5) | (No3 > 0.5)) \\\n",
    "                       & ((No4 < -1) | (No4 > 1))')])[::100]"
   ]
  },
  {
   "cell_type": "code",
   "execution_count": 128,
   "metadata": {
    "collapsed": false,
    "uuid": "f4e1df40-c747-49a2-815c-f1cbd33f621d"
   },
   "outputs": [
    {
     "name": "stdout",
     "output_type": "stream",
     "text": [
      "CPU times: user 9 ms, sys: 19 ms, total: 28 ms\n",
      "Wall time: 27.6 ms\n"
     ]
    }
   ],
   "source": [
    "%time arr_non = tab.read()"
   ]
  },
  {
   "cell_type": "code",
   "execution_count": 129,
   "metadata": {
    "collapsed": false,
    "uuid": "f7428798-5946-49be-88b1-d67d26a41e70"
   },
   "outputs": [
    {
     "name": "stdout",
     "output_type": "stream",
     "text": [
      "CPU times: user 75 ms, sys: 10 ms, total: 85 ms\n",
      "Wall time: 85.6 ms\n"
     ]
    }
   ],
   "source": [
    "%time arr_com = tabc.read()"
   ]
  },
  {
   "cell_type": "code",
   "execution_count": 130,
   "metadata": {
    "collapsed": false,
    "uuid": "e21f417f-f123-41b5-b26b-ecebbbaa5c85"
   },
   "outputs": [
    {
     "name": "stdout",
     "output_type": "stream",
     "text": [
      "-rw-r--r-- 1 trial_yves 200312344 Aug  8 11:40 ./data/tab.h5\r\n",
      "-rw-r--r-- 1 trial_yves  41330925 Aug  8 11:40 ./data/tab.h5c\r\n"
     ]
    }
   ],
   "source": [
    "ll $path*"
   ]
  },
  {
   "cell_type": "code",
   "execution_count": 131,
   "metadata": {
    "collapsed": false,
    "uuid": "ea7dd80f-44d8-4cd9-a16f-308a302dd460"
   },
   "outputs": [],
   "source": [
    "h5c.close()"
   ]
  },
  {
   "cell_type": "markdown",
   "metadata": {},
   "source": [
    "### Working with Arrays"
   ]
  },
  {
   "cell_type": "code",
   "execution_count": 132,
   "metadata": {
    "collapsed": false,
    "uuid": "ee67fc74-5820-4037-b8d9-281c74435160"
   },
   "outputs": [
    {
     "name": "stdout",
     "output_type": "stream",
     "text": [
      "CPU times: user 2 ms, sys: 47 ms, total: 49 ms\n",
      "Wall time: 71.9 ms\n"
     ]
    }
   ],
   "source": [
    "%%time\n",
    "arr_int = h5.create_array('/', 'integers', ran_int)\n",
    "arr_flo = h5.create_array('/', 'floats', ran_flo)"
   ]
  },
  {
   "cell_type": "code",
   "execution_count": 133,
   "metadata": {
    "collapsed": false,
    "uuid": "c91c089b-4727-4928-8069-2f74ab1f2c61"
   },
   "outputs": [
    {
     "data": {
      "text/plain": [
       "File(filename=./data/tab.h5, title=u'', mode='w', root_uep='/', filters=Filters(complevel=0, shuffle=False, fletcher32=False, least_significant_digit=None))\n",
       "/ (RootGroup) u''\n",
       "/floats (Array(2000000, 2)) ''\n",
       "  atom := Float64Atom(shape=(), dflt=0.0)\n",
       "  maindim := 0\n",
       "  flavor := 'numpy'\n",
       "  byteorder := 'little'\n",
       "  chunkshape := None\n",
       "/integers (Array(2000000, 2)) ''\n",
       "  atom := Int64Atom(shape=(), dflt=0)\n",
       "  maindim := 0\n",
       "  flavor := 'numpy'\n",
       "  byteorder := 'little'\n",
       "  chunkshape := None\n",
       "/ints_floats (Table(2000000,)) 'Integers and Floats'\n",
       "  description := {\n",
       "  \"Date\": StringCol(itemsize=26, shape=(), dflt='', pos=0),\n",
       "  \"No1\": Int32Col(shape=(), dflt=0, pos=1),\n",
       "  \"No2\": Int32Col(shape=(), dflt=0, pos=2),\n",
       "  \"No3\": Float64Col(shape=(), dflt=0.0, pos=3),\n",
       "  \"No4\": Float64Col(shape=(), dflt=0.0, pos=4)}\n",
       "  byteorder := 'little'\n",
       "  chunkshape := (2621,)"
      ]
     },
     "execution_count": 133,
     "metadata": {},
     "output_type": "execute_result"
    }
   ],
   "source": [
    "h5"
   ]
  },
  {
   "cell_type": "code",
   "execution_count": 134,
   "metadata": {
    "collapsed": false,
    "uuid": "5bf3d20c-0dd1-447f-b7ca-34adb0e9a2c6"
   },
   "outputs": [
    {
     "name": "stdout",
     "output_type": "stream",
     "text": [
      "-rw-r--r-- 1 trial_yves 262344498 Aug  8 11:40 ./data/tab.h5\r\n",
      "-rw-r--r-- 1 trial_yves  41330925 Aug  8 11:40 ./data/tab.h5c\r\n"
     ]
    }
   ],
   "source": [
    "ll $path*"
   ]
  },
  {
   "cell_type": "code",
   "execution_count": 135,
   "metadata": {
    "collapsed": false,
    "uuid": "3dfffbc8-ab8e-4c6e-9e18-316d220e51a0"
   },
   "outputs": [],
   "source": [
    "h5.close()"
   ]
  },
  {
   "cell_type": "code",
   "execution_count": 136,
   "metadata": {
    "collapsed": false,
    "uuid": "2a157cb2-dcc1-44fe-b4da-658bbe2b6ebb"
   },
   "outputs": [],
   "source": [
    "!rm -f $path*"
   ]
  },
  {
   "cell_type": "markdown",
   "metadata": {},
   "source": [
    "### Out-of-Memory Computations"
   ]
  },
  {
   "cell_type": "code",
   "execution_count": 137,
   "metadata": {
    "collapsed": false,
    "uuid": "e241b3b2-bfe1-45b4-9e85-0b39586ca42a"
   },
   "outputs": [],
   "source": [
    "filename = path + 'array.h5'\n",
    "h5 = tb.open_file(filename, 'w') "
   ]
  },
  {
   "cell_type": "code",
   "execution_count": 138,
   "metadata": {
    "collapsed": false,
    "uuid": "dd0e24b0-d0cc-4cb0-90e0-7c6445dcb1d2"
   },
   "outputs": [],
   "source": [
    "n = 100\n",
    "ear = h5.createEArray(h5.root, 'ear',\n",
    "                      atom=tb.Float64Atom(),\n",
    "                      shape=(0, n))"
   ]
  },
  {
   "cell_type": "code",
   "execution_count": 139,
   "metadata": {
    "collapsed": false,
    "uuid": "4dabef84-39ca-4dd4-a8ab-edc65d340965"
   },
   "outputs": [
    {
     "name": "stdout",
     "output_type": "stream",
     "text": [
      "CPU times: user 22 ms, sys: 41 ms, total: 63 ms\n",
      "Wall time: 103 ms\n"
     ]
    }
   ],
   "source": [
    "%%time\n",
    "rand = np.random.standard_normal((n, n))\n",
    "for i in range(750):\n",
    "    ear.append(rand)\n",
    "ear.flush()"
   ]
  },
  {
   "cell_type": "code",
   "execution_count": 140,
   "metadata": {
    "collapsed": false,
    "uuid": "4dd0218f-b9ca-4ee5-8a1f-af071e346c55"
   },
   "outputs": [
    {
     "data": {
      "text/plain": [
       "/ear (EArray(75000, 100)) ''\n",
       "  atom := Float64Atom(shape=(), dflt=0.0)\n",
       "  maindim := 0\n",
       "  flavor := 'numpy'\n",
       "  byteorder := 'little'\n",
       "  chunkshape := (81, 100)"
      ]
     },
     "execution_count": 140,
     "metadata": {},
     "output_type": "execute_result"
    }
   ],
   "source": [
    "ear"
   ]
  },
  {
   "cell_type": "code",
   "execution_count": 141,
   "metadata": {
    "collapsed": false,
    "uuid": "58694407-5d44-400d-99a1-252ea1595514"
   },
   "outputs": [
    {
     "data": {
      "text/plain": [
       "60004800L"
      ]
     },
     "execution_count": 141,
     "metadata": {},
     "output_type": "execute_result"
    }
   ],
   "source": [
    "ear.size_on_disk"
   ]
  },
  {
   "cell_type": "code",
   "execution_count": 142,
   "metadata": {
    "collapsed": false,
    "uuid": "f29bef2e-37fb-4f47-83fd-ef09041f2f77"
   },
   "outputs": [],
   "source": [
    "out = h5.createEArray(h5.root, 'out',\n",
    "                      atom=tb.Float64Atom(),\n",
    "                      shape=(0, n))"
   ]
  },
  {
   "cell_type": "code",
   "execution_count": 143,
   "metadata": {
    "collapsed": false,
    "uuid": "aedc7c36-5839-4df5-8391-f0620b2c1381"
   },
   "outputs": [],
   "source": [
    "expr = tb.Expr('3 * sin(ear) + sqrt(abs(ear))')\n",
    "  # the numerical expression as a string object\n",
    "expr.setOutput(out, append_mode=True)\n",
    "  # target to store results is disk-based array"
   ]
  },
  {
   "cell_type": "code",
   "execution_count": 144,
   "metadata": {
    "collapsed": false,
    "uuid": "79542d3f-60fe-4303-abb8-2a21ce9512f2"
   },
   "outputs": [
    {
     "name": "stdout",
     "output_type": "stream",
     "text": [
      "CPU times: user 299 ms, sys: 49 ms, total: 348 ms\n",
      "Wall time: 155 ms\n"
     ]
    },
    {
     "data": {
      "text/plain": [
       "/out (EArray(75000, 100)) ''\n",
       "  atom := Float64Atom(shape=(), dflt=0.0)\n",
       "  maindim := 0\n",
       "  flavor := 'numpy'\n",
       "  byteorder := 'little'\n",
       "  chunkshape := (81, 100)"
      ]
     },
     "execution_count": 144,
     "metadata": {},
     "output_type": "execute_result"
    }
   ],
   "source": [
    "%time expr.eval()\n",
    "  # evaluation of the numerical expression\n",
    "  # and storage of results in disk-based array"
   ]
  },
  {
   "cell_type": "code",
   "execution_count": 145,
   "metadata": {
    "collapsed": false,
    "uuid": "19d61e69-3488-4556-8d2b-cc06edb9c39e"
   },
   "outputs": [
    {
     "data": {
      "text/plain": [
       "array([ 1.56955402, -1.48452718,  2.79476317, -0.86067924, -1.77354003,\n",
       "        4.0839989 , -0.1265978 , -0.809659  , -1.18918272,  3.65645718])"
      ]
     },
     "execution_count": 145,
     "metadata": {},
     "output_type": "execute_result"
    }
   ],
   "source": [
    "out[0, :10]"
   ]
  },
  {
   "cell_type": "code",
   "execution_count": 146,
   "metadata": {
    "collapsed": false,
    "uuid": "2409ddc9-2963-4599-9d8c-a3abc1e010d3"
   },
   "outputs": [
    {
     "name": "stdout",
     "output_type": "stream",
     "text": [
      "CPU times: user 10 ms, sys: 9 ms, total: 19 ms\n",
      "Wall time: 36.4 ms\n"
     ]
    }
   ],
   "source": [
    "%time imarray = ear.read()\n",
    "  # read whole array into memory"
   ]
  },
  {
   "cell_type": "code",
   "execution_count": 147,
   "metadata": {
    "collapsed": false,
    "uuid": "65d5272f-66d9-4fdd-a16a-ae900f2842c4"
   },
   "outputs": [],
   "source": [
    "import numexpr as ne\n",
    "expr = '3 * sin(imarray) + sqrt(abs(imarray))'"
   ]
  },
  {
   "cell_type": "code",
   "execution_count": 148,
   "metadata": {
    "collapsed": false,
    "uuid": "d58a70be-dc0f-444f-895d-9115864059c8"
   },
   "outputs": [
    {
     "name": "stdout",
     "output_type": "stream",
     "text": [
      "CPU times: user 252 ms, sys: 12 ms, total: 264 ms\n",
      "Wall time: 40.2 ms\n"
     ]
    },
    {
     "data": {
      "text/plain": [
       "array([ 1.56955402, -1.48452718,  2.79476317, -0.86067924, -1.77354003,\n",
       "        4.0839989 , -0.1265978 , -0.809659  , -1.18918272,  3.65645718])"
      ]
     },
     "execution_count": 148,
     "metadata": {},
     "output_type": "execute_result"
    }
   ],
   "source": [
    "ne.set_num_threads(16)\n",
    "%time ne.evaluate(expr)[0, :10]"
   ]
  },
  {
   "cell_type": "code",
   "execution_count": 149,
   "metadata": {
    "collapsed": false,
    "uuid": "d0c3ef43-f285-4dc1-b0ab-af206e6b3dd6"
   },
   "outputs": [],
   "source": [
    "h5.close()"
   ]
  },
  {
   "cell_type": "code",
   "execution_count": 150,
   "metadata": {
    "collapsed": false,
    "uuid": "4343a20a-8132-4fbf-9360-3a627da7d0cf"
   },
   "outputs": [],
   "source": [
    "!rm -f $path*"
   ]
  },
  {
   "cell_type": "markdown",
   "metadata": {},
   "source": [
    "## Conclusions"
   ]
  },
  {
   "cell_type": "markdown",
   "metadata": {},
   "source": [
    "## Further Reading"
   ]
  },
  {
   "cell_type": "markdown",
   "metadata": {},
   "source": [
    "<img src=\"http://hilpisch.com/tpq_logo.png\" alt=\"The Python Quants\" width=\"35%\" align=\"right\" border=\"0\"><br>\n",
    "\n",
    "<a href=\"http://www.pythonquants.com\" target=\"_blank\">www.pythonquants.com</a> | <a href=\"http://twitter.com/dyjh\" target=\"_blank\">@dyjh</a>\n",
    "\n",
    "<a href=\"mailto:analytics@pythonquants.com\">analytics@pythonquants.com</a>\n",
    "\n",
    "**Python Quant Platform** |\n",
    "<a href=\"http://oreilly.quant-platform.com\">http://oreilly.quant-platform.com</a>\n",
    "\n",
    "**Derivatives Analytics with Python** |\n",
    "<a href=\"http://www.derivatives-analytics-with-python.com\" target=\"_blank\">Derivatives Analytics @ Wiley Finance</a>\n",
    "\n",
    "**Python for Finance** |\n",
    "<a href=\"http://shop.oreilly.com/product/0636920032441.do\" target=\"_blank\">Python for Finance @ O'Reilly</a>"
   ]
  }
 ],
 "metadata": {
  "kernelspec": {
   "display_name": "Python 2",
   "language": "python2",
   "name": "python2"
  },
  "language_info": {
   "codemirror_mode": {
    "name": "ipython",
    "version": 2
   },
   "file_extension": ".py",
   "mimetype": "text/x-python",
   "name": "python",
   "nbconvert_exporter": "python",
   "pygments_lexer": "ipython2",
   "version": "2.7.10"
  }
 },
 "nbformat": 4,
 "nbformat_minor": 0
}
